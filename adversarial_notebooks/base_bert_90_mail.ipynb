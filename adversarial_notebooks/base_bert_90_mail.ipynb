{
  "cells": [
    {
      "cell_type": "markdown",
      "metadata": {
        "id": "2WJfM6R9w_K8"
      },
      "source": [
        "# Training a neural emotion detection using BERT\n"
      ]
    },
    {
      "cell_type": "markdown",
      "metadata": {
        "id": "WLKcxpYaE8ub"
      },
      "source": [
        "# 1. Setup"
      ]
    },
    {
      "cell_type": "code",
      "execution_count": 1,
      "metadata": {
        "id": "7rCsHIWmEBkX"
      },
      "outputs": [],
      "source": [
        "PASTEL_DATASET = '.'\n",
        "!mkdir -p {PASTEL_DATASET}"
      ]
    },
    {
      "cell_type": "code",
      "source": [
        "'''import pandas as pd\n",
        "\n",
        "raw_df = pd.read_excel('CLEAR_corpus_final.xlsx')\n",
        "raw_df['text'] = raw_df['Excerpt']\n",
        "raw_df['genre'] = raw_df['BT_easiness']\n",
        "raw_df = raw_df.sample(frac=1.0)\n",
        "\n",
        "train_df = raw_df.iloc[:int(0.8 * len(raw_df))]\n",
        "test_df = raw_df.iloc[int(0.8 * len(raw_df)):]\n",
        "train_df.to_csv(f'{PASTEL_DATASET}/train.csv')\n",
        "test_df.to_csv(f'{PASTEL_DATASET}/test.csv')'''"
      ],
      "metadata": {
        "id": "gGa20MG8N5QD",
        "colab": {
          "base_uri": "https://localhost:8080/",
          "height": 72
        },
        "outputId": "1e3e4e36-55fd-4789-9276-2aef0889d483"
      },
      "execution_count": 2,
      "outputs": [
        {
          "output_type": "execute_result",
          "data": {
            "text/plain": [
              "\"import pandas as pd\\n\\nraw_df = pd.read_excel('CLEAR_corpus_final.xlsx')\\nraw_df['text'] = raw_df['Excerpt']\\nraw_df['genre'] = raw_df['BT_easiness']\\nraw_df = raw_df.sample(frac=1.0)\\n\\ntrain_df = raw_df.iloc[:int(0.8 * len(raw_df))]\\ntest_df = raw_df.iloc[int(0.8 * len(raw_df)):]\\ntrain_df.to_csv(f'{PASTEL_DATASET}/train.csv')\\ntest_df.to_csv(f'{PASTEL_DATASET}/test.csv')\""
            ],
            "application/vnd.google.colaboratory.intrinsic+json": {
              "type": "string"
            }
          },
          "metadata": {},
          "execution_count": 2
        }
      ]
    },
    {
      "cell_type": "code",
      "source": [],
      "metadata": {
        "id": "CC0yc1pmOMly"
      },
      "execution_count": 2,
      "outputs": []
    },
    {
      "cell_type": "markdown",
      "metadata": {
        "id": "4mxB8Ag1FCE3"
      },
      "source": [
        "## 1.1. Using Colab GPU for training"
      ]
    },
    {
      "cell_type": "code",
      "execution_count": 3,
      "metadata": {
        "colab": {
          "base_uri": "https://localhost:8080/"
        },
        "id": "24GNUdYRE-jv",
        "outputId": "0ebc8b72-77e6-41dd-8494-ad54b90b5dcf"
      },
      "outputs": [
        {
          "output_type": "stream",
          "name": "stdout",
          "text": [
            "We will use the GPU: Tesla T4\n"
          ]
        }
      ],
      "source": [
        "import torch\n",
        "\n",
        "# If there's a GPU avaiable, tell PyTorch to use the GPU,\n",
        "# otherwise, using the CPU instead.\n",
        "if torch.cuda.is_available():\n",
        "  device = torch.device(\"cuda\")\n",
        "  print('We will use the GPU:', torch.cuda.get_device_name(0))\n",
        "else:\n",
        "  device = torch.device(\"cpu\")\n",
        "  print('We will use the CPU because no GPU available.')"
      ]
    },
    {
      "cell_type": "markdown",
      "metadata": {
        "id": "mdJoYx-IFZNL"
      },
      "source": [
        "## 1.2. Installing the Hugging Face Library"
      ]
    },
    {
      "cell_type": "markdown",
      "metadata": {
        "id": "n1Mf_l2gLo3g"
      },
      "source": [
        "Install the pytorch interface for BERT by Hugging Face."
      ]
    },
    {
      "cell_type": "code",
      "execution_count": 4,
      "metadata": {
        "id": "8QbUEEkwLoCt"
      },
      "outputs": [],
      "source": [
        "#!pip install transformers"
      ]
    },
    {
      "cell_type": "markdown",
      "metadata": {
        "id": "OniLT7F0Fns5"
      },
      "source": [
        "# 2. Loading EmoBank Dataset"
      ]
    },
    {
      "cell_type": "markdown",
      "metadata": {
        "id": "cm3bmG8VI5mA"
      },
      "source": [
        "The dataset that we work on is called EmoBank, which comprises 10k sentences balancing multiple genres.\n",
        "\n",
        "It's hosted on GitHub in this repo: https://github.com/JULIELab/EmoBank"
      ]
    },
    {
      "cell_type": "code",
      "source": [
        "!ls {PASTEL_DATASET}"
      ],
      "metadata": {
        "colab": {
          "base_uri": "https://localhost:8080/"
        },
        "id": "ZC2_6MbCBFcv",
        "outputId": "3bfe081a-3081-45d6-c4bc-e9b985223980"
      },
      "execution_count": 5,
      "outputs": [
        {
          "output_type": "stream",
          "name": "stdout",
          "text": [
            "awd_test_topics.csv  awd_train_topics.csv  mail_test_topics.csv  mail_train_topics.csv\tsample_data\n"
          ]
        }
      ]
    },
    {
      "cell_type": "code",
      "source": [
        "import numpy as np\n",
        "\n",
        "young_values = ['0-20', '21-30', '31-45']\n",
        "\n",
        "def is_young(s: str):\n",
        "  return int(s in young_values)"
      ],
      "metadata": {
        "id": "bNYEWivvma8G"
      },
      "execution_count": 6,
      "outputs": []
    },
    {
      "cell_type": "code",
      "source": [
        "import pandas as pd\n",
        "\n",
        "\n",
        "train_mail = pd.read_csv('mail_train_topics.csv').sample(frac=1.0, random_state=42)\n",
        "train_awd = pd.read_csv('awd_train_topics.csv').sample(frac=1.0, random_state=42)\n",
        "train_mail['confounder'] = 1\n",
        "train_awd['confounder'] = 0\n",
        "\n",
        "test_mail = pd.read_csv('mail_test_topics.csv').sample(frac=1.0, random_state=42)\n",
        "test_awd = pd.read_csv('awd_test_topics.csv').sample(frac=1.0, random_state=42)\n",
        "test_mail['confounder'] = 1\n",
        "test_awd['confounder'] = 0\n",
        "\n",
        "assert len(train_mail) == len(train_awd)\n",
        "\n",
        "shift_train_75_mail_25_awd = pd.concat([\n",
        "    train_mail[:int(0.9 * len(train_mail))],\n",
        "    train_awd[:int(0.1 * len(train_awd))]\n",
        "])\n",
        "\n",
        "shift_test_25_mail_75_awd = pd.concat([\n",
        "    train_mail[:int(0.1 * len(test_mail))],\n",
        "    train_awd[:int(0.9 * len(test_awd))]\n",
        "])\n",
        "\n",
        "shift_train_75_mail_25_awd.to_csv('shift_train_75_mail_25_awd.csv')\n",
        "shift_test_25_mail_75_awd.to_csv('shift_test_25_mail_75_awd.csv')\n",
        "shift_test_25_mail_75_awd"
      ],
      "metadata": {
        "id": "Qn0oNjw3HYUa",
        "colab": {
          "base_uri": "https://localhost:8080/",
          "height": 423
        },
        "outputId": "418f6b21-5349-47e0-95f9-e3ebee898fac"
      },
      "execution_count": 7,
      "outputs": [
        {
          "output_type": "execute_result",
          "data": {
            "text/plain": [
              "      Unnamed: 0                                           sentence  topic  \\\n",
              "2215        2215  Скоро мой взлетит самолёт Кто-то объявляет про...   30.0   \n",
              "2582        2582  Ох , уж эти девки , всё бы им ржать ! Когда уж...   11.0   \n",
              "1662        1662  С первым днем Зимы , дорогие друзья ! ! ! Жела...   89.0   \n",
              "3027        3027  Если любовь уходит , какое найти решение ? Мож...   11.0   \n",
              "4343        4343  Моей внучке пять лет . раска . а . а . зчица !...   70.0   \n",
              "...          ...                                                ...    ...   \n",
              "1543        1543  В ФА в аспирантуру трудно поступить , среди со...   55.0   \n",
              "4160        4160  но хочеться отдохнуть и негру ! ! ! 06 сен 200...   79.0   \n",
              "188          188  При транзите через США или Канаду визы граждан...   30.0   \n",
              "4925        4925  Чтобы знать что отвечать , надо точно знать чт...   22.0   \n",
              "1201        1201  спасибо ! то есть просто достаточно получить п...   79.0   \n",
              "\n",
              "     genre  confounder  \n",
              "2215     W           1  \n",
              "2582     M           1  \n",
              "1662     W           1  \n",
              "3027     W           1  \n",
              "4343     W           1  \n",
              "...    ...         ...  \n",
              "1543     M           0  \n",
              "4160     M           0  \n",
              "188      W           0  \n",
              "4925     M           0  \n",
              "1201     W           0  \n",
              "\n",
              "[1992 rows x 5 columns]"
            ],
            "text/html": [
              "\n",
              "  <div id=\"df-9bc7cb4b-a0ea-4ece-bffc-70100902e4fb\" class=\"colab-df-container\">\n",
              "    <div>\n",
              "<style scoped>\n",
              "    .dataframe tbody tr th:only-of-type {\n",
              "        vertical-align: middle;\n",
              "    }\n",
              "\n",
              "    .dataframe tbody tr th {\n",
              "        vertical-align: top;\n",
              "    }\n",
              "\n",
              "    .dataframe thead th {\n",
              "        text-align: right;\n",
              "    }\n",
              "</style>\n",
              "<table border=\"1\" class=\"dataframe\">\n",
              "  <thead>\n",
              "    <tr style=\"text-align: right;\">\n",
              "      <th></th>\n",
              "      <th>Unnamed: 0</th>\n",
              "      <th>sentence</th>\n",
              "      <th>topic</th>\n",
              "      <th>genre</th>\n",
              "      <th>confounder</th>\n",
              "    </tr>\n",
              "  </thead>\n",
              "  <tbody>\n",
              "    <tr>\n",
              "      <th>2215</th>\n",
              "      <td>2215</td>\n",
              "      <td>Скоро мой взлетит самолёт Кто-то объявляет про...</td>\n",
              "      <td>30.0</td>\n",
              "      <td>W</td>\n",
              "      <td>1</td>\n",
              "    </tr>\n",
              "    <tr>\n",
              "      <th>2582</th>\n",
              "      <td>2582</td>\n",
              "      <td>Ох , уж эти девки , всё бы им ржать ! Когда уж...</td>\n",
              "      <td>11.0</td>\n",
              "      <td>M</td>\n",
              "      <td>1</td>\n",
              "    </tr>\n",
              "    <tr>\n",
              "      <th>1662</th>\n",
              "      <td>1662</td>\n",
              "      <td>С первым днем Зимы , дорогие друзья ! ! ! Жела...</td>\n",
              "      <td>89.0</td>\n",
              "      <td>W</td>\n",
              "      <td>1</td>\n",
              "    </tr>\n",
              "    <tr>\n",
              "      <th>3027</th>\n",
              "      <td>3027</td>\n",
              "      <td>Если любовь уходит , какое найти решение ? Мож...</td>\n",
              "      <td>11.0</td>\n",
              "      <td>W</td>\n",
              "      <td>1</td>\n",
              "    </tr>\n",
              "    <tr>\n",
              "      <th>4343</th>\n",
              "      <td>4343</td>\n",
              "      <td>Моей внучке пять лет . раска . а . а . зчица !...</td>\n",
              "      <td>70.0</td>\n",
              "      <td>W</td>\n",
              "      <td>1</td>\n",
              "    </tr>\n",
              "    <tr>\n",
              "      <th>...</th>\n",
              "      <td>...</td>\n",
              "      <td>...</td>\n",
              "      <td>...</td>\n",
              "      <td>...</td>\n",
              "      <td>...</td>\n",
              "    </tr>\n",
              "    <tr>\n",
              "      <th>1543</th>\n",
              "      <td>1543</td>\n",
              "      <td>В ФА в аспирантуру трудно поступить , среди со...</td>\n",
              "      <td>55.0</td>\n",
              "      <td>M</td>\n",
              "      <td>0</td>\n",
              "    </tr>\n",
              "    <tr>\n",
              "      <th>4160</th>\n",
              "      <td>4160</td>\n",
              "      <td>но хочеться отдохнуть и негру ! ! ! 06 сен 200...</td>\n",
              "      <td>79.0</td>\n",
              "      <td>M</td>\n",
              "      <td>0</td>\n",
              "    </tr>\n",
              "    <tr>\n",
              "      <th>188</th>\n",
              "      <td>188</td>\n",
              "      <td>При транзите через США или Канаду визы граждан...</td>\n",
              "      <td>30.0</td>\n",
              "      <td>W</td>\n",
              "      <td>0</td>\n",
              "    </tr>\n",
              "    <tr>\n",
              "      <th>4925</th>\n",
              "      <td>4925</td>\n",
              "      <td>Чтобы знать что отвечать , надо точно знать чт...</td>\n",
              "      <td>22.0</td>\n",
              "      <td>M</td>\n",
              "      <td>0</td>\n",
              "    </tr>\n",
              "    <tr>\n",
              "      <th>1201</th>\n",
              "      <td>1201</td>\n",
              "      <td>спасибо ! то есть просто достаточно получить п...</td>\n",
              "      <td>79.0</td>\n",
              "      <td>W</td>\n",
              "      <td>0</td>\n",
              "    </tr>\n",
              "  </tbody>\n",
              "</table>\n",
              "<p>1992 rows × 5 columns</p>\n",
              "</div>\n",
              "    <div class=\"colab-df-buttons\">\n",
              "\n",
              "  <div class=\"colab-df-container\">\n",
              "    <button class=\"colab-df-convert\" onclick=\"convertToInteractive('df-9bc7cb4b-a0ea-4ece-bffc-70100902e4fb')\"\n",
              "            title=\"Convert this dataframe to an interactive table.\"\n",
              "            style=\"display:none;\">\n",
              "\n",
              "  <svg xmlns=\"http://www.w3.org/2000/svg\" height=\"24px\" viewBox=\"0 -960 960 960\">\n",
              "    <path d=\"M120-120v-720h720v720H120Zm60-500h600v-160H180v160Zm220 220h160v-160H400v160Zm0 220h160v-160H400v160ZM180-400h160v-160H180v160Zm440 0h160v-160H620v160ZM180-180h160v-160H180v160Zm440 0h160v-160H620v160Z\"/>\n",
              "  </svg>\n",
              "    </button>\n",
              "\n",
              "  <style>\n",
              "    .colab-df-container {\n",
              "      display:flex;\n",
              "      gap: 12px;\n",
              "    }\n",
              "\n",
              "    .colab-df-convert {\n",
              "      background-color: #E8F0FE;\n",
              "      border: none;\n",
              "      border-radius: 50%;\n",
              "      cursor: pointer;\n",
              "      display: none;\n",
              "      fill: #1967D2;\n",
              "      height: 32px;\n",
              "      padding: 0 0 0 0;\n",
              "      width: 32px;\n",
              "    }\n",
              "\n",
              "    .colab-df-convert:hover {\n",
              "      background-color: #E2EBFA;\n",
              "      box-shadow: 0px 1px 2px rgba(60, 64, 67, 0.3), 0px 1px 3px 1px rgba(60, 64, 67, 0.15);\n",
              "      fill: #174EA6;\n",
              "    }\n",
              "\n",
              "    .colab-df-buttons div {\n",
              "      margin-bottom: 4px;\n",
              "    }\n",
              "\n",
              "    [theme=dark] .colab-df-convert {\n",
              "      background-color: #3B4455;\n",
              "      fill: #D2E3FC;\n",
              "    }\n",
              "\n",
              "    [theme=dark] .colab-df-convert:hover {\n",
              "      background-color: #434B5C;\n",
              "      box-shadow: 0px 1px 3px 1px rgba(0, 0, 0, 0.15);\n",
              "      filter: drop-shadow(0px 1px 2px rgba(0, 0, 0, 0.3));\n",
              "      fill: #FFFFFF;\n",
              "    }\n",
              "  </style>\n",
              "\n",
              "    <script>\n",
              "      const buttonEl =\n",
              "        document.querySelector('#df-9bc7cb4b-a0ea-4ece-bffc-70100902e4fb button.colab-df-convert');\n",
              "      buttonEl.style.display =\n",
              "        google.colab.kernel.accessAllowed ? 'block' : 'none';\n",
              "\n",
              "      async function convertToInteractive(key) {\n",
              "        const element = document.querySelector('#df-9bc7cb4b-a0ea-4ece-bffc-70100902e4fb');\n",
              "        const dataTable =\n",
              "          await google.colab.kernel.invokeFunction('convertToInteractive',\n",
              "                                                    [key], {});\n",
              "        if (!dataTable) return;\n",
              "\n",
              "        const docLinkHtml = 'Like what you see? Visit the ' +\n",
              "          '<a target=\"_blank\" href=https://colab.research.google.com/notebooks/data_table.ipynb>data table notebook</a>'\n",
              "          + ' to learn more about interactive tables.';\n",
              "        element.innerHTML = '';\n",
              "        dataTable['output_type'] = 'display_data';\n",
              "        await google.colab.output.renderOutput(dataTable, element);\n",
              "        const docLink = document.createElement('div');\n",
              "        docLink.innerHTML = docLinkHtml;\n",
              "        element.appendChild(docLink);\n",
              "      }\n",
              "    </script>\n",
              "  </div>\n",
              "\n",
              "\n",
              "<div id=\"df-6c919080-71fd-4e6b-9dcb-354c14de30ac\">\n",
              "  <button class=\"colab-df-quickchart\" onclick=\"quickchart('df-6c919080-71fd-4e6b-9dcb-354c14de30ac')\"\n",
              "            title=\"Suggest charts\"\n",
              "            style=\"display:none;\">\n",
              "\n",
              "<svg xmlns=\"http://www.w3.org/2000/svg\" height=\"24px\"viewBox=\"0 0 24 24\"\n",
              "     width=\"24px\">\n",
              "    <g>\n",
              "        <path d=\"M19 3H5c-1.1 0-2 .9-2 2v14c0 1.1.9 2 2 2h14c1.1 0 2-.9 2-2V5c0-1.1-.9-2-2-2zM9 17H7v-7h2v7zm4 0h-2V7h2v10zm4 0h-2v-4h2v4z\"/>\n",
              "    </g>\n",
              "</svg>\n",
              "  </button>\n",
              "\n",
              "<style>\n",
              "  .colab-df-quickchart {\n",
              "      --bg-color: #E8F0FE;\n",
              "      --fill-color: #1967D2;\n",
              "      --hover-bg-color: #E2EBFA;\n",
              "      --hover-fill-color: #174EA6;\n",
              "      --disabled-fill-color: #AAA;\n",
              "      --disabled-bg-color: #DDD;\n",
              "  }\n",
              "\n",
              "  [theme=dark] .colab-df-quickchart {\n",
              "      --bg-color: #3B4455;\n",
              "      --fill-color: #D2E3FC;\n",
              "      --hover-bg-color: #434B5C;\n",
              "      --hover-fill-color: #FFFFFF;\n",
              "      --disabled-bg-color: #3B4455;\n",
              "      --disabled-fill-color: #666;\n",
              "  }\n",
              "\n",
              "  .colab-df-quickchart {\n",
              "    background-color: var(--bg-color);\n",
              "    border: none;\n",
              "    border-radius: 50%;\n",
              "    cursor: pointer;\n",
              "    display: none;\n",
              "    fill: var(--fill-color);\n",
              "    height: 32px;\n",
              "    padding: 0;\n",
              "    width: 32px;\n",
              "  }\n",
              "\n",
              "  .colab-df-quickchart:hover {\n",
              "    background-color: var(--hover-bg-color);\n",
              "    box-shadow: 0 1px 2px rgba(60, 64, 67, 0.3), 0 1px 3px 1px rgba(60, 64, 67, 0.15);\n",
              "    fill: var(--button-hover-fill-color);\n",
              "  }\n",
              "\n",
              "  .colab-df-quickchart-complete:disabled,\n",
              "  .colab-df-quickchart-complete:disabled:hover {\n",
              "    background-color: var(--disabled-bg-color);\n",
              "    fill: var(--disabled-fill-color);\n",
              "    box-shadow: none;\n",
              "  }\n",
              "\n",
              "  .colab-df-spinner {\n",
              "    border: 2px solid var(--fill-color);\n",
              "    border-color: transparent;\n",
              "    border-bottom-color: var(--fill-color);\n",
              "    animation:\n",
              "      spin 1s steps(1) infinite;\n",
              "  }\n",
              "\n",
              "  @keyframes spin {\n",
              "    0% {\n",
              "      border-color: transparent;\n",
              "      border-bottom-color: var(--fill-color);\n",
              "      border-left-color: var(--fill-color);\n",
              "    }\n",
              "    20% {\n",
              "      border-color: transparent;\n",
              "      border-left-color: var(--fill-color);\n",
              "      border-top-color: var(--fill-color);\n",
              "    }\n",
              "    30% {\n",
              "      border-color: transparent;\n",
              "      border-left-color: var(--fill-color);\n",
              "      border-top-color: var(--fill-color);\n",
              "      border-right-color: var(--fill-color);\n",
              "    }\n",
              "    40% {\n",
              "      border-color: transparent;\n",
              "      border-right-color: var(--fill-color);\n",
              "      border-top-color: var(--fill-color);\n",
              "    }\n",
              "    60% {\n",
              "      border-color: transparent;\n",
              "      border-right-color: var(--fill-color);\n",
              "    }\n",
              "    80% {\n",
              "      border-color: transparent;\n",
              "      border-right-color: var(--fill-color);\n",
              "      border-bottom-color: var(--fill-color);\n",
              "    }\n",
              "    90% {\n",
              "      border-color: transparent;\n",
              "      border-bottom-color: var(--fill-color);\n",
              "    }\n",
              "  }\n",
              "</style>\n",
              "\n",
              "  <script>\n",
              "    async function quickchart(key) {\n",
              "      const quickchartButtonEl =\n",
              "        document.querySelector('#' + key + ' button');\n",
              "      quickchartButtonEl.disabled = true;  // To prevent multiple clicks.\n",
              "      quickchartButtonEl.classList.add('colab-df-spinner');\n",
              "      try {\n",
              "        const charts = await google.colab.kernel.invokeFunction(\n",
              "            'suggestCharts', [key], {});\n",
              "      } catch (error) {\n",
              "        console.error('Error during call to suggestCharts:', error);\n",
              "      }\n",
              "      quickchartButtonEl.classList.remove('colab-df-spinner');\n",
              "      quickchartButtonEl.classList.add('colab-df-quickchart-complete');\n",
              "    }\n",
              "    (() => {\n",
              "      let quickchartButtonEl =\n",
              "        document.querySelector('#df-6c919080-71fd-4e6b-9dcb-354c14de30ac button');\n",
              "      quickchartButtonEl.style.display =\n",
              "        google.colab.kernel.accessAllowed ? 'block' : 'none';\n",
              "    })();\n",
              "  </script>\n",
              "</div>\n",
              "    </div>\n",
              "  </div>\n"
            ],
            "application/vnd.google.colaboratory.intrinsic+json": {
              "type": "dataframe",
              "variable_name": "shift_test_25_mail_75_awd",
              "summary": "{\n  \"name\": \"shift_test_25_mail_75_awd\",\n  \"rows\": 1992,\n  \"fields\": [\n    {\n      \"column\": \"Unnamed: 0\",\n      \"properties\": {\n        \"dtype\": \"number\",\n        \"std\": 2331,\n        \"min\": 0,\n        \"max\": 7993,\n        \"num_unique_values\": 1800,\n        \"samples\": [\n          231,\n          5460,\n          2057\n        ],\n        \"semantic_type\": \"\",\n        \"description\": \"\"\n      }\n    },\n    {\n      \"column\": \"sentence\",\n      \"properties\": {\n        \"dtype\": \"string\",\n        \"num_unique_values\": 1973,\n        \"samples\": [\n          \"\\u043d\\u0443 \\u0442\\u0430\\u043a \\u0433\\u043e\\u043b\\u043e\\u0432\\u0430 \\u0438 \\u0434\\u0430\\u043d\\u0430 \\u0447\\u0435\\u043b\\u043e\\u0432\\u0435\\u043a\\u0443 , \\u0447\\u0442\\u043e\\u0431\\u044b \\u0434\\u0443\\u043c\\u0430\\u0442\\u044c , \\u0440\\u0430\\u0437\\u043c\\u044b\\u0448\\u043b\\u044f\\u0442\\u044c \\u0438 \\u043d\\u0435 \\u0441\\u0443\\u0434\\u0438\\u0442\\u044c \\u043e\\u0431\\u043e \\u0432\\u0441\\u0435\\u0445 \\u043b\\u044e\\u0434\\u044f\\u0445 \\u043f\\u043e \\u043f\\u0435\\u0440\\u043b\\u0430\\u043c \\u043e\\u0442\\u0434\\u0435\\u043b\\u044c\\u043d\\u044b\\u0445 \\u043f\\u043e\\u043b\\u0438\\u0442\\u0438\\u043a\\u043e\\u0432 . 09 \\u043d\\u043e\\u044f 2006 , 13:32\",\n          \"\\u0433\\u0434\\u0435 \\u043b\\u0443\\u0447\\u0448\\u0435 \\u043e\\u0441\\u0442\\u0430\\u043d\\u043e\\u0432\\u0438\\u0442\\u0441\\u044f \\u0432 Hallstatt \\u0438\\u043b\\u0438 \\u0432 St . Wolfgang ? \\u043d\\u0430 2-3 \\u043d\\u043e\\u0447\\u0438 \\u0432 \\u0430\\u043f\\u0440\\u0435\\u043b\\u0435 , \\u0435\\u0441\\u043b\\u0438 \\u043f\\u0435\\u0440\\u0435\\u043c\\u0435\\u0449\\u0430\\u0442\\u044c\\u0441\\u044f \\u0438\\u0437 \\u0417\\u0430\\u043b\\u044c\\u0446\\u0431\\u0443\\u0440\\u0433\\u0430 \\u0434\\u043b\\u044f \\u043e\\u0441\\u043c\\u043e\\u0442\\u0440\\u0430 \\u043e\\u0437\\u0435\\u0440 \\u0438 \\u043f\\u043e\\u0442\\u043e\\u043c \\u0441\\u043b\\u0435\\u0434\\u043e\\u0432\\u0430\\u0442\\u044c \\u0432 \\u0412\\u0435\\u043d\\u0443 . \\u0421\\u043a\\u043b\\u043e\\u043d\\u044f\\u044e\\u0441\\u044c \\u043a Hallstatt , \\u0442 . \\u043a . \\u0442\\u0430\\u043c \\u0436/\\u0434 \\u0441\\u0442\\u0430\\u043d\\u0446\\u0438\\u044f \\u0440\\u044f\\u0434\\u043e\\u043c - \\u0432\\u0438\\u0434\\u0438\\u043c\\u043e \\u043c\\u043e\\u0436\\u043d \\u0441 \\u043d\\u0435\\u0435 \\u0443\\u0435\\u0445\\u0430\\u0442\\u044c \\u043f\\u043e\\u0442\\u043e\\u043c \\u043f\\u0440\\u044f\\u043c\\u043e \\u0432 \\u0412\\u0435\\u043d\\u0443 . \\u0417\\u0430\\u0440\\u0430\\u043d\\u0435\\u0435 \\u0441\\u043f\\u0430\\u0441\\u0438\\u0431\\u043e \\u0437\\u0430 \\u043b\\u044e\\u0431\\u043e\\u0435 \\u043c\\u043d\\u0435\\u043d\\u0438\\u0435 . 01 \\u043c\\u0430\\u0440 2012 , 21:50\",\n          \"28 \\u043c\\u0430\\u0440 2009 , 04:37\"\n        ],\n        \"semantic_type\": \"\",\n        \"description\": \"\"\n      }\n    },\n    {\n      \"column\": \"topic\",\n      \"properties\": {\n        \"dtype\": \"number\",\n        \"std\": 25.56118718842807,\n        \"min\": 3.0,\n        \"max\": 99.0,\n        \"num_unique_values\": 78,\n        \"samples\": [\n          52.0,\n          30.0,\n          75.0\n        ],\n        \"semantic_type\": \"\",\n        \"description\": \"\"\n      }\n    },\n    {\n      \"column\": \"genre\",\n      \"properties\": {\n        \"dtype\": \"category\",\n        \"num_unique_values\": 2,\n        \"samples\": [\n          \"M\",\n          \"W\"\n        ],\n        \"semantic_type\": \"\",\n        \"description\": \"\"\n      }\n    },\n    {\n      \"column\": \"confounder\",\n      \"properties\": {\n        \"dtype\": \"number\",\n        \"std\": 0,\n        \"min\": 0,\n        \"max\": 1,\n        \"num_unique_values\": 2,\n        \"samples\": [\n          0,\n          1\n        ],\n        \"semantic_type\": \"\",\n        \"description\": \"\"\n      }\n    }\n  ]\n}"
            }
          },
          "metadata": {},
          "execution_count": 7
        }
      ]
    },
    {
      "cell_type": "code",
      "execution_count": 8,
      "metadata": {
        "id": "JuCsdGNh47_S",
        "colab": {
          "base_uri": "https://localhost:8080/",
          "height": 503
        },
        "outputId": "1469a058-1ef2-4182-eba8-b8892d6a3303"
      },
      "outputs": [
        {
          "output_type": "execute_result",
          "data": {
            "text/plain": [
              "(array([7342.,    0.,    0.,    0.,    0.,    0.,    0.,    0.,    0.,\n",
              "        4582.]),\n",
              " array([0. , 0.1, 0.2, 0.3, 0.4, 0.5, 0.6, 0.7, 0.8, 0.9, 1. ]),\n",
              " <BarContainer object of 10 artists>)"
            ]
          },
          "metadata": {},
          "execution_count": 8
        },
        {
          "output_type": "display_data",
          "data": {
            "text/plain": [
              "<Figure size 640x480 with 1 Axes>"
            ],
            "image/png": "[encoded data removed]"
          },
          "metadata": {}
        }
      ],
      "source": [
        "import pandas as pd\n",
        "from matplotlib import pyplot as plt\n",
        "\n",
        "\n",
        "train_df = pd.read_csv('shift_train_75_mail_25_awd.csv')\n",
        "train_df['genre'] = train_df.genre.values == 'M'\n",
        "train_df['text'] = train_df.sentence.values\n",
        "train_df = train_df.sample(frac=1.0, random_state=42)\n",
        "\n",
        "dev_df = pd.read_csv('mail_test_topics.csv')\n",
        "dev_df['genre'] = dev_df.genre.values == 'M'\n",
        "dev_df['text'] = dev_df.sentence.values\n",
        "dev_df['confounder'] = 1\n",
        "dev_df = dev_df.sample(frac=1.0, random_state=42)\n",
        "\n",
        "\n",
        "test_df = pd.read_csv('awd_test_topics.csv')\n",
        "test_df['genre'] = test_df.genre.values == 'M'\n",
        "test_df['text'] = test_df.sentence.values\n",
        "test_df['confounder'] = 0\n",
        "test_df = test_df.sample(frac=1.0, random_state=42)\n",
        "\n",
        "train_df['split'] = 'train'\n",
        "dev_df['split'] = 'dev'\n",
        "test_df['split'] = 'test'\n",
        "df = pd.concat([train_df, dev_df, test_df])\n",
        "df = df.reset_index()\n",
        "df['index'] = df.index\n",
        "\n",
        "\n",
        "train_indexes = df.index[df['split'] == 'train'].tolist()\n",
        "dev_indexes = df.index[df['split'] == 'dev'].tolist()\n",
        "test_indexes = df.index[df['split'] == 'test'].tolist()\n",
        "\n",
        "\n",
        "\n",
        "\n",
        "# Get the lists of sentences and their labels.\n",
        "sentences = df.sentence.values\n",
        "vad = np.array([[int(v), int(c)] for v, c in zip(df['genre'].values, df['confounder'].values)])\n",
        "plt.hist(vad[:, 0])"
      ]
    },
    {
      "cell_type": "code",
      "execution_count": 8,
      "metadata": {
        "id": "NuscTI53sB3X"
      },
      "outputs": [],
      "source": []
    },
    {
      "cell_type": "code",
      "source": [],
      "metadata": {
        "id": "Gw8W9OuZBXlN"
      },
      "execution_count": 8,
      "outputs": []
    },
    {
      "cell_type": "code",
      "source": [
        "from matplotlib import pyplot as plt\n",
        "\n",
        "lengths = [len(str(text).split()) for text in df.sentence.values]\n",
        "print(np.median(lengths))\n",
        "print(np.percentile([len(str(text).split()) for text in df.text.values], 75))\n",
        "print(np.percentile([len(str(text).split()) for text in df.text.values], 90))\n",
        "\n",
        "plt.hist(lengths)"
      ],
      "metadata": {
        "colab": {
          "base_uri": "https://localhost:8080/",
          "height": 594
        },
        "id": "1OoYag3PA_qt",
        "outputId": "e5238ab7-6e54-40ad-e701-d083d9df597b"
      },
      "execution_count": 9,
      "outputs": [
        {
          "output_type": "stream",
          "name": "stdout",
          "text": [
            "99.0\n",
            "164.0\n",
            "319.7000000000007\n"
          ]
        },
        {
          "output_type": "execute_result",
          "data": {
            "text/plain": [
              "(array([1.1743e+04, 1.2300e+02, 3.2000e+01, 8.0000e+00, 1.1000e+01,\n",
              "        2.0000e+00, 0.0000e+00, 2.0000e+00, 2.0000e+00, 1.0000e+00]),\n",
              " array([5.00000e+00, 1.32360e+03, 2.64220e+03, 3.96080e+03, 5.27940e+03,\n",
              "        6.59800e+03, 7.91660e+03, 9.23520e+03, 1.05538e+04, 1.18724e+04,\n",
              "        1.31910e+04]),\n",
              " <BarContainer object of 10 artists>)"
            ]
          },
          "metadata": {},
          "execution_count": 9
        },
        {
          "output_type": "display_data",
          "data": {
            "text/plain": [
              "<Figure size 640x480 with 1 Axes>"
            ],
            "image/png": "[encoded data removed]"
          },
          "metadata": {}
        }
      ]
    },
    {
      "cell_type": "markdown",
      "metadata": {
        "id": "lZSNd4sWG3jx"
      },
      "source": [
        "# 3. Tokenization & Input Formatting"
      ]
    },
    {
      "cell_type": "markdown",
      "metadata": {
        "id": "1m9jpFqPHCsS"
      },
      "source": [
        "## 3.1. BERT Tokenizer"
      ]
    },
    {
      "cell_type": "code",
      "execution_count": 10,
      "metadata": {
        "colab": {
          "base_uri": "https://localhost:8080/",
          "height": 293,
          "referenced_widgets": [
            "5d860f5b69d141bc92bbb1a0e04224d4",
            "6064701bdd944f5cb5f61b0abd12d806",
            "642106a14f9349cca36221257b722e71",
            "7a2a2984b852428faff0d8a51c0dbea1",
            "b1d69cf70f2a4c92bf88113475c17393",
            "0fee9222f09f418bafae10d3fde6e532",
            "88f52d1ddf45403493bebde02daa45be",
            "99883109e31d428184978856e1ab5404",
            "78d02d0f56d74dbb81bcf44fdb65286c",
            "1691a8d5cac64e2ba92786c33c9e6999",
            "63f417ea6ecc4ae08a90022392533b38",
            "563fc35ebd624433adf4e05f15bfe013",
            "672dea9df23147c6bacc5d81bd4fa746",
            "a69a1a767f464674b24181e82ee4c8d0",
            "c6dfdc5c55a849d38fffbe217068eba9",
            "c7d5c318c7b845f79f1789743724bc5f",
            "e53f27246192427b98e1385901e161a7",
            "34688485fc354a7d9084f23bb7092068",
            "0860c947561e4f1786f22aa88f340377",
            "fe7613d339904cf7a679d7e66a299c89",
            "6786ef31d8b94165b9893f2f650e713e",
            "468eaa5a6970471996842338bddd8c3d",
            "6f0a3358d8ca46bb894eef9621f91aa7",
            "2336ff8f26be44778594de8e2921347d",
            "651bb5bf700843df945fd1e928ef8727",
            "3d6e0fe5664d49beb125ef98d87d1b09",
            "5a64162abc7c47b687bc52d142294da3",
            "05ffa1ad504f4463ad05f298a176fb08",
            "9a54197c5cb74b629d325e3d7ce8aa44",
            "d38511fac7c94f569b7ac35d66c449c9",
            "b975c0ea983945b98a44f3739bcc894d",
            "1c07061356b44a299dcfbd45f9a34aa4",
            "ffc5784a50e149238cf725a47b369113",
            "c53ea04644e8409e808a4063ef37f025",
            "02f6a3483836466c8e3fd562a82acb61",
            "3da2ee29c72b4b5ca03e7e8616a514b4",
            "e945adbf30b14b55ac0705a27be30ec9",
            "7a613e8db7504681af8a0621f9152df9",
            "7b7e8579237f4552a773308b080d7c29",
            "18022e17165045368f0a3762100d1d0b",
            "9070591e86884d9ebafd1b6b9eef31e0",
            "adbe0f80a7154d04a2c24b8611357848",
            "c46210d3e46d42cca4e65b171e62cea1",
            "1369bb65d8b74c9d9111a537b1d0d5c4"
          ]
        },
        "id": "T9GQcNm9RUI6",
        "outputId": "73f5e2a7-329e-49ff-accd-73682ae7de6f"
      },
      "outputs": [
        {
          "output_type": "stream",
          "name": "stdout",
          "text": [
            "Loading BERT tokenizer...\n"
          ]
        },
        {
          "output_type": "stream",
          "name": "stderr",
          "text": [
            "/usr/local/lib/python3.10/dist-packages/huggingface_hub/utils/_auth.py:94: UserWarning: \n",
            "The secret `HF_TOKEN` does not exist in your Colab secrets.\n",
            "To authenticate with the Hugging Face Hub, create a token in your settings tab (https://huggingface.co/settings/tokens), set it as secret in your Google Colab and restart your session.\n",
            "You will be able to reuse this secret in all of your notebooks.\n",
            "Please note that authentication is recommended but still optional to access public models or datasets.\n",
            "  warnings.warn(\n"
          ]
        },
        {
          "output_type": "display_data",
          "data": {
            "text/plain": [
              "tokenizer_config.json:   0%|          | 0.00/49.0 [00:00<?, ?B/s]"
            ],
            "application/vnd.jupyter.widget-view+json": {
              "version_major": 2,
              "version_minor": 0,
              "model_id": "5d860f5b69d141bc92bbb1a0e04224d4"
            }
          },
          "metadata": {}
        },
        {
          "output_type": "display_data",
          "data": {
            "text/plain": [
              "vocab.txt:   0%|          | 0.00/996k [00:00<?, ?B/s]"
            ],
            "application/vnd.jupyter.widget-view+json": {
              "version_major": 2,
              "version_minor": 0,
              "model_id": "563fc35ebd624433adf4e05f15bfe013"
            }
          },
          "metadata": {}
        },
        {
          "output_type": "display_data",
          "data": {
            "text/plain": [
              "tokenizer.json:   0%|          | 0.00/1.96M [00:00<?, ?B/s]"
            ],
            "application/vnd.jupyter.widget-view+json": {
              "version_major": 2,
              "version_minor": 0,
              "model_id": "6f0a3358d8ca46bb894eef9621f91aa7"
            }
          },
          "metadata": {}
        },
        {
          "output_type": "display_data",
          "data": {
            "text/plain": [
              "config.json:   0%|          | 0.00/625 [00:00<?, ?B/s]"
            ],
            "application/vnd.jupyter.widget-view+json": {
              "version_major": 2,
              "version_minor": 0,
              "model_id": "c53ea04644e8409e808a4063ef37f025"
            }
          },
          "metadata": {}
        }
      ],
      "source": [
        "from transformers import BertTokenizer, BertModel, AdamW\n",
        "\n",
        "# Load the BERT tokenizer.\n",
        "print('Loading BERT tokenizer...')\n",
        "\n",
        "# Uncased means that the text has been lower cased before Word Piece\n",
        "# tokenization, e.g., John Smith becomes john smith. The Uncased model also\n",
        "# strips out any accent markers\n",
        "bert_pretrained_model_name = 'google-bert/bert-base-multilingual-cased'\n",
        "tokenizer = BertTokenizer.from_pretrained(bert_pretrained_model_name)#, do_lower_case=True)"
      ]
    },
    {
      "cell_type": "markdown",
      "metadata": {
        "id": "MBaX4Rg6HSWu"
      },
      "source": [
        "## 3.2. Tokenize Dataset"
      ]
    },
    {
      "cell_type": "markdown",
      "metadata": {
        "id": "Gi-pNicXahW_"
      },
      "source": [
        "Perform one tokenization pass of the dataset in order to measure the maximum sentence length"
      ]
    },
    {
      "cell_type": "code",
      "execution_count": 11,
      "metadata": {
        "id": "VXH-KvBoaZOs"
      },
      "outputs": [],
      "source": [
        "def get_max_sentence_length(sentences):\n",
        "  max_len = 0\n",
        "\n",
        "  # For every sentence...\n",
        "  for sent in sentences:\n",
        "\n",
        "      # Tokenize the text and add `[CLS]` and `[SEP]` tokens.\n",
        "      input_ids = tokenizer.encode(sent, add_special_tokens=True)\n",
        "      input_ids = input_ids[:300]\n",
        "\n",
        "      # Update the maximum sentence length.\n",
        "      max_len = max(max_len, len(input_ids))\n",
        "\n",
        "  return max_len"
      ]
    },
    {
      "cell_type": "code",
      "execution_count": 12,
      "metadata": {
        "colab": {
          "base_uri": "https://localhost:8080/"
        },
        "id": "lu39B4IZaZ51",
        "outputId": "44098d65-8fec-4459-a62b-0849def864d5"
      },
      "outputs": [
        {
          "output_type": "stream",
          "name": "stderr",
          "text": [
            "Token indices sequence length is longer than the specified maximum sequence length for this model (790 > 512). Running this sequence through the model will result in indexing errors\n",
            "/usr/local/lib/python3.10/dist-packages/transformers/tokenization_utils_base.py:2673: FutureWarning: The `pad_to_max_length` argument is deprecated and will be removed in a future version, use `padding=True` or `padding='longest'` to pad to the longest sequence in the batch, or use `padding='max_length'` to pad to a max length. In this case, you can give a specific length with `max_length` (e.g. `max_length=45`) or leave max_length to None to pad to the maximal input size of the model (e.g. 512 for Bert).\n",
            "  warnings.warn(\n"
          ]
        }
      ],
      "source": [
        "# Tokenize all of the sentences and map the tokens to thier word IDs.\n",
        "input_ids = []\n",
        "attention_masks = []\n",
        "\n",
        "max_sentence_length = get_max_sentence_length(sentences)\n",
        "\n",
        "# For every sentence...\n",
        "for sentence in sentences:\n",
        "  # `encode_plus` will:\n",
        "  #   (1) Tokenize the sentence.\n",
        "  #   (2) Prepend the `[CLS]` token to the start.\n",
        "  #   (3) Append the `[SEP]` token to the end.\n",
        "  #   (4) Map tokens to their IDs.\n",
        "  #   (5) Pad or truncate the sentence to `max_length`\n",
        "  #   (6) Create attention masks for [PAD] tokens.\n",
        "  encoded_dict = tokenizer.encode_plus(\n",
        "      sentence,                         # Sentence to encode.\n",
        "      add_special_tokens = True,    # Add '[CLS]' and '[SEP]'\n",
        "      max_length = max_sentence_length,             # Pad & truncate all sentences.\n",
        "      truncation = True,            # Explicitely truncate sentences to max length.\n",
        "      pad_to_max_length = True,\n",
        "      return_attention_mask = True, # Construct attn. masks.\n",
        "      return_tensors = 'pt',        # Return pytorch tensors.\n",
        "      )\n",
        "\n",
        "  # Add the encoded sentence to the list.\n",
        "  input_ids.append(encoded_dict['input_ids'])\n",
        "\n",
        "  # And its attention mask (simply differentiates padding from non-padding).\n",
        "  attention_masks.append(encoded_dict['attention_mask'])\n",
        "\n",
        "# Convert the lists into tensors.\n",
        "input_ids = torch.cat(input_ids, dim=0)\n",
        "attention_masks = torch.cat(attention_masks, dim=0)\n",
        "outputs = torch.tensor(vad, dtype=torch.float32) # TODO: check if it's necessary\n"
      ]
    },
    {
      "cell_type": "markdown",
      "metadata": {
        "id": "0r846BmV2G6N"
      },
      "source": [
        "We’ll also create an iterator for our dataset using the torch DataLoader class. This helps save on memory during training because, unlike a for loop, with an iterator the entire dataset does not need to be loaded into memory."
      ]
    },
    {
      "cell_type": "code",
      "execution_count": 13,
      "metadata": {
        "id": "9GyB0G7Paa4p"
      },
      "outputs": [],
      "source": [
        "from torch.utils.data import TensorDataset, Subset, DataLoader\n",
        "\n",
        "dataset = TensorDataset(input_ids, attention_masks, outputs)\n",
        "\n",
        "train_dataset = Subset(dataset, train_indexes)\n",
        "dev_dataset = Subset(dataset, dev_indexes)\n",
        "test_dataset = Subset(dataset, test_indexes)\n",
        "\n",
        "# The DataLoader needs to know our batch size for training, so we specify it\n",
        "# here. For fine-tuning BERT on a specific task, the authors recommend a batch\n",
        "# size of 16 or 32.\n",
        "batch_size = 32\n",
        "\n",
        "# Create the DataLoaders for our training and validation sets.\n",
        "# We'll take training samples in random order.\n",
        "train_dataloader = DataLoader(\n",
        "            train_dataset,  # The training samples.\n",
        "            shuffle = True, # Select batches randomly\n",
        "            batch_size = batch_size # Trains with this batch size.\n",
        "        )\n",
        "\n",
        "# For validation the order doesn't matter, so we'll just read them sequentially.\n",
        "dev_dataloader = DataLoader(\n",
        "            dev_dataset, # The validation samples.\n",
        "            shuffle = False, # Default: Pull out batches sequentially.\n",
        "            batch_size = batch_size # Evaluate with this batch size.\n",
        "        )\n",
        "\n",
        "test_dataloader = DataLoader(\n",
        "            test_dataset, # The test samples.\n",
        "            shuffle = False, # Default: Pull out batches sequentially.\n",
        "            batch_size = batch_size # Evaluate with this batch size.\n",
        "        )"
      ]
    },
    {
      "cell_type": "markdown",
      "metadata": {
        "id": "OCpQIk8XHsvv"
      },
      "source": [
        "# 4. Train Our Model"
      ]
    },
    {
      "cell_type": "markdown",
      "metadata": {
        "id": "VG0BP-gkIE_q"
      },
      "source": [
        "## 4.1. Create a Bert model with a regression layer on top"
      ]
    },
    {
      "cell_type": "code",
      "execution_count": 21,
      "metadata": {
        "colab": {
          "base_uri": "https://localhost:8080/"
        },
        "id": "rAvgJG2MnCj_",
        "outputId": "9a96f340-8020-4b92-caf1-b03da6b263fc"
      },
      "outputs": [
        {
          "output_type": "execute_result",
          "data": {
            "text/plain": [
              "BertForSequenceRegression(\n",
              "  (bert): BertModel(\n",
              "    (embeddings): BertEmbeddings(\n",
              "      (word_embeddings): Embedding(119547, 768, padding_idx=0)\n",
              "      (position_embeddings): Embedding(512, 768)\n",
              "      (token_type_embeddings): Embedding(2, 768)\n",
              "      (LayerNorm): LayerNorm((768,), eps=1e-12, elementwise_affine=True)\n",
              "      (dropout): Dropout(p=0.1, inplace=False)\n",
              "    )\n",
              "    (encoder): BertEncoder(\n",
              "      (layer): ModuleList(\n",
              "        (0-11): 12 x BertLayer(\n",
              "          (attention): BertAttention(\n",
              "            (self): BertSdpaSelfAttention(\n",
              "              (query): Linear(in_features=768, out_features=768, bias=True)\n",
              "              (key): Linear(in_features=768, out_features=768, bias=True)\n",
              "              (value): Linear(in_features=768, out_features=768, bias=True)\n",
              "              (dropout): Dropout(p=0.1, inplace=False)\n",
              "            )\n",
              "            (output): BertSelfOutput(\n",
              "              (dense): Linear(in_features=768, out_features=768, bias=True)\n",
              "              (LayerNorm): LayerNorm((768,), eps=1e-12, elementwise_affine=True)\n",
              "              (dropout): Dropout(p=0.1, inplace=False)\n",
              "            )\n",
              "          )\n",
              "          (intermediate): BertIntermediate(\n",
              "            (dense): Linear(in_features=768, out_features=3072, bias=True)\n",
              "            (intermediate_act_fn): GELUActivation()\n",
              "          )\n",
              "          (output): BertOutput(\n",
              "            (dense): Linear(in_features=3072, out_features=768, bias=True)\n",
              "            (LayerNorm): LayerNorm((768,), eps=1e-12, elementwise_affine=True)\n",
              "            (dropout): Dropout(p=0.1, inplace=False)\n",
              "          )\n",
              "        )\n",
              "      )\n",
              "    )\n",
              "    (pooler): BertPooler(\n",
              "      (dense): Linear(in_features=768, out_features=768, bias=True)\n",
              "      (activation): Tanh()\n",
              "    )\n",
              "  )\n",
              "  (out): Linear(in_features=768, out_features=1, bias=True)\n",
              "  (ae): Linear(in_features=768, out_features=1, bias=True)\n",
              ")"
            ]
          },
          "metadata": {},
          "execution_count": 21
        }
      ],
      "source": [
        "import torch.nn as nn\n",
        "from transformers import BertForSequenceClassification\n",
        "\n",
        "# Bert Model transformer with a sequence regression head on top (a linear\n",
        "# layer on top of the pooled output).\n",
        "class BertForSequenceRegression(nn.Module):\n",
        "  def __init__(self, bert_pretrained_model_name, output_size):\n",
        "    super(BertForSequenceRegression, self).__init__()\n",
        "    self.bert = BertModel.from_pretrained(bert_pretrained_model_name,\n",
        "                                          output_attentions = False,\n",
        "                                          output_hidden_states = False)\n",
        "    self.out = nn.Linear(self.bert.config.hidden_size, output_size)\n",
        "    self.ae = nn.Linear(self.bert.config.hidden_size, output_size)\n",
        "\n",
        "  def forward(self, input_sentence, input_mask):\n",
        "    last_hidden_states = self.bert(input_sentence, attention_mask=input_mask)[1]\n",
        "    output = nn.functional.sigmoid(self.out(last_hidden_states))\n",
        "    ae = nn.functional.sigmoid(self.ae(last_hidden_states))\n",
        "    return (output, ae)\n",
        "\n",
        "model = BertForSequenceRegression(bert_pretrained_model_name, output_size=1)\n",
        "\n",
        "# freeze some layers (top | middle | bottom):\n",
        "bottom = range(2, 12)\n",
        "middle = list(range(0,5))+list(range(7,12))\n",
        "top = range(0, 6)\n",
        "\n",
        "layersToFreeze = []\n",
        "for i in layersToFreeze:\n",
        "  print(i)\n",
        "  for param in model.bert.encoder.layer[i].parameters():\n",
        "    param.requires_grad = False\n",
        "\n",
        "# Tell pytorch to run this model on the GPU\n",
        "model.to(device)"
      ]
    },
    {
      "cell_type": "markdown",
      "metadata": {
        "id": "mVTz-k9PH-5d"
      },
      "source": [
        "## 4.2. Training Loop"
      ]
    },
    {
      "cell_type": "markdown",
      "metadata": {
        "id": "Eo1LuJn7NdPH"
      },
      "source": [
        "Helper function for formatting elapsed times as hh:mm:ss"
      ]
    },
    {
      "cell_type": "code",
      "execution_count": 22,
      "metadata": {
        "id": "LGqWolARNcX7"
      },
      "outputs": [],
      "source": [
        "import time\n",
        "import datetime\n",
        "\n",
        "def format_time(elapsed):\n",
        "    '''\n",
        "    Takes a time in seconds and returns a string hh:mm:ss\n",
        "    '''\n",
        "    # Round to the nearest second.\n",
        "    elapsed_rounded = int(round((elapsed)))\n",
        "\n",
        "    # Format as hh:mm:ss\n",
        "    return str(datetime.timedelta(seconds=elapsed_rounded))"
      ]
    },
    {
      "cell_type": "code",
      "execution_count": 22,
      "metadata": {
        "id": "PCVePSh0GNJ5"
      },
      "outputs": [],
      "source": []
    },
    {
      "cell_type": "code",
      "execution_count": null,
      "metadata": {
        "colab": {
          "base_uri": "https://localhost:8080/"
        },
        "id": "iKkR-6VIUCMv",
        "outputId": "a82c477e-1fb5-4474-c0ee-a882507c1483"
      },
      "outputs": [
        {
          "output_type": "stream",
          "name": "stdout",
          "text": [
            "\n",
            "======== Epoch 1 / 7 ========\n",
            "Training...\n",
            "  Batch    40  of    250.    Elapsed: 0:01:01.\n",
            "  Batch    80  of    250.    Elapsed: 0:02:04.\n",
            "  Batch   120  of    250.    Elapsed: 0:03:09.\n",
            "  Batch   160  of    250.    Elapsed: 0:04:14.\n",
            "  Batch   200  of    250.    Elapsed: 0:05:18.\n",
            "  Batch   240  of    250.    Elapsed: 0:06:22.\n",
            "\n",
            "  Average training loss: 0.50\n",
            "  Training epcoh took: 0:06:39\n",
            "\n",
            "Running Validation...\n",
            "  Validation Loss: 0.40\n",
            "  Validation Acc: 0.823\n",
            "  Validation took: 0:00:32\n",
            "\n",
            "======== Epoch 2 / 7 ========\n",
            "Training...\n",
            "  Batch    40  of    250.    Elapsed: 0:00:21.\n",
            "  Batch    80  of    250.    Elapsed: 0:00:42.\n",
            "  Batch   120  of    250.    Elapsed: 0:01:03.\n",
            "  Batch   160  of    250.    Elapsed: 0:01:24.\n",
            "  Batch   200  of    250.    Elapsed: 0:01:45.\n",
            "  Batch   240  of    250.    Elapsed: 0:02:06.\n",
            "\n",
            "  Average training loss: 0.61\n",
            "  Training epcoh took: 0:02:11\n",
            "\n",
            "Running Validation...\n",
            "  Validation Loss: 0.40\n",
            "  Validation Acc: 0.823\n",
            "  Validation took: 0:00:31\n",
            "\n",
            "======== Epoch 3 / 7 ========\n",
            "Training...\n",
            "  Batch    40  of    250.    Elapsed: 0:01:03.\n",
            "  Batch    80  of    250.    Elapsed: 0:02:08.\n",
            "  Batch   120  of    250.    Elapsed: 0:03:12.\n",
            "  Batch   160  of    250.    Elapsed: 0:04:17.\n",
            "  Batch   200  of    250.    Elapsed: 0:05:21.\n",
            "  Batch   240  of    250.    Elapsed: 0:06:25.\n",
            "\n",
            "  Average training loss: 0.38\n",
            "  Training epcoh took: 0:06:42\n",
            "\n",
            "Running Validation...\n",
            "  Validation Loss: 0.39\n",
            "  Validation Acc: 0.832\n",
            "  Validation took: 0:00:32\n",
            "\n",
            "======== Epoch 4 / 7 ========\n",
            "Training...\n",
            "  Batch    40  of    250.    Elapsed: 0:00:21.\n",
            "  Batch    80  of    250.    Elapsed: 0:00:42.\n",
            "  Batch   120  of    250.    Elapsed: 0:01:03.\n",
            "  Batch   160  of    250.    Elapsed: 0:01:24.\n",
            "  Batch   200  of    250.    Elapsed: 0:01:45.\n",
            "  Batch   240  of    250.    Elapsed: 0:02:06.\n",
            "\n",
            "  Average training loss: 0.48\n",
            "  Training epcoh took: 0:02:11\n",
            "\n",
            "Running Validation...\n",
            "  Validation Loss: 0.39\n",
            "  Validation Acc: 0.832\n",
            "  Validation took: 0:00:31\n",
            "\n",
            "======== Epoch 5 / 7 ========\n",
            "Training...\n",
            "  Batch    40  of    250.    Elapsed: 0:01:03.\n",
            "  Batch    80  of    250.    Elapsed: 0:02:08.\n",
            "  Batch   120  of    250.    Elapsed: 0:03:12.\n",
            "  Batch   160  of    250.    Elapsed: 0:04:17.\n",
            "  Batch   200  of    250.    Elapsed: 0:05:21.\n",
            "  Batch   240  of    250.    Elapsed: 0:06:26.\n",
            "\n",
            "  Average training loss: 0.33\n",
            "  Training epcoh took: 0:06:42\n",
            "\n",
            "Running Validation...\n",
            "  Validation Loss: 0.42\n",
            "  Validation Acc: 0.840\n",
            "  Validation took: 0:00:32\n",
            "\n",
            "======== Epoch 6 / 7 ========\n",
            "Training...\n",
            "  Batch    40  of    250.    Elapsed: 0:00:21.\n",
            "  Batch    80  of    250.    Elapsed: 0:00:42.\n",
            "  Batch   120  of    250.    Elapsed: 0:01:03.\n",
            "  Batch   160  of    250.    Elapsed: 0:01:24.\n",
            "  Batch   200  of    250.    Elapsed: 0:01:45.\n",
            "  Batch   240  of    250.    Elapsed: 0:02:06.\n",
            "\n",
            "  Average training loss: 0.44\n",
            "  Training epcoh took: 0:02:11\n",
            "\n",
            "Running Validation...\n",
            "  Validation Loss: 0.42\n",
            "  Validation Acc: 0.840\n",
            "  Validation took: 0:00:31\n",
            "\n",
            "======== Epoch 7 / 7 ========\n",
            "Training...\n",
            "  Batch    40  of    250.    Elapsed: 0:01:03.\n",
            "  Batch    80  of    250.    Elapsed: 0:02:08.\n"
          ]
        }
      ],
      "source": [
        "import torch.optim as optim\n",
        "\n",
        "# Optimizer (ADAM is a fancy version of SGD) lr options: 2e-5, 3e-5, 5e-5\n",
        "optimizer = optim.Adam(model.parameters(), lr=1e-5, eps=1e-8)\n",
        "\n",
        "epochs = 7\n",
        "\n",
        "# Loss function\n",
        "ce_criterion = torch.nn.BCELoss()\n",
        "ae_criterion = torch.nn.BCELoss()\n",
        "lambd = 0.0\n",
        "m = 4\n",
        "\n",
        "# We'll store a number of quantities such as training loss and timings.\n",
        "training_stats = []\n",
        "\n",
        "# Measure the total training time for the whole run.\n",
        "total_t0 = time.time()\n",
        "\n",
        "# For each epoch...\n",
        "for epoch_i in range(0, epochs):\n",
        "  if epoch_i % 2 == 0:\n",
        "    for param in model.ae.parameters():\n",
        "        param.require_grad = False\n",
        "    for param in model.out.parameters():\n",
        "        param.require_grad = True\n",
        "    for param in model.bert.parameters():\n",
        "        param.requires_grad = True\n",
        "\n",
        "  else:\n",
        "    for param in model.ae.parameters():\n",
        "        param.require_grad = True\n",
        "    for param in model.out.parameters():\n",
        "        param.require_grad = False\n",
        "    for param in model.bert.parameters():\n",
        "        param.requires_grad = False\n",
        "  # ========================================\n",
        "  #               Training\n",
        "  # ========================================\n",
        "\n",
        "  # Perform one full pass over the training set.\n",
        "\n",
        "  print(\"\")\n",
        "  print('======== Epoch {:} / {:} ========'.format(epoch_i + 1, epochs))\n",
        "  print('Training...')\n",
        "\n",
        "  # Measure how long the training epoch takes.\n",
        "  t0 = time.time()\n",
        "\n",
        "  # Reset the total loss for this epoch.\n",
        "  total_train_loss = 0\n",
        "\n",
        "  # Put the model into training mode.\n",
        "  # Dropout layers behave differently during training vs. eval mode.\n",
        "  model.train()\n",
        "\n",
        "  # For each batch of training data...\n",
        "  for step, batch in enumerate(train_dataloader):\n",
        "\n",
        "    # Progress update every 40 batches.\n",
        "    if step % 40 == 0 and not step == 0:\n",
        "      # Calculate elapsed time in minutes.\n",
        "      elapsed = format_time(time.time() - t0)\n",
        "\n",
        "      # Report progress.\n",
        "      print('  Batch {:>5,}  of  {:>5,}.    Elapsed: {:}.'.format(step, len(train_dataloader), elapsed))\n",
        "\n",
        "    b_input_ids = batch[0].to(device)\n",
        "    b_input_mask = batch[1].to(device)\n",
        "    b_labels = batch[2].to(device)\n",
        "\n",
        "    # zero gradients\n",
        "    optimizer.zero_grad()\n",
        "    model.zero_grad()\n",
        "\n",
        "    # Perform a forward pass (evaluate the model on this training batch).\n",
        "    output, ae = model(b_input_ids, b_input_mask)\n",
        "    source_ids = b_labels[:, 1].view(-1) == 1.0\n",
        "    target_ids = b_labels[:, 1].view(-1) == 0.0\n",
        "\n",
        "    # loss\n",
        "    if epoch_i % 2 == 0:\n",
        "      loss = ce_criterion(output.view(-1), b_labels[:, 0].view(-1)) - lambd * ae_criterion(ae.view(-1), b_labels[:, 1].view(-1))\n",
        "    else:\n",
        "      loss = ae_criterion(ae.view(-1), b_labels[:, 1].view(-1))\n",
        "    total_train_loss += loss.item()\n",
        "\n",
        "    # Perform a backward pass to calculate the gradients.\n",
        "    loss.backward()\n",
        "\n",
        "    # Update parameters and take a step using the computed gradient.\n",
        "    # The optimizer dictates the \"update rule\"--how the parameters are\n",
        "    # modified based on their gradients, the learning rate, etc.\n",
        "    optimizer.step()\n",
        "\n",
        "  # Calculate the average loss over all of the batches.\n",
        "  avg_train_loss = total_train_loss / len(train_dataloader)\n",
        "\n",
        "  # Measure how long this epoch took.\n",
        "  training_time = format_time(time.time() - t0)\n",
        "\n",
        "  print(\"\")\n",
        "  print(\"  Average training loss: {0:.2f}\".format(avg_train_loss))\n",
        "  print(\"  Training epcoh took: {:}\".format(training_time))\n",
        "\n",
        "  # ========================================\n",
        "  #               Validation\n",
        "  # ========================================\n",
        "  # After the completion of each training epoch, measure our performance on\n",
        "  # our validation set.\n",
        "\n",
        "  print(\"\")\n",
        "  print(\"Running Validation...\")\n",
        "\n",
        "  t0 = time.time()\n",
        "\n",
        "  model.eval()\n",
        "\n",
        "  # Tracking variables\n",
        "  total_eval_accuracy = 0\n",
        "  total_size = 0\n",
        "  total_eval_loss = 0\n",
        "  nb_eval_steps = 0\n",
        "\n",
        "  # Evaluate data for one epoch\n",
        "  for batch in dev_dataloader:\n",
        "\n",
        "    # Unpack this training batch from our dataloader.\n",
        "    #\n",
        "    # As we unpack the batch, we'll also copy each tensor to the GPU using\n",
        "    # the `to` method.\n",
        "    #\n",
        "    # `batch` contains three pytorch tensors:\n",
        "    #   [0]: input ids\n",
        "    #   [1]: attention masks\n",
        "    #   [2]: labels\n",
        "    b_input_ids = batch[0].to(device)\n",
        "    b_input_mask = batch[1].to(device)\n",
        "    b_labels = batch[2].to(device)\n",
        "\n",
        "    # Tell pytorch not to bother with constructing the compute graph during\n",
        "    # the forward pass, since this is only needed for backprop (training).\n",
        "    with torch.no_grad():\n",
        "\n",
        "      # Perform a forward pass\n",
        "      output = model(b_input_ids, b_input_mask)[0]\n",
        "\n",
        "    # loss\n",
        "    loss = ce_criterion(output.view(-1), b_labels[:, 0].view(-1))\n",
        "    total_eval_accuracy += torch.sum((output.view(-1) >= 0.5) == b_labels[:, 0].view(-1))\n",
        "    total_size += output.size()[0]\n",
        "\n",
        "    # Accumulate the development loss.\n",
        "    total_eval_loss += loss.item()\n",
        "\n",
        "  # Calculate the average loss over all of the batches.\n",
        "  avg_val_loss = total_eval_loss / len(dev_dataloader)\n",
        "\n",
        "  # Measure how long the development run took.\n",
        "  validation_time = format_time(time.time() - t0)\n",
        "\n",
        "  print(\"  Validation Loss: {0:.2f}\".format(avg_val_loss))\n",
        "  print(\"  Validation Acc: {0:.3f}\".format(total_eval_accuracy / total_size))\n",
        "  print(\"  Validation took: {:}\".format(validation_time))\n",
        "\n",
        "  # Record all statistics from this epoch.\n",
        "  training_stats.append(\n",
        "      {\n",
        "          'epoch': epoch_i + 1,\n",
        "          'Training Loss': avg_train_loss,\n",
        "          'Training Time': training_time,\n",
        "          'Valid. Loss': avg_val_loss,\n",
        "          'Validation Time': validation_time\n",
        "      })\n",
        "\n",
        "print(\"\")\n",
        "print(\"Training complete!\")\n",
        "\n",
        "print(\"Total training took {:} (h:mm:ss)\".format(format_time(time.time()-total_t0)))"
      ]
    },
    {
      "cell_type": "code",
      "source": [],
      "metadata": {
        "id": "CoMMFk-TkYs2"
      },
      "execution_count": null,
      "outputs": []
    },
    {
      "cell_type": "code",
      "execution_count": null,
      "metadata": {
        "id": "46JdqZssf1Pu"
      },
      "outputs": [],
      "source": [
        "import pandas as pd\n",
        "\n",
        "# Display floats with three decimal places.\n",
        "#pd.set_option('precision', 4)\n",
        "\n",
        "# Create a DataFrame from our training statistics.\n",
        "df_stats = pd.DataFrame(data=training_stats)\n",
        "\n",
        "# Use the 'epoch' as the row index.\n",
        "df_stats = df_stats.set_index('epoch')\n",
        "\n",
        "# Display the table.\n",
        "df_stats"
      ]
    },
    {
      "cell_type": "code",
      "execution_count": null,
      "metadata": {
        "id": "Ya44ZLK9UClM"
      },
      "outputs": [],
      "source": []
    },
    {
      "cell_type": "markdown",
      "metadata": {
        "id": "glJ7rGlQJWQQ"
      },
      "source": [
        "# 5. Performance On Test Set"
      ]
    },
    {
      "cell_type": "code",
      "execution_count": null,
      "metadata": {
        "id": "vjjC6kByUCsl"
      },
      "outputs": [],
      "source": [
        "# Prediction on test set\n",
        "\n",
        "print('Predicting values for {:,} test sentences...'.format(len(test_dataloader.dataset)))\n",
        "\n",
        "# Put model in evaluation mode\n",
        "model.eval()\n",
        "\n",
        "# Tracking variables\n",
        "total_test_loss = 0\n",
        "\n",
        "# Predict\n",
        "all_predictions = []\n",
        "all_labels = []\n",
        "for batch in test_dataloader:\n",
        "\n",
        "  # Add batch to GPU\n",
        "  b_input_ids = batch[0].to(device)\n",
        "  b_input_mask = batch[1].to(device)\n",
        "  b_labels = batch[2].to(device)\n",
        "\n",
        "  # Telling the model not to compute or store gradients, saving memory and\n",
        "  # speeding up prediction\n",
        "  with torch.no_grad():\n",
        "\n",
        "    # Perform a forward pass\n",
        "    output, ae = model(b_input_ids, b_input_mask)\n",
        "\n",
        "  # loss\n",
        "  loss = ce_criterion(output.view(-1), b_labels[:, 0].view(-1))\n",
        "  all_predictions.append(output.view(-1).detach().cpu().numpy())\n",
        "  all_labels.append(b_labels[:, 0].view(-1).detach().cpu().numpy())\n",
        "  # Accumulate the development loss.\n",
        "  total_test_loss += loss.item()\n",
        "\n",
        "# Calculate the average loss over all of the batches.\n",
        "avg_test_loss = total_test_loss / len(test_dataloader)\n",
        "\n",
        "print(avg_test_loss)\n",
        "print('    DONE.')"
      ]
    },
    {
      "cell_type": "code",
      "source": [
        "all_predictions = np.concatenate(all_predictions)\n",
        "all_labels = np.concatenate(all_labels)"
      ],
      "metadata": {
        "id": "uvTNy9NSX8o1"
      },
      "execution_count": null,
      "outputs": []
    },
    {
      "cell_type": "code",
      "source": [
        "print(np.mean([label == (pred >= 0.5) for label, pred in zip(all_labels, all_predictions)]))"
      ],
      "metadata": {
        "id": "KjoDyaGxOUL0"
      },
      "execution_count": null,
      "outputs": []
    },
    {
      "cell_type": "code",
      "execution_count": null,
      "metadata": {
        "id": "WSagmcRhsQQO"
      },
      "outputs": [],
      "source": [
        "all_predictions >= 0.5"
      ]
    },
    {
      "cell_type": "code",
      "source": [
        "plt.hist(all_predictions)"
      ],
      "metadata": {
        "id": "y49lJQIuOfJo"
      },
      "execution_count": null,
      "outputs": []
    },
    {
      "cell_type": "markdown",
      "source": [],
      "metadata": {
        "id": "ruVGYNsNOaGX"
      }
    },
    {
      "cell_type": "code",
      "execution_count": null,
      "metadata": {
        "id": "0kejKxBo8Ari"
      },
      "outputs": [],
      "source": []
    },
    {
      "cell_type": "code",
      "execution_count": null,
      "metadata": {
        "id": "4rfrQ8Vb8Ari"
      },
      "outputs": [],
      "source": []
    },
    {
      "cell_type": "code",
      "execution_count": null,
      "metadata": {
        "id": "lyCADiYE8Ari"
      },
      "outputs": [],
      "source": [
        "#print('mean abs', np.mean(np.abs(all_predictions - df[df.split == \"test\"].education.values)))\n",
        "df"
      ]
    },
    {
      "cell_type": "code",
      "execution_count": null,
      "metadata": {
        "id": "qE7OyEI_8Arj"
      },
      "outputs": [],
      "source": [
        "from matplotlib import pyplot as plt\n",
        "\n",
        "plt.scatter(df[df.split == \"test\"].age.values, all_predictions)\n",
        "plt.xlabel('ground_true')\n",
        "plt.ylabel('prediction')"
      ]
    },
    {
      "cell_type": "code",
      "execution_count": null,
      "metadata": {
        "id": "D6NE9yWF8Arj"
      },
      "outputs": [],
      "source": [
        "np.corrcoef(df[df.split == \"test\"].genre.values, all_predictions)"
      ]
    },
    {
      "cell_type": "code",
      "source": [
        "all"
      ],
      "metadata": {
        "id": "93-K2RE4xo4P"
      },
      "execution_count": null,
      "outputs": []
    },
    {
      "cell_type": "code",
      "source": [
        "train_df"
      ],
      "metadata": {
        "id": "gNxmkY2_0iZB"
      },
      "execution_count": null,
      "outputs": []
    },
    {
      "cell_type": "code",
      "source": [
        "print(all_predictions)"
      ],
      "metadata": {
        "id": "Z8cpBT3TNwvO"
      },
      "execution_count": null,
      "outputs": []
    },
    {
      "cell_type": "code",
      "source": [],
      "metadata": {
        "id": "mp4kxZ4LN6zz"
      },
      "execution_count": null,
      "outputs": []
    }
  ],
  "metadata": {
    "accelerator": "GPU",
    "colab": {
      "provenance": []
    },
    "kernelspec": {
      "display_name": "Python 3 (ipykernel)",
      "language": "python",
      "name": "python3"
    },
    "language_info": {
      "codemirror_mode": {
        "name": "ipython",
        "version": 3
      },
      "file_extension": ".py",
      "mimetype": "text/x-python",
      "name": "python",
      "nbconvert_exporter": "python",
      "pygments_lexer": "ipython3",
      "version": "3.7.16"
    },
    "widgets": {
      "application/vnd.jupyter.widget-state+json": {
        "5d860f5b69d141bc92bbb1a0e04224d4": {
          "model_module": "@jupyter-widgets/controls",
          "model_name": "HBoxModel",
          "model_module_version": "1.5.0",
          "state": {
            "_dom_classes": [],
            "_model_module": "@jupyter-widgets/controls",
            "_model_module_version": "1.5.0",
            "_model_name": "HBoxModel",
            "_view_count": null,
            "_view_module": "@jupyter-widgets/controls",
            "_view_module_version": "1.5.0",
            "_view_name": "HBoxView",
            "box_style": "",
            "children": [
              "IPY_MODEL_6064701bdd944f5cb5f61b0abd12d806",
              "IPY_MODEL_642106a14f9349cca36221257b722e71",
              "IPY_MODEL_7a2a2984b852428faff0d8a51c0dbea1"
            ],
            "layout": "IPY_MODEL_b1d69cf70f2a4c92bf88113475c17393"
          }
        },
        "6064701bdd944f5cb5f61b0abd12d806": {
          "model_module": "@jupyter-widgets/controls",
          "model_name": "HTMLModel",
          "model_module_version": "1.5.0",
          "state": {
            "_dom_classes": [],
            "_model_module": "@jupyter-widgets/controls",
            "_model_module_version": "1.5.0",
            "_model_name": "HTMLModel",
            "_view_count": null,
            "_view_module": "@jupyter-widgets/controls",
            "_view_module_version": "1.5.0",
            "_view_name": "HTMLView",
            "description": "",
            "description_tooltip": null,
            "layout": "IPY_MODEL_0fee9222f09f418bafae10d3fde6e532",
            "placeholder": "​",
            "style": "IPY_MODEL_88f52d1ddf45403493bebde02daa45be",
            "value": "tokenizer_config.json: 100%"
          }
        },
        "642106a14f9349cca36221257b722e71": {
          "model_module": "@jupyter-widgets/controls",
          "model_name": "FloatProgressModel",
          "model_module_version": "1.5.0",
          "state": {
            "_dom_classes": [],
            "_model_module": "@jupyter-widgets/controls",
            "_model_module_version": "1.5.0",
            "_model_name": "FloatProgressModel",
            "_view_count": null,
            "_view_module": "@jupyter-widgets/controls",
            "_view_module_version": "1.5.0",
            "_view_name": "ProgressView",
            "bar_style": "success",
            "description": "",
            "description_tooltip": null,
            "layout": "IPY_MODEL_99883109e31d428184978856e1ab5404",
            "max": 49,
            "min": 0,
            "orientation": "horizontal",
            "style": "IPY_MODEL_78d02d0f56d74dbb81bcf44fdb65286c",
            "value": 49
          }
        },
        "7a2a2984b852428faff0d8a51c0dbea1": {
          "model_module": "@jupyter-widgets/controls",
          "model_name": "HTMLModel",
          "model_module_version": "1.5.0",
          "state": {
            "_dom_classes": [],
            "_model_module": "@jupyter-widgets/controls",
            "_model_module_version": "1.5.0",
            "_model_name": "HTMLModel",
            "_view_count": null,
            "_view_module": "@jupyter-widgets/controls",
            "_view_module_version": "1.5.0",
            "_view_name": "HTMLView",
            "description": "",
            "description_tooltip": null,
            "layout": "IPY_MODEL_1691a8d5cac64e2ba92786c33c9e6999",
            "placeholder": "​",
            "style": "IPY_MODEL_63f417ea6ecc4ae08a90022392533b38",
            "value": " 49.0/49.0 [00:00&lt;00:00, 3.14kB/s]"
          }
        },
        "b1d69cf70f2a4c92bf88113475c17393": {
          "model_module": "@jupyter-widgets/base",
          "model_name": "LayoutModel",
          "model_module_version": "1.2.0",
          "state": {
            "_model_module": "@jupyter-widgets/base",
            "_model_module_version": "1.2.0",
            "_model_name": "LayoutModel",
            "_view_count": null,
            "_view_module": "@jupyter-widgets/base",
            "_view_module_version": "1.2.0",
            "_view_name": "LayoutView",
            "align_content": null,
            "align_items": null,
            "align_self": null,
            "border": null,
            "bottom": null,
            "display": null,
            "flex": null,
            "flex_flow": null,
            "grid_area": null,
            "grid_auto_columns": null,
            "grid_auto_flow": null,
            "grid_auto_rows": null,
            "grid_column": null,
            "grid_gap": null,
            "grid_row": null,
            "grid_template_areas": null,
            "grid_template_columns": null,
            "grid_template_rows": null,
            "height": null,
            "justify_content": null,
            "justify_items": null,
            "left": null,
            "margin": null,
            "max_height": null,
            "max_width": null,
            "min_height": null,
            "min_width": null,
            "object_fit": null,
            "object_position": null,
            "order": null,
            "overflow": null,
            "overflow_x": null,
            "overflow_y": null,
            "padding": null,
            "right": null,
            "top": null,
            "visibility": null,
            "width": null
          }
        },
        "0fee9222f09f418bafae10d3fde6e532": {
          "model_module": "@jupyter-widgets/base",
          "model_name": "LayoutModel",
          "model_module_version": "1.2.0",
          "state": {
            "_model_module": "@jupyter-widgets/base",
            "_model_module_version": "1.2.0",
            "_model_name": "LayoutModel",
            "_view_count": null,
            "_view_module": "@jupyter-widgets/base",
            "_view_module_version": "1.2.0",
            "_view_name": "LayoutView",
            "align_content": null,
            "align_items": null,
            "align_self": null,
            "border": null,
            "bottom": null,
            "display": null,
            "flex": null,
            "flex_flow": null,
            "grid_area": null,
            "grid_auto_columns": null,
            "grid_auto_flow": null,
            "grid_auto_rows": null,
            "grid_column": null,
            "grid_gap": null,
            "grid_row": null,
            "grid_template_areas": null,
            "grid_template_columns": null,
            "grid_template_rows": null,
            "height": null,
            "justify_content": null,
            "justify_items": null,
            "left": null,
            "margin": null,
            "max_height": null,
            "max_width": null,
            "min_height": null,
            "min_width": null,
            "object_fit": null,
            "object_position": null,
            "order": null,
            "overflow": null,
            "overflow_x": null,
            "overflow_y": null,
            "padding": null,
            "right": null,
            "top": null,
            "visibility": null,
            "width": null
          }
        },
        "88f52d1ddf45403493bebde02daa45be": {
          "model_module": "@jupyter-widgets/controls",
          "model_name": "DescriptionStyleModel",
          "model_module_version": "1.5.0",
          "state": {
            "_model_module": "@jupyter-widgets/controls",
            "_model_module_version": "1.5.0",
            "_model_name": "DescriptionStyleModel",
            "_view_count": null,
            "_view_module": "@jupyter-widgets/base",
            "_view_module_version": "1.2.0",
            "_view_name": "StyleView",
            "description_width": ""
          }
        },
        "99883109e31d428184978856e1ab5404": {
          "model_module": "@jupyter-widgets/base",
          "model_name": "LayoutModel",
          "model_module_version": "1.2.0",
          "state": {
            "_model_module": "@jupyter-widgets/base",
            "_model_module_version": "1.2.0",
            "_model_name": "LayoutModel",
            "_view_count": null,
            "_view_module": "@jupyter-widgets/base",
            "_view_module_version": "1.2.0",
            "_view_name": "LayoutView",
            "align_content": null,
            "align_items": null,
            "align_self": null,
            "border": null,
            "bottom": null,
            "display": null,
            "flex": null,
            "flex_flow": null,
            "grid_area": null,
            "grid_auto_columns": null,
            "grid_auto_flow": null,
            "grid_auto_rows": null,
            "grid_column": null,
            "grid_gap": null,
            "grid_row": null,
            "grid_template_areas": null,
            "grid_template_columns": null,
            "grid_template_rows": null,
            "height": null,
            "justify_content": null,
            "justify_items": null,
            "left": null,
            "margin": null,
            "max_height": null,
            "max_width": null,
            "min_height": null,
            "min_width": null,
            "object_fit": null,
            "object_position": null,
            "order": null,
            "overflow": null,
            "overflow_x": null,
            "overflow_y": null,
            "padding": null,
            "right": null,
            "top": null,
            "visibility": null,
            "width": null
          }
        },
        "78d02d0f56d74dbb81bcf44fdb65286c": {
          "model_module": "@jupyter-widgets/controls",
          "model_name": "ProgressStyleModel",
          "model_module_version": "1.5.0",
          "state": {
            "_model_module": "@jupyter-widgets/controls",
            "_model_module_version": "1.5.0",
            "_model_name": "ProgressStyleModel",
            "_view_count": null,
            "_view_module": "@jupyter-widgets/base",
            "_view_module_version": "1.2.0",
            "_view_name": "StyleView",
            "bar_color": null,
            "description_width": ""
          }
        },
        "1691a8d5cac64e2ba92786c33c9e6999": {
          "model_module": "@jupyter-widgets/base",
          "model_name": "LayoutModel",
          "model_module_version": "1.2.0",
          "state": {
            "_model_module": "@jupyter-widgets/base",
            "_model_module_version": "1.2.0",
            "_model_name": "LayoutModel",
            "_view_count": null,
            "_view_module": "@jupyter-widgets/base",
            "_view_module_version": "1.2.0",
            "_view_name": "LayoutView",
            "align_content": null,
            "align_items": null,
            "align_self": null,
            "border": null,
            "bottom": null,
            "display": null,
            "flex": null,
            "flex_flow": null,
            "grid_area": null,
            "grid_auto_columns": null,
            "grid_auto_flow": null,
            "grid_auto_rows": null,
            "grid_column": null,
            "grid_gap": null,
            "grid_row": null,
            "grid_template_areas": null,
            "grid_template_columns": null,
            "grid_template_rows": null,
            "height": null,
            "justify_content": null,
            "justify_items": null,
            "left": null,
            "margin": null,
            "max_height": null,
            "max_width": null,
            "min_height": null,
            "min_width": null,
            "object_fit": null,
            "object_position": null,
            "order": null,
            "overflow": null,
            "overflow_x": null,
            "overflow_y": null,
            "padding": null,
            "right": null,
            "top": null,
            "visibility": null,
            "width": null
          }
        },
        "63f417ea6ecc4ae08a90022392533b38": {
          "model_module": "@jupyter-widgets/controls",
          "model_name": "DescriptionStyleModel",
          "model_module_version": "1.5.0",
          "state": {
            "_model_module": "@jupyter-widgets/controls",
            "_model_module_version": "1.5.0",
            "_model_name": "DescriptionStyleModel",
            "_view_count": null,
            "_view_module": "@jupyter-widgets/base",
            "_view_module_version": "1.2.0",
            "_view_name": "StyleView",
            "description_width": ""
          }
        },
        "563fc35ebd624433adf4e05f15bfe013": {
          "model_module": "@jupyter-widgets/controls",
          "model_name": "HBoxModel",
          "model_module_version": "1.5.0",
          "state": {
            "_dom_classes": [],
            "_model_module": "@jupyter-widgets/controls",
            "_model_module_version": "1.5.0",
            "_model_name": "HBoxModel",
            "_view_count": null,
            "_view_module": "@jupyter-widgets/controls",
            "_view_module_version": "1.5.0",
            "_view_name": "HBoxView",
            "box_style": "",
            "children": [
              "IPY_MODEL_672dea9df23147c6bacc5d81bd4fa746",
              "IPY_MODEL_a69a1a767f464674b24181e82ee4c8d0",
              "IPY_MODEL_c6dfdc5c55a849d38fffbe217068eba9"
            ],
            "layout": "IPY_MODEL_c7d5c318c7b845f79f1789743724bc5f"
          }
        },
        "672dea9df23147c6bacc5d81bd4fa746": {
          "model_module": "@jupyter-widgets/controls",
          "model_name": "HTMLModel",
          "model_module_version": "1.5.0",
          "state": {
            "_dom_classes": [],
            "_model_module": "@jupyter-widgets/controls",
            "_model_module_version": "1.5.0",
            "_model_name": "HTMLModel",
            "_view_count": null,
            "_view_module": "@jupyter-widgets/controls",
            "_view_module_version": "1.5.0",
            "_view_name": "HTMLView",
            "description": "",
            "description_tooltip": null,
            "layout": "IPY_MODEL_e53f27246192427b98e1385901e161a7",
            "placeholder": "​",
            "style": "IPY_MODEL_34688485fc354a7d9084f23bb7092068",
            "value": "vocab.txt: 100%"
          }
        },
        "a69a1a767f464674b24181e82ee4c8d0": {
          "model_module": "@jupyter-widgets/controls",
          "model_name": "FloatProgressModel",
          "model_module_version": "1.5.0",
          "state": {
            "_dom_classes": [],
            "_model_module": "@jupyter-widgets/controls",
            "_model_module_version": "1.5.0",
            "_model_name": "FloatProgressModel",
            "_view_count": null,
            "_view_module": "@jupyter-widgets/controls",
            "_view_module_version": "1.5.0",
            "_view_name": "ProgressView",
            "bar_style": "success",
            "description": "",
            "description_tooltip": null,
            "layout": "IPY_MODEL_0860c947561e4f1786f22aa88f340377",
            "max": 995526,
            "min": 0,
            "orientation": "horizontal",
            "style": "IPY_MODEL_fe7613d339904cf7a679d7e66a299c89",
            "value": 995526
          }
        },
        "c6dfdc5c55a849d38fffbe217068eba9": {
          "model_module": "@jupyter-widgets/controls",
          "model_name": "HTMLModel",
          "model_module_version": "1.5.0",
          "state": {
            "_dom_classes": [],
            "_model_module": "@jupyter-widgets/controls",
            "_model_module_version": "1.5.0",
            "_model_name": "HTMLModel",
            "_view_count": null,
            "_view_module": "@jupyter-widgets/controls",
            "_view_module_version": "1.5.0",
            "_view_name": "HTMLView",
            "description": "",
            "description_tooltip": null,
            "layout": "IPY_MODEL_6786ef31d8b94165b9893f2f650e713e",
            "placeholder": "​",
            "style": "IPY_MODEL_468eaa5a6970471996842338bddd8c3d",
            "value": " 996k/996k [00:00&lt;00:00, 1.53MB/s]"
          }
        },
        "c7d5c318c7b845f79f1789743724bc5f": {
          "model_module": "@jupyter-widgets/base",
          "model_name": "LayoutModel",
          "model_module_version": "1.2.0",
          "state": {
            "_model_module": "@jupyter-widgets/base",
            "_model_module_version": "1.2.0",
            "_model_name": "LayoutModel",
            "_view_count": null,
            "_view_module": "@jupyter-widgets/base",
            "_view_module_version": "1.2.0",
            "_view_name": "LayoutView",
            "align_content": null,
            "align_items": null,
            "align_self": null,
            "border": null,
            "bottom": null,
            "display": null,
            "flex": null,
            "flex_flow": null,
            "grid_area": null,
            "grid_auto_columns": null,
            "grid_auto_flow": null,
            "grid_auto_rows": null,
            "grid_column": null,
            "grid_gap": null,
            "grid_row": null,
            "grid_template_areas": null,
            "grid_template_columns": null,
            "grid_template_rows": null,
            "height": null,
            "justify_content": null,
            "justify_items": null,
            "left": null,
            "margin": null,
            "max_height": null,
            "max_width": null,
            "min_height": null,
            "min_width": null,
            "object_fit": null,
            "object_position": null,
            "order": null,
            "overflow": null,
            "overflow_x": null,
            "overflow_y": null,
            "padding": null,
            "right": null,
            "top": null,
            "visibility": null,
            "width": null
          }
        },
        "e53f27246192427b98e1385901e161a7": {
          "model_module": "@jupyter-widgets/base",
          "model_name": "LayoutModel",
          "model_module_version": "1.2.0",
          "state": {
            "_model_module": "@jupyter-widgets/base",
            "_model_module_version": "1.2.0",
            "_model_name": "LayoutModel",
            "_view_count": null,
            "_view_module": "@jupyter-widgets/base",
            "_view_module_version": "1.2.0",
            "_view_name": "LayoutView",
            "align_content": null,
            "align_items": null,
            "align_self": null,
            "border": null,
            "bottom": null,
            "display": null,
            "flex": null,
            "flex_flow": null,
            "grid_area": null,
            "grid_auto_columns": null,
            "grid_auto_flow": null,
            "grid_auto_rows": null,
            "grid_column": null,
            "grid_gap": null,
            "grid_row": null,
            "grid_template_areas": null,
            "grid_template_columns": null,
            "grid_template_rows": null,
            "height": null,
            "justify_content": null,
            "justify_items": null,
            "left": null,
            "margin": null,
            "max_height": null,
            "max_width": null,
            "min_height": null,
            "min_width": null,
            "object_fit": null,
            "object_position": null,
            "order": null,
            "overflow": null,
            "overflow_x": null,
            "overflow_y": null,
            "padding": null,
            "right": null,
            "top": null,
            "visibility": null,
            "width": null
          }
        },
        "34688485fc354a7d9084f23bb7092068": {
          "model_module": "@jupyter-widgets/controls",
          "model_name": "DescriptionStyleModel",
          "model_module_version": "1.5.0",
          "state": {
            "_model_module": "@jupyter-widgets/controls",
            "_model_module_version": "1.5.0",
            "_model_name": "DescriptionStyleModel",
            "_view_count": null,
            "_view_module": "@jupyter-widgets/base",
            "_view_module_version": "1.2.0",
            "_view_name": "StyleView",
            "description_width": ""
          }
        },
        "0860c947561e4f1786f22aa88f340377": {
          "model_module": "@jupyter-widgets/base",
          "model_name": "LayoutModel",
          "model_module_version": "1.2.0",
          "state": {
            "_model_module": "@jupyter-widgets/base",
            "_model_module_version": "1.2.0",
            "_model_name": "LayoutModel",
            "_view_count": null,
            "_view_module": "@jupyter-widgets/base",
            "_view_module_version": "1.2.0",
            "_view_name": "LayoutView",
            "align_content": null,
            "align_items": null,
            "align_self": null,
            "border": null,
            "bottom": null,
            "display": null,
            "flex": null,
            "flex_flow": null,
            "grid_area": null,
            "grid_auto_columns": null,
            "grid_auto_flow": null,
            "grid_auto_rows": null,
            "grid_column": null,
            "grid_gap": null,
            "grid_row": null,
            "grid_template_areas": null,
            "grid_template_columns": null,
            "grid_template_rows": null,
            "height": null,
            "justify_content": null,
            "justify_items": null,
            "left": null,
            "margin": null,
            "max_height": null,
            "max_width": null,
            "min_height": null,
            "min_width": null,
            "object_fit": null,
            "object_position": null,
            "order": null,
            "overflow": null,
            "overflow_x": null,
            "overflow_y": null,
            "padding": null,
            "right": null,
            "top": null,
            "visibility": null,
            "width": null
          }
        },
        "fe7613d339904cf7a679d7e66a299c89": {
          "model_module": "@jupyter-widgets/controls",
          "model_name": "ProgressStyleModel",
          "model_module_version": "1.5.0",
          "state": {
            "_model_module": "@jupyter-widgets/controls",
            "_model_module_version": "1.5.0",
            "_model_name": "ProgressStyleModel",
            "_view_count": null,
            "_view_module": "@jupyter-widgets/base",
            "_view_module_version": "1.2.0",
            "_view_name": "StyleView",
            "bar_color": null,
            "description_width": ""
          }
        },
        "6786ef31d8b94165b9893f2f650e713e": {
          "model_module": "@jupyter-widgets/base",
          "model_name": "LayoutModel",
          "model_module_version": "1.2.0",
          "state": {
            "_model_module": "@jupyter-widgets/base",
            "_model_module_version": "1.2.0",
            "_model_name": "LayoutModel",
            "_view_count": null,
            "_view_module": "@jupyter-widgets/base",
            "_view_module_version": "1.2.0",
            "_view_name": "LayoutView",
            "align_content": null,
            "align_items": null,
            "align_self": null,
            "border": null,
            "bottom": null,
            "display": null,
            "flex": null,
            "flex_flow": null,
            "grid_area": null,
            "grid_auto_columns": null,
            "grid_auto_flow": null,
            "grid_auto_rows": null,
            "grid_column": null,
            "grid_gap": null,
            "grid_row": null,
            "grid_template_areas": null,
            "grid_template_columns": null,
            "grid_template_rows": null,
            "height": null,
            "justify_content": null,
            "justify_items": null,
            "left": null,
            "margin": null,
            "max_height": null,
            "max_width": null,
            "min_height": null,
            "min_width": null,
            "object_fit": null,
            "object_position": null,
            "order": null,
            "overflow": null,
            "overflow_x": null,
            "overflow_y": null,
            "padding": null,
            "right": null,
            "top": null,
            "visibility": null,
            "width": null
          }
        },
        "468eaa5a6970471996842338bddd8c3d": {
          "model_module": "@jupyter-widgets/controls",
          "model_name": "DescriptionStyleModel",
          "model_module_version": "1.5.0",
          "state": {
            "_model_module": "@jupyter-widgets/controls",
            "_model_module_version": "1.5.0",
            "_model_name": "DescriptionStyleModel",
            "_view_count": null,
            "_view_module": "@jupyter-widgets/base",
            "_view_module_version": "1.2.0",
            "_view_name": "StyleView",
            "description_width": ""
          }
        },
        "6f0a3358d8ca46bb894eef9621f91aa7": {
          "model_module": "@jupyter-widgets/controls",
          "model_name": "HBoxModel",
          "model_module_version": "1.5.0",
          "state": {
            "_dom_classes": [],
            "_model_module": "@jupyter-widgets/controls",
            "_model_module_version": "1.5.0",
            "_model_name": "HBoxModel",
            "_view_count": null,
            "_view_module": "@jupyter-widgets/controls",
            "_view_module_version": "1.5.0",
            "_view_name": "HBoxView",
            "box_style": "",
            "children": [
              "IPY_MODEL_2336ff8f26be44778594de8e2921347d",
              "IPY_MODEL_651bb5bf700843df945fd1e928ef8727",
              "IPY_MODEL_3d6e0fe5664d49beb125ef98d87d1b09"
            ],
            "layout": "IPY_MODEL_5a64162abc7c47b687bc52d142294da3"
          }
        },
        "2336ff8f26be44778594de8e2921347d": {
          "model_module": "@jupyter-widgets/controls",
          "model_name": "HTMLModel",
          "model_module_version": "1.5.0",
          "state": {
            "_dom_classes": [],
            "_model_module": "@jupyter-widgets/controls",
            "_model_module_version": "1.5.0",
            "_model_name": "HTMLModel",
            "_view_count": null,
            "_view_module": "@jupyter-widgets/controls",
            "_view_module_version": "1.5.0",
            "_view_name": "HTMLView",
            "description": "",
            "description_tooltip": null,
            "layout": "IPY_MODEL_05ffa1ad504f4463ad05f298a176fb08",
            "placeholder": "​",
            "style": "IPY_MODEL_9a54197c5cb74b629d325e3d7ce8aa44",
            "value": "tokenizer.json: 100%"
          }
        },
        "651bb5bf700843df945fd1e928ef8727": {
          "model_module": "@jupyter-widgets/controls",
          "model_name": "FloatProgressModel",
          "model_module_version": "1.5.0",
          "state": {
            "_dom_classes": [],
            "_model_module": "@jupyter-widgets/controls",
            "_model_module_version": "1.5.0",
            "_model_name": "FloatProgressModel",
            "_view_count": null,
            "_view_module": "@jupyter-widgets/controls",
            "_view_module_version": "1.5.0",
            "_view_name": "ProgressView",
            "bar_style": "success",
            "description": "",
            "description_tooltip": null,
            "layout": "IPY_MODEL_d38511fac7c94f569b7ac35d66c449c9",
            "max": 1961828,
            "min": 0,
            "orientation": "horizontal",
            "style": "IPY_MODEL_b975c0ea983945b98a44f3739bcc894d",
            "value": 1961828
          }
        },
        "3d6e0fe5664d49beb125ef98d87d1b09": {
          "model_module": "@jupyter-widgets/controls",
          "model_name": "HTMLModel",
          "model_module_version": "1.5.0",
          "state": {
            "_dom_classes": [],
            "_model_module": "@jupyter-widgets/controls",
            "_model_module_version": "1.5.0",
            "_model_name": "HTMLModel",
            "_view_count": null,
            "_view_module": "@jupyter-widgets/controls",
            "_view_module_version": "1.5.0",
            "_view_name": "HTMLView",
            "description": "",
            "description_tooltip": null,
            "layout": "IPY_MODEL_1c07061356b44a299dcfbd45f9a34aa4",
            "placeholder": "​",
            "style": "IPY_MODEL_ffc5784a50e149238cf725a47b369113",
            "value": " 1.96M/1.96M [00:00&lt;00:00, 2.20MB/s]"
          }
        },
        "5a64162abc7c47b687bc52d142294da3": {
          "model_module": "@jupyter-widgets/base",
          "model_name": "LayoutModel",
          "model_module_version": "1.2.0",
          "state": {
            "_model_module": "@jupyter-widgets/base",
            "_model_module_version": "1.2.0",
            "_model_name": "LayoutModel",
            "_view_count": null,
            "_view_module": "@jupyter-widgets/base",
            "_view_module_version": "1.2.0",
            "_view_name": "LayoutView",
            "align_content": null,
            "align_items": null,
            "align_self": null,
            "border": null,
            "bottom": null,
            "display": null,
            "flex": null,
            "flex_flow": null,
            "grid_area": null,
            "grid_auto_columns": null,
            "grid_auto_flow": null,
            "grid_auto_rows": null,
            "grid_column": null,
            "grid_gap": null,
            "grid_row": null,
            "grid_template_areas": null,
            "grid_template_columns": null,
            "grid_template_rows": null,
            "height": null,
            "justify_content": null,
            "justify_items": null,
            "left": null,
            "margin": null,
            "max_height": null,
            "max_width": null,
            "min_height": null,
            "min_width": null,
            "object_fit": null,
            "object_position": null,
            "order": null,
            "overflow": null,
            "overflow_x": null,
            "overflow_y": null,
            "padding": null,
            "right": null,
            "top": null,
            "visibility": null,
            "width": null
          }
        },
        "05ffa1ad504f4463ad05f298a176fb08": {
          "model_module": "@jupyter-widgets/base",
          "model_name": "LayoutModel",
          "model_module_version": "1.2.0",
          "state": {
            "_model_module": "@jupyter-widgets/base",
            "_model_module_version": "1.2.0",
            "_model_name": "LayoutModel",
            "_view_count": null,
            "_view_module": "@jupyter-widgets/base",
            "_view_module_version": "1.2.0",
            "_view_name": "LayoutView",
            "align_content": null,
            "align_items": null,
            "align_self": null,
            "border": null,
            "bottom": null,
            "display": null,
            "flex": null,
            "flex_flow": null,
            "grid_area": null,
            "grid_auto_columns": null,
            "grid_auto_flow": null,
            "grid_auto_rows": null,
            "grid_column": null,
            "grid_gap": null,
            "grid_row": null,
            "grid_template_areas": null,
            "grid_template_columns": null,
            "grid_template_rows": null,
            "height": null,
            "justify_content": null,
            "justify_items": null,
            "left": null,
            "margin": null,
            "max_height": null,
            "max_width": null,
            "min_height": null,
            "min_width": null,
            "object_fit": null,
            "object_position": null,
            "order": null,
            "overflow": null,
            "overflow_x": null,
            "overflow_y": null,
            "padding": null,
            "right": null,
            "top": null,
            "visibility": null,
            "width": null
          }
        },
        "9a54197c5cb74b629d325e3d7ce8aa44": {
          "model_module": "@jupyter-widgets/controls",
          "model_name": "DescriptionStyleModel",
          "model_module_version": "1.5.0",
          "state": {
            "_model_module": "@jupyter-widgets/controls",
            "_model_module_version": "1.5.0",
            "_model_name": "DescriptionStyleModel",
            "_view_count": null,
            "_view_module": "@jupyter-widgets/base",
            "_view_module_version": "1.2.0",
            "_view_name": "StyleView",
            "description_width": ""
          }
        },
        "d38511fac7c94f569b7ac35d66c449c9": {
          "model_module": "@jupyter-widgets/base",
          "model_name": "LayoutModel",
          "model_module_version": "1.2.0",
          "state": {
            "_model_module": "@jupyter-widgets/base",
            "_model_module_version": "1.2.0",
            "_model_name": "LayoutModel",
            "_view_count": null,
            "_view_module": "@jupyter-widgets/base",
            "_view_module_version": "1.2.0",
            "_view_name": "LayoutView",
            "align_content": null,
            "align_items": null,
            "align_self": null,
            "border": null,
            "bottom": null,
            "display": null,
            "flex": null,
            "flex_flow": null,
            "grid_area": null,
            "grid_auto_columns": null,
            "grid_auto_flow": null,
            "grid_auto_rows": null,
            "grid_column": null,
            "grid_gap": null,
            "grid_row": null,
            "grid_template_areas": null,
            "grid_template_columns": null,
            "grid_template_rows": null,
            "height": null,
            "justify_content": null,
            "justify_items": null,
            "left": null,
            "margin": null,
            "max_height": null,
            "max_width": null,
            "min_height": null,
            "min_width": null,
            "object_fit": null,
            "object_position": null,
            "order": null,
            "overflow": null,
            "overflow_x": null,
            "overflow_y": null,
            "padding": null,
            "right": null,
            "top": null,
            "visibility": null,
            "width": null
          }
        },
        "b975c0ea983945b98a44f3739bcc894d": {
          "model_module": "@jupyter-widgets/controls",
          "model_name": "ProgressStyleModel",
          "model_module_version": "1.5.0",
          "state": {
            "_model_module": "@jupyter-widgets/controls",
            "_model_module_version": "1.5.0",
            "_model_name": "ProgressStyleModel",
            "_view_count": null,
            "_view_module": "@jupyter-widgets/base",
            "_view_module_version": "1.2.0",
            "_view_name": "StyleView",
            "bar_color": null,
            "description_width": ""
          }
        },
        "1c07061356b44a299dcfbd45f9a34aa4": {
          "model_module": "@jupyter-widgets/base",
          "model_name": "LayoutModel",
          "model_module_version": "1.2.0",
          "state": {
            "_model_module": "@jupyter-widgets/base",
            "_model_module_version": "1.2.0",
            "_model_name": "LayoutModel",
            "_view_count": null,
            "_view_module": "@jupyter-widgets/base",
            "_view_module_version": "1.2.0",
            "_view_name": "LayoutView",
            "align_content": null,
            "align_items": null,
            "align_self": null,
            "border": null,
            "bottom": null,
            "display": null,
            "flex": null,
            "flex_flow": null,
            "grid_area": null,
            "grid_auto_columns": null,
            "grid_auto_flow": null,
            "grid_auto_rows": null,
            "grid_column": null,
            "grid_gap": null,
            "grid_row": null,
            "grid_template_areas": null,
            "grid_template_columns": null,
            "grid_template_rows": null,
            "height": null,
            "justify_content": null,
            "justify_items": null,
            "left": null,
            "margin": null,
            "max_height": null,
            "max_width": null,
            "min_height": null,
            "min_width": null,
            "object_fit": null,
            "object_position": null,
            "order": null,
            "overflow": null,
            "overflow_x": null,
            "overflow_y": null,
            "padding": null,
            "right": null,
            "top": null,
            "visibility": null,
            "width": null
          }
        },
        "ffc5784a50e149238cf725a47b369113": {
          "model_module": "@jupyter-widgets/controls",
          "model_name": "DescriptionStyleModel",
          "model_module_version": "1.5.0",
          "state": {
            "_model_module": "@jupyter-widgets/controls",
            "_model_module_version": "1.5.0",
            "_model_name": "DescriptionStyleModel",
            "_view_count": null,
            "_view_module": "@jupyter-widgets/base",
            "_view_module_version": "1.2.0",
            "_view_name": "StyleView",
            "description_width": ""
          }
        },
        "c53ea04644e8409e808a4063ef37f025": {
          "model_module": "@jupyter-widgets/controls",
          "model_name": "HBoxModel",
          "model_module_version": "1.5.0",
          "state": {
            "_dom_classes": [],
            "_model_module": "@jupyter-widgets/controls",
            "_model_module_version": "1.5.0",
            "_model_name": "HBoxModel",
            "_view_count": null,
            "_view_module": "@jupyter-widgets/controls",
            "_view_module_version": "1.5.0",
            "_view_name": "HBoxView",
            "box_style": "",
            "children": [
              "IPY_MODEL_02f6a3483836466c8e3fd562a82acb61",
              "IPY_MODEL_3da2ee29c72b4b5ca03e7e8616a514b4",
              "IPY_MODEL_e945adbf30b14b55ac0705a27be30ec9"
            ],
            "layout": "IPY_MODEL_7a613e8db7504681af8a0621f9152df9"
          }
        },
        "02f6a3483836466c8e3fd562a82acb61": {
          "model_module": "@jupyter-widgets/controls",
          "model_name": "HTMLModel",
          "model_module_version": "1.5.0",
          "state": {
            "_dom_classes": [],
            "_model_module": "@jupyter-widgets/controls",
            "_model_module_version": "1.5.0",
            "_model_name": "HTMLModel",
            "_view_count": null,
            "_view_module": "@jupyter-widgets/controls",
            "_view_module_version": "1.5.0",
            "_view_name": "HTMLView",
            "description": "",
            "description_tooltip": null,
            "layout": "IPY_MODEL_7b7e8579237f4552a773308b080d7c29",
            "placeholder": "​",
            "style": "IPY_MODEL_18022e17165045368f0a3762100d1d0b",
            "value": "config.json: 100%"
          }
        },
        "3da2ee29c72b4b5ca03e7e8616a514b4": {
          "model_module": "@jupyter-widgets/controls",
          "model_name": "FloatProgressModel",
          "model_module_version": "1.5.0",
          "state": {
            "_dom_classes": [],
            "_model_module": "@jupyter-widgets/controls",
            "_model_module_version": "1.5.0",
            "_model_name": "FloatProgressModel",
            "_view_count": null,
            "_view_module": "@jupyter-widgets/controls",
            "_view_module_version": "1.5.0",
            "_view_name": "ProgressView",
            "bar_style": "success",
            "description": "",
            "description_tooltip": null,
            "layout": "IPY_MODEL_9070591e86884d9ebafd1b6b9eef31e0",
            "max": 625,
            "min": 0,
            "orientation": "horizontal",
            "style": "IPY_MODEL_adbe0f80a7154d04a2c24b8611357848",
            "value": 625
          }
        },
        "e945adbf30b14b55ac0705a27be30ec9": {
          "model_module": "@jupyter-widgets/controls",
          "model_name": "HTMLModel",
          "model_module_version": "1.5.0",
          "state": {
            "_dom_classes": [],
            "_model_module": "@jupyter-widgets/controls",
            "_model_module_version": "1.5.0",
            "_model_name": "HTMLModel",
            "_view_count": null,
            "_view_module": "@jupyter-widgets/controls",
            "_view_module_version": "1.5.0",
            "_view_name": "HTMLView",
            "description": "",
            "description_tooltip": null,
            "layout": "IPY_MODEL_c46210d3e46d42cca4e65b171e62cea1",
            "placeholder": "​",
            "style": "IPY_MODEL_1369bb65d8b74c9d9111a537b1d0d5c4",
            "value": " 625/625 [00:00&lt;00:00, 45.6kB/s]"
          }
        },
        "7a613e8db7504681af8a0621f9152df9": {
          "model_module": "@jupyter-widgets/base",
          "model_name": "LayoutModel",
          "model_module_version": "1.2.0",
          "state": {
            "_model_module": "@jupyter-widgets/base",
            "_model_module_version": "1.2.0",
            "_model_name": "LayoutModel",
            "_view_count": null,
            "_view_module": "@jupyter-widgets/base",
            "_view_module_version": "1.2.0",
            "_view_name": "LayoutView",
            "align_content": null,
            "align_items": null,
            "align_self": null,
            "border": null,
            "bottom": null,
            "display": null,
            "flex": null,
            "flex_flow": null,
            "grid_area": null,
            "grid_auto_columns": null,
            "grid_auto_flow": null,
            "grid_auto_rows": null,
            "grid_column": null,
            "grid_gap": null,
            "grid_row": null,
            "grid_template_areas": null,
            "grid_template_columns": null,
            "grid_template_rows": null,
            "height": null,
            "justify_content": null,
            "justify_items": null,
            "left": null,
            "margin": null,
            "max_height": null,
            "max_width": null,
            "min_height": null,
            "min_width": null,
            "object_fit": null,
            "object_position": null,
            "order": null,
            "overflow": null,
            "overflow_x": null,
            "overflow_y": null,
            "padding": null,
            "right": null,
            "top": null,
            "visibility": null,
            "width": null
          }
        },
        "7b7e8579237f4552a773308b080d7c29": {
          "model_module": "@jupyter-widgets/base",
          "model_name": "LayoutModel",
          "model_module_version": "1.2.0",
          "state": {
            "_model_module": "@jupyter-widgets/base",
            "_model_module_version": "1.2.0",
            "_model_name": "LayoutModel",
            "_view_count": null,
            "_view_module": "@jupyter-widgets/base",
            "_view_module_version": "1.2.0",
            "_view_name": "LayoutView",
            "align_content": null,
            "align_items": null,
            "align_self": null,
            "border": null,
            "bottom": null,
            "display": null,
            "flex": null,
            "flex_flow": null,
            "grid_area": null,
            "grid_auto_columns": null,
            "grid_auto_flow": null,
            "grid_auto_rows": null,
            "grid_column": null,
            "grid_gap": null,
            "grid_row": null,
            "grid_template_areas": null,
            "grid_template_columns": null,
            "grid_template_rows": null,
            "height": null,
            "justify_content": null,
            "justify_items": null,
            "left": null,
            "margin": null,
            "max_height": null,
            "max_width": null,
            "min_height": null,
            "min_width": null,
            "object_fit": null,
            "object_position": null,
            "order": null,
            "overflow": null,
            "overflow_x": null,
            "overflow_y": null,
            "padding": null,
            "right": null,
            "top": null,
            "visibility": null,
            "width": null
          }
        },
        "18022e17165045368f0a3762100d1d0b": {
          "model_module": "@jupyter-widgets/controls",
          "model_name": "DescriptionStyleModel",
          "model_module_version": "1.5.0",
          "state": {
            "_model_module": "@jupyter-widgets/controls",
            "_model_module_version": "1.5.0",
            "_model_name": "DescriptionStyleModel",
            "_view_count": null,
            "_view_module": "@jupyter-widgets/base",
            "_view_module_version": "1.2.0",
            "_view_name": "StyleView",
            "description_width": ""
          }
        },
        "9070591e86884d9ebafd1b6b9eef31e0": {
          "model_module": "@jupyter-widgets/base",
          "model_name": "LayoutModel",
          "model_module_version": "1.2.0",
          "state": {
            "_model_module": "@jupyter-widgets/base",
            "_model_module_version": "1.2.0",
            "_model_name": "LayoutModel",
            "_view_count": null,
            "_view_module": "@jupyter-widgets/base",
            "_view_module_version": "1.2.0",
            "_view_name": "LayoutView",
            "align_content": null,
            "align_items": null,
            "align_self": null,
            "border": null,
            "bottom": null,
            "display": null,
            "flex": null,
            "flex_flow": null,
            "grid_area": null,
            "grid_auto_columns": null,
            "grid_auto_flow": null,
            "grid_auto_rows": null,
            "grid_column": null,
            "grid_gap": null,
            "grid_row": null,
            "grid_template_areas": null,
            "grid_template_columns": null,
            "grid_template_rows": null,
            "height": null,
            "justify_content": null,
            "justify_items": null,
            "left": null,
            "margin": null,
            "max_height": null,
            "max_width": null,
            "min_height": null,
            "min_width": null,
            "object_fit": null,
            "object_position": null,
            "order": null,
            "overflow": null,
            "overflow_x": null,
            "overflow_y": null,
            "padding": null,
            "right": null,
            "top": null,
            "visibility": null,
            "width": null
          }
        },
        "adbe0f80a7154d04a2c24b8611357848": {
          "model_module": "@jupyter-widgets/controls",
          "model_name": "ProgressStyleModel",
          "model_module_version": "1.5.0",
          "state": {
            "_model_module": "@jupyter-widgets/controls",
            "_model_module_version": "1.5.0",
            "_model_name": "ProgressStyleModel",
            "_view_count": null,
            "_view_module": "@jupyter-widgets/base",
            "_view_module_version": "1.2.0",
            "_view_name": "StyleView",
            "bar_color": null,
            "description_width": ""
          }
        },
        "c46210d3e46d42cca4e65b171e62cea1": {
          "model_module": "@jupyter-widgets/base",
          "model_name": "LayoutModel",
          "model_module_version": "1.2.0",
          "state": {
            "_model_module": "@jupyter-widgets/base",
            "_model_module_version": "1.2.0",
            "_model_name": "LayoutModel",
            "_view_count": null,
            "_view_module": "@jupyter-widgets/base",
            "_view_module_version": "1.2.0",
            "_view_name": "LayoutView",
            "align_content": null,
            "align_items": null,
            "align_self": null,
            "border": null,
            "bottom": null,
            "display": null,
            "flex": null,
            "flex_flow": null,
            "grid_area": null,
            "grid_auto_columns": null,
            "grid_auto_flow": null,
            "grid_auto_rows": null,
            "grid_column": null,
            "grid_gap": null,
            "grid_row": null,
            "grid_template_areas": null,
            "grid_template_columns": null,
            "grid_template_rows": null,
            "height": null,
            "justify_content": null,
            "justify_items": null,
            "left": null,
            "margin": null,
            "max_height": null,
            "max_width": null,
            "min_height": null,
            "min_width": null,
            "object_fit": null,
            "object_position": null,
            "order": null,
            "overflow": null,
            "overflow_x": null,
            "overflow_y": null,
            "padding": null,
            "right": null,
            "top": null,
            "visibility": null,
            "width": null
          }
        },
        "1369bb65d8b74c9d9111a537b1d0d5c4": {
          "model_module": "@jupyter-widgets/controls",
          "model_name": "DescriptionStyleModel",
          "model_module_version": "1.5.0",
          "state": {
            "_model_module": "@jupyter-widgets/controls",
            "_model_module_version": "1.5.0",
            "_model_name": "DescriptionStyleModel",
            "_view_count": null,
            "_view_module": "@jupyter-widgets/base",
            "_view_module_version": "1.2.0",
            "_view_name": "StyleView",
            "description_width": ""
          }
        }
      }
    }
  },
  "nbformat": 4,
  "nbformat_minor": 0
}