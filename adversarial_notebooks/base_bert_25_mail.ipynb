{
  "cells": [
    {
      "cell_type": "markdown",
      "metadata": {
        "id": "2WJfM6R9w_K8"
      },
      "source": [
        "# Training a neural emotion detection using BERT\n"
      ]
    },
    {
      "cell_type": "markdown",
      "metadata": {
        "id": "WLKcxpYaE8ub"
      },
      "source": [
        "# 1. Setup"
      ]
    },
    {
      "cell_type": "code",
      "execution_count": 1,
      "metadata": {
        "id": "7rCsHIWmEBkX"
      },
      "outputs": [],
      "source": [
        "PASTEL_DATASET = '.'\n",
        "!mkdir -p {PASTEL_DATASET}"
      ]
    },
    {
      "cell_type": "code",
      "source": [
        "'''import pandas as pd\n",
        "\n",
        "raw_df = pd.read_excel('CLEAR_corpus_final.xlsx')\n",
        "raw_df['text'] = raw_df['Excerpt']\n",
        "raw_df['genre'] = raw_df['BT_easiness']\n",
        "raw_df = raw_df.sample(frac=1.0)\n",
        "\n",
        "train_df = raw_df.iloc[:int(0.8 * len(raw_df))]\n",
        "test_df = raw_df.iloc[int(0.8 * len(raw_df)):]\n",
        "train_df.to_csv(f'{PASTEL_DATASET}/train.csv')\n",
        "test_df.to_csv(f'{PASTEL_DATASET}/test.csv')'''"
      ],
      "metadata": {
        "id": "gGa20MG8N5QD",
        "colab": {
          "base_uri": "https://localhost:8080/",
          "height": 72
        },
        "outputId": "78e7e103-c19b-445c-f6c0-dcda098f8ab9"
      },
      "execution_count": 2,
      "outputs": [
        {
          "output_type": "execute_result",
          "data": {
            "text/plain": [
              "\"import pandas as pd\\n\\nraw_df = pd.read_excel('CLEAR_corpus_final.xlsx')\\nraw_df['text'] = raw_df['Excerpt']\\nraw_df['genre'] = raw_df['BT_easiness']\\nraw_df = raw_df.sample(frac=1.0)\\n\\ntrain_df = raw_df.iloc[:int(0.8 * len(raw_df))]\\ntest_df = raw_df.iloc[int(0.8 * len(raw_df)):]\\ntrain_df.to_csv(f'{PASTEL_DATASET}/train.csv')\\ntest_df.to_csv(f'{PASTEL_DATASET}/test.csv')\""
            ],
            "application/vnd.google.colaboratory.intrinsic+json": {
              "type": "string"
            }
          },
          "metadata": {},
          "execution_count": 2
        }
      ]
    },
    {
      "cell_type": "code",
      "source": [],
      "metadata": {
        "id": "CC0yc1pmOMly"
      },
      "execution_count": 2,
      "outputs": []
    },
    {
      "cell_type": "markdown",
      "metadata": {
        "id": "4mxB8Ag1FCE3"
      },
      "source": [
        "## 1.1. Using Colab GPU for training"
      ]
    },
    {
      "cell_type": "code",
      "execution_count": 3,
      "metadata": {
        "colab": {
          "base_uri": "https://localhost:8080/"
        },
        "id": "24GNUdYRE-jv",
        "outputId": "72ffedc2-dd75-46f0-af9f-913932c7de8c"
      },
      "outputs": [
        {
          "output_type": "stream",
          "name": "stdout",
          "text": [
            "We will use the GPU: Tesla T4\n"
          ]
        }
      ],
      "source": [
        "import torch\n",
        "\n",
        "# If there's a GPU avaiable, tell PyTorch to use the GPU,\n",
        "# otherwise, using the CPU instead.\n",
        "if torch.cuda.is_available():\n",
        "  device = torch.device(\"cuda\")\n",
        "  print('We will use the GPU:', torch.cuda.get_device_name(0))\n",
        "else:\n",
        "  device = torch.device(\"cpu\")\n",
        "  print('We will use the CPU because no GPU available.')"
      ]
    },
    {
      "cell_type": "markdown",
      "metadata": {
        "id": "mdJoYx-IFZNL"
      },
      "source": [
        "## 1.2. Installing the Hugging Face Library"
      ]
    },
    {
      "cell_type": "markdown",
      "metadata": {
        "id": "n1Mf_l2gLo3g"
      },
      "source": [
        "Install the pytorch interface for BERT by Hugging Face."
      ]
    },
    {
      "cell_type": "code",
      "execution_count": 4,
      "metadata": {
        "id": "8QbUEEkwLoCt"
      },
      "outputs": [],
      "source": [
        "#!pip install transformers"
      ]
    },
    {
      "cell_type": "markdown",
      "metadata": {
        "id": "OniLT7F0Fns5"
      },
      "source": [
        "# 2. Loading EmoBank Dataset"
      ]
    },
    {
      "cell_type": "markdown",
      "metadata": {
        "id": "cm3bmG8VI5mA"
      },
      "source": [
        "The dataset that we work on is called EmoBank, which comprises 10k sentences balancing multiple genres.\n",
        "\n",
        "It's hosted on GitHub in this repo: https://github.com/JULIELab/EmoBank"
      ]
    },
    {
      "cell_type": "code",
      "source": [
        "!ls {PASTEL_DATASET}"
      ],
      "metadata": {
        "colab": {
          "base_uri": "https://localhost:8080/"
        },
        "id": "ZC2_6MbCBFcv",
        "outputId": "2b279f79-19da-48da-d36b-16b1135d0425"
      },
      "execution_count": 5,
      "outputs": [
        {
          "output_type": "stream",
          "name": "stdout",
          "text": [
            "awd_test_topics.csv  awd_train_topics.csv  mail_test_topics.csv  mail_train_topics.csv\tsample_data\n"
          ]
        }
      ]
    },
    {
      "cell_type": "code",
      "source": [
        "import numpy as np\n",
        "\n",
        "young_values = ['0-20', '21-30', '31-45']\n",
        "\n",
        "def is_young(s: str):\n",
        "  return int(s in young_values)"
      ],
      "metadata": {
        "id": "bNYEWivvma8G"
      },
      "execution_count": 6,
      "outputs": []
    },
    {
      "cell_type": "code",
      "source": [
        "import pandas as pd\n",
        "\n",
        "\n",
        "train_mail = pd.read_csv('mail_train_topics.csv').sample(frac=1.0, random_state=42)\n",
        "train_awd = pd.read_csv('awd_train_topics.csv').sample(frac=1.0, random_state=42)\n",
        "train_mail['confounder'] = 1\n",
        "train_awd['confounder'] = 0\n",
        "\n",
        "test_mail = pd.read_csv('mail_test_topics.csv').sample(frac=1.0, random_state=42)\n",
        "test_awd = pd.read_csv('awd_test_topics.csv').sample(frac=1.0, random_state=42)\n",
        "test_mail['confounder'] = 1\n",
        "test_awd['confounder'] = 0\n",
        "\n",
        "assert len(train_mail) == len(train_awd)\n",
        "\n",
        "shift_train_75_mail_25_awd = pd.concat([\n",
        "    train_mail[:int(0.25 * len(train_mail))],\n",
        "    train_awd[:int(0.75 * len(train_awd))]\n",
        "])\n",
        "\n",
        "shift_test_25_mail_75_awd = pd.concat([\n",
        "    train_mail[:int(0.75 * len(test_mail))],\n",
        "    train_awd[:int(0.25 * len(test_awd))]\n",
        "])\n",
        "\n",
        "shift_train_75_mail_25_awd.to_csv('shift_train_75_mail_25_awd.csv')\n",
        "shift_test_25_mail_75_awd.to_csv('shift_test_25_mail_75_awd.csv')\n",
        "shift_test_25_mail_75_awd"
      ],
      "metadata": {
        "id": "Qn0oNjw3HYUa",
        "colab": {
          "base_uri": "https://localhost:8080/",
          "height": 423
        },
        "outputId": "245d7ff7-f1d8-43e7-edab-edce59e5e469"
      },
      "execution_count": 7,
      "outputs": [
        {
          "output_type": "execute_result",
          "data": {
            "text/plain": [
              "      Unnamed: 0                                           sentence  topic  \\\n",
              "2215        2215  Скоро мой взлетит самолёт Кто-то объявляет про...   30.0   \n",
              "2582        2582  Ох , уж эти девки , всё бы им ржать ! Когда уж...   11.0   \n",
              "1662        1662  С первым днем Зимы , дорогие друзья ! ! ! Жела...   89.0   \n",
              "3027        3027  Если любовь уходит , какое найти решение ? Мож...   11.0   \n",
              "4343        4343  Моей внучке пять лет . раска . а . а . зчица !...   70.0   \n",
              "...          ...                                                ...    ...   \n",
              "970          970  Таки вот что я отвечу - д . р . у 3 сотруднико...   79.0   \n",
              "2338        2338  Кстати , да . . Тут выше сообщали и о двойном ...   14.0   \n",
              "1263        1263  Jose Luis Cortes y Ng La Banda - En directo de...   79.0   \n",
              "169          169  Хочу Canon 85 1.2 , жаба не душит , просто нет...   55.0   \n",
              "4550        4550  shushlev У меня была такая же ситуация с люфта...   55.0   \n",
              "\n",
              "     genre  confounder  \n",
              "2215     W           1  \n",
              "2582     M           1  \n",
              "1662     W           1  \n",
              "3027     W           1  \n",
              "4343     W           1  \n",
              "...    ...         ...  \n",
              "970      W           0  \n",
              "2338     W           0  \n",
              "1263     W           0  \n",
              "169      M           0  \n",
              "4550     W           0  \n",
              "\n",
              "[1943 rows x 5 columns]"
            ],
            "text/html": [
              "\n",
              "  <div id=\"df-d95ef198-aa48-4428-af99-b7b60cfc6e7b\" class=\"colab-df-container\">\n",
              "    <div>\n",
              "<style scoped>\n",
              "    .dataframe tbody tr th:only-of-type {\n",
              "        vertical-align: middle;\n",
              "    }\n",
              "\n",
              "    .dataframe tbody tr th {\n",
              "        vertical-align: top;\n",
              "    }\n",
              "\n",
              "    .dataframe thead th {\n",
              "        text-align: right;\n",
              "    }\n",
              "</style>\n",
              "<table border=\"1\" class=\"dataframe\">\n",
              "  <thead>\n",
              "    <tr style=\"text-align: right;\">\n",
              "      <th></th>\n",
              "      <th>Unnamed: 0</th>\n",
              "      <th>sentence</th>\n",
              "      <th>topic</th>\n",
              "      <th>genre</th>\n",
              "      <th>confounder</th>\n",
              "    </tr>\n",
              "  </thead>\n",
              "  <tbody>\n",
              "    <tr>\n",
              "      <th>2215</th>\n",
              "      <td>2215</td>\n",
              "      <td>Скоро мой взлетит самолёт Кто-то объявляет про...</td>\n",
              "      <td>30.0</td>\n",
              "      <td>W</td>\n",
              "      <td>1</td>\n",
              "    </tr>\n",
              "    <tr>\n",
              "      <th>2582</th>\n",
              "      <td>2582</td>\n",
              "      <td>Ох , уж эти девки , всё бы им ржать ! Когда уж...</td>\n",
              "      <td>11.0</td>\n",
              "      <td>M</td>\n",
              "      <td>1</td>\n",
              "    </tr>\n",
              "    <tr>\n",
              "      <th>1662</th>\n",
              "      <td>1662</td>\n",
              "      <td>С первым днем Зимы , дорогие друзья ! ! ! Жела...</td>\n",
              "      <td>89.0</td>\n",
              "      <td>W</td>\n",
              "      <td>1</td>\n",
              "    </tr>\n",
              "    <tr>\n",
              "      <th>3027</th>\n",
              "      <td>3027</td>\n",
              "      <td>Если любовь уходит , какое найти решение ? Мож...</td>\n",
              "      <td>11.0</td>\n",
              "      <td>W</td>\n",
              "      <td>1</td>\n",
              "    </tr>\n",
              "    <tr>\n",
              "      <th>4343</th>\n",
              "      <td>4343</td>\n",
              "      <td>Моей внучке пять лет . раска . а . а . зчица !...</td>\n",
              "      <td>70.0</td>\n",
              "      <td>W</td>\n",
              "      <td>1</td>\n",
              "    </tr>\n",
              "    <tr>\n",
              "      <th>...</th>\n",
              "      <td>...</td>\n",
              "      <td>...</td>\n",
              "      <td>...</td>\n",
              "      <td>...</td>\n",
              "      <td>...</td>\n",
              "    </tr>\n",
              "    <tr>\n",
              "      <th>970</th>\n",
              "      <td>970</td>\n",
              "      <td>Таки вот что я отвечу - д . р . у 3 сотруднико...</td>\n",
              "      <td>79.0</td>\n",
              "      <td>W</td>\n",
              "      <td>0</td>\n",
              "    </tr>\n",
              "    <tr>\n",
              "      <th>2338</th>\n",
              "      <td>2338</td>\n",
              "      <td>Кстати , да . . Тут выше сообщали и о двойном ...</td>\n",
              "      <td>14.0</td>\n",
              "      <td>W</td>\n",
              "      <td>0</td>\n",
              "    </tr>\n",
              "    <tr>\n",
              "      <th>1263</th>\n",
              "      <td>1263</td>\n",
              "      <td>Jose Luis Cortes y Ng La Banda - En directo de...</td>\n",
              "      <td>79.0</td>\n",
              "      <td>W</td>\n",
              "      <td>0</td>\n",
              "    </tr>\n",
              "    <tr>\n",
              "      <th>169</th>\n",
              "      <td>169</td>\n",
              "      <td>Хочу Canon 85 1.2 , жаба не душит , просто нет...</td>\n",
              "      <td>55.0</td>\n",
              "      <td>M</td>\n",
              "      <td>0</td>\n",
              "    </tr>\n",
              "    <tr>\n",
              "      <th>4550</th>\n",
              "      <td>4550</td>\n",
              "      <td>shushlev У меня была такая же ситуация с люфта...</td>\n",
              "      <td>55.0</td>\n",
              "      <td>W</td>\n",
              "      <td>0</td>\n",
              "    </tr>\n",
              "  </tbody>\n",
              "</table>\n",
              "<p>1943 rows × 5 columns</p>\n",
              "</div>\n",
              "    <div class=\"colab-df-buttons\">\n",
              "\n",
              "  <div class=\"colab-df-container\">\n",
              "    <button class=\"colab-df-convert\" onclick=\"convertToInteractive('df-d95ef198-aa48-4428-af99-b7b60cfc6e7b')\"\n",
              "            title=\"Convert this dataframe to an interactive table.\"\n",
              "            style=\"display:none;\">\n",
              "\n",
              "  <svg xmlns=\"http://www.w3.org/2000/svg\" height=\"24px\" viewBox=\"0 -960 960 960\">\n",
              "    <path d=\"M120-120v-720h720v720H120Zm60-500h600v-160H180v160Zm220 220h160v-160H400v160Zm0 220h160v-160H400v160ZM180-400h160v-160H180v160Zm440 0h160v-160H620v160ZM180-180h160v-160H180v160Zm440 0h160v-160H620v160Z\"/>\n",
              "  </svg>\n",
              "    </button>\n",
              "\n",
              "  <style>\n",
              "    .colab-df-container {\n",
              "      display:flex;\n",
              "      gap: 12px;\n",
              "    }\n",
              "\n",
              "    .colab-df-convert {\n",
              "      background-color: #E8F0FE;\n",
              "      border: none;\n",
              "      border-radius: 50%;\n",
              "      cursor: pointer;\n",
              "      display: none;\n",
              "      fill: #1967D2;\n",
              "      height: 32px;\n",
              "      padding: 0 0 0 0;\n",
              "      width: 32px;\n",
              "    }\n",
              "\n",
              "    .colab-df-convert:hover {\n",
              "      background-color: #E2EBFA;\n",
              "      box-shadow: 0px 1px 2px rgba(60, 64, 67, 0.3), 0px 1px 3px 1px rgba(60, 64, 67, 0.15);\n",
              "      fill: #174EA6;\n",
              "    }\n",
              "\n",
              "    .colab-df-buttons div {\n",
              "      margin-bottom: 4px;\n",
              "    }\n",
              "\n",
              "    [theme=dark] .colab-df-convert {\n",
              "      background-color: #3B4455;\n",
              "      fill: #D2E3FC;\n",
              "    }\n",
              "\n",
              "    [theme=dark] .colab-df-convert:hover {\n",
              "      background-color: #434B5C;\n",
              "      box-shadow: 0px 1px 3px 1px rgba(0, 0, 0, 0.15);\n",
              "      filter: drop-shadow(0px 1px 2px rgba(0, 0, 0, 0.3));\n",
              "      fill: #FFFFFF;\n",
              "    }\n",
              "  </style>\n",
              "\n",
              "    <script>\n",
              "      const buttonEl =\n",
              "        document.querySelector('#df-d95ef198-aa48-4428-af99-b7b60cfc6e7b button.colab-df-convert');\n",
              "      buttonEl.style.display =\n",
              "        google.colab.kernel.accessAllowed ? 'block' : 'none';\n",
              "\n",
              "      async function convertToInteractive(key) {\n",
              "        const element = document.querySelector('#df-d95ef198-aa48-4428-af99-b7b60cfc6e7b');\n",
              "        const dataTable =\n",
              "          await google.colab.kernel.invokeFunction('convertToInteractive',\n",
              "                                                    [key], {});\n",
              "        if (!dataTable) return;\n",
              "\n",
              "        const docLinkHtml = 'Like what you see? Visit the ' +\n",
              "          '<a target=\"_blank\" href=https://colab.research.google.com/notebooks/data_table.ipynb>data table notebook</a>'\n",
              "          + ' to learn more about interactive tables.';\n",
              "        element.innerHTML = '';\n",
              "        dataTable['output_type'] = 'display_data';\n",
              "        await google.colab.output.renderOutput(dataTable, element);\n",
              "        const docLink = document.createElement('div');\n",
              "        docLink.innerHTML = docLinkHtml;\n",
              "        element.appendChild(docLink);\n",
              "      }\n",
              "    </script>\n",
              "  </div>\n",
              "\n",
              "\n",
              "<div id=\"df-4bf799a3-deb1-4cf6-b57d-c37aefaabcb9\">\n",
              "  <button class=\"colab-df-quickchart\" onclick=\"quickchart('df-4bf799a3-deb1-4cf6-b57d-c37aefaabcb9')\"\n",
              "            title=\"Suggest charts\"\n",
              "            style=\"display:none;\">\n",
              "\n",
              "<svg xmlns=\"http://www.w3.org/2000/svg\" height=\"24px\"viewBox=\"0 0 24 24\"\n",
              "     width=\"24px\">\n",
              "    <g>\n",
              "        <path d=\"M19 3H5c-1.1 0-2 .9-2 2v14c0 1.1.9 2 2 2h14c1.1 0 2-.9 2-2V5c0-1.1-.9-2-2-2zM9 17H7v-7h2v7zm4 0h-2V7h2v10zm4 0h-2v-4h2v4z\"/>\n",
              "    </g>\n",
              "</svg>\n",
              "  </button>\n",
              "\n",
              "<style>\n",
              "  .colab-df-quickchart {\n",
              "      --bg-color: #E8F0FE;\n",
              "      --fill-color: #1967D2;\n",
              "      --hover-bg-color: #E2EBFA;\n",
              "      --hover-fill-color: #174EA6;\n",
              "      --disabled-fill-color: #AAA;\n",
              "      --disabled-bg-color: #DDD;\n",
              "  }\n",
              "\n",
              "  [theme=dark] .colab-df-quickchart {\n",
              "      --bg-color: #3B4455;\n",
              "      --fill-color: #D2E3FC;\n",
              "      --hover-bg-color: #434B5C;\n",
              "      --hover-fill-color: #FFFFFF;\n",
              "      --disabled-bg-color: #3B4455;\n",
              "      --disabled-fill-color: #666;\n",
              "  }\n",
              "\n",
              "  .colab-df-quickchart {\n",
              "    background-color: var(--bg-color);\n",
              "    border: none;\n",
              "    border-radius: 50%;\n",
              "    cursor: pointer;\n",
              "    display: none;\n",
              "    fill: var(--fill-color);\n",
              "    height: 32px;\n",
              "    padding: 0;\n",
              "    width: 32px;\n",
              "  }\n",
              "\n",
              "  .colab-df-quickchart:hover {\n",
              "    background-color: var(--hover-bg-color);\n",
              "    box-shadow: 0 1px 2px rgba(60, 64, 67, 0.3), 0 1px 3px 1px rgba(60, 64, 67, 0.15);\n",
              "    fill: var(--button-hover-fill-color);\n",
              "  }\n",
              "\n",
              "  .colab-df-quickchart-complete:disabled,\n",
              "  .colab-df-quickchart-complete:disabled:hover {\n",
              "    background-color: var(--disabled-bg-color);\n",
              "    fill: var(--disabled-fill-color);\n",
              "    box-shadow: none;\n",
              "  }\n",
              "\n",
              "  .colab-df-spinner {\n",
              "    border: 2px solid var(--fill-color);\n",
              "    border-color: transparent;\n",
              "    border-bottom-color: var(--fill-color);\n",
              "    animation:\n",
              "      spin 1s steps(1) infinite;\n",
              "  }\n",
              "\n",
              "  @keyframes spin {\n",
              "    0% {\n",
              "      border-color: transparent;\n",
              "      border-bottom-color: var(--fill-color);\n",
              "      border-left-color: var(--fill-color);\n",
              "    }\n",
              "    20% {\n",
              "      border-color: transparent;\n",
              "      border-left-color: var(--fill-color);\n",
              "      border-top-color: var(--fill-color);\n",
              "    }\n",
              "    30% {\n",
              "      border-color: transparent;\n",
              "      border-left-color: var(--fill-color);\n",
              "      border-top-color: var(--fill-color);\n",
              "      border-right-color: var(--fill-color);\n",
              "    }\n",
              "    40% {\n",
              "      border-color: transparent;\n",
              "      border-right-color: var(--fill-color);\n",
              "      border-top-color: var(--fill-color);\n",
              "    }\n",
              "    60% {\n",
              "      border-color: transparent;\n",
              "      border-right-color: var(--fill-color);\n",
              "    }\n",
              "    80% {\n",
              "      border-color: transparent;\n",
              "      border-right-color: var(--fill-color);\n",
              "      border-bottom-color: var(--fill-color);\n",
              "    }\n",
              "    90% {\n",
              "      border-color: transparent;\n",
              "      border-bottom-color: var(--fill-color);\n",
              "    }\n",
              "  }\n",
              "</style>\n",
              "\n",
              "  <script>\n",
              "    async function quickchart(key) {\n",
              "      const quickchartButtonEl =\n",
              "        document.querySelector('#' + key + ' button');\n",
              "      quickchartButtonEl.disabled = true;  // To prevent multiple clicks.\n",
              "      quickchartButtonEl.classList.add('colab-df-spinner');\n",
              "      try {\n",
              "        const charts = await google.colab.kernel.invokeFunction(\n",
              "            'suggestCharts', [key], {});\n",
              "      } catch (error) {\n",
              "        console.error('Error during call to suggestCharts:', error);\n",
              "      }\n",
              "      quickchartButtonEl.classList.remove('colab-df-spinner');\n",
              "      quickchartButtonEl.classList.add('colab-df-quickchart-complete');\n",
              "    }\n",
              "    (() => {\n",
              "      let quickchartButtonEl =\n",
              "        document.querySelector('#df-4bf799a3-deb1-4cf6-b57d-c37aefaabcb9 button');\n",
              "      quickchartButtonEl.style.display =\n",
              "        google.colab.kernel.accessAllowed ? 'block' : 'none';\n",
              "    })();\n",
              "  </script>\n",
              "</div>\n",
              "    </div>\n",
              "  </div>\n"
            ],
            "application/vnd.google.colaboratory.intrinsic+json": {
              "type": "dataframe",
              "variable_name": "shift_test_25_mail_75_awd",
              "summary": "{\n  \"name\": \"shift_test_25_mail_75_awd\",\n  \"rows\": 1943,\n  \"fields\": [\n    {\n      \"column\": \"Unnamed: 0\",\n      \"properties\": {\n        \"dtype\": \"number\",\n        \"std\": 2354,\n        \"min\": 17,\n        \"max\": 7993,\n        \"num_unique_values\": 1443,\n        \"samples\": [\n          6342,\n          5002,\n          1417\n        ],\n        \"semantic_type\": \"\",\n        \"description\": \"\"\n      }\n    },\n    {\n      \"column\": \"sentence\",\n      \"properties\": {\n        \"dtype\": \"string\",\n        \"num_unique_values\": 1940,\n        \"samples\": [\n          \"\\u041d\\u0435\\u043a\\u043e\\u0442\\u043e\\u0440\\u044b\\u0435 \\u043c\\u043e\\u043c\\u0435\\u043d\\u0442\\u044b \\u0432 \\u0434\\u0430\\u043d\\u043d\\u043e\\u043c \\u043c\\u0438\\u043d\\u0438-\\u043e\\u0442\\u0447\\u0435\\u0442\\u0435 \\u0432 \\u043a\\u0430\\u043a\\u043e\\u043c-\\u0442\\u043e \\u0441\\u043c\\u044b\\u0441\\u043b\\u0435 \\u043e\\u0442\\u0440\\u0430\\u0436\\u0430\\u044e\\u0442 \\u043c\\u043e\\u0435 \\u0441\\u043e\\u0431\\u0441\\u0442\\u0432\\u0435\\u043d\\u043d\\u043e\\u0435 \\u043d\\u0435\\u0440\\u0435\\u0430\\u043b\\u0438\\u0437\\u043e\\u0432\\u0430\\u043d\\u043d\\u043e\\u0435 \\u0432 \\u041f\\u0430\\u0442\\u0442\\u0430\\u0439\\u044f \\u0436\\u0435\\u043b\\u0430\\u043d\\u0438\\u0435 . \\u0410 \\u0438\\u043c\\u0435\\u043d\\u043d\\u043e-\\u043f\\u043e\\u0440\\u043e\\u0439 , \\u0434\\u0435\\u0439\\u0441\\u0442\\u0432\\u0438\\u0442\\u0435\\u043b\\u044c\\u043d\\u043e , \\u043e\\u0441\\u043e\\u0431\\u0435\\u043d\\u043d\\u043e \\u043f\\u0435\\u0440\\u0432\\u044b\\u0435 2-3 \\u0434\\u043d\\u044f \\u0438\\u0441\\u043a\\u0440\\u0435\\u043d\\u043d\\u0435 \\u0445\\u043e\\u0442\\u0435\\u043b\\u043e\\u0441\\u044c \\u043f\\u043e\\u0441\\u043b\\u0430\\u0442\\u044c \\u043f\\u0440\\u0438\\u0441\\u0442\\u0430\\u0432\\u0443\\u0447\\u0438\\u0445 \\u0442\\u0430\\u0439\\u0441\\u043a\\u0438\\u0445 \\u0434\\u0435\\u0432\\u0447\\u043e\\u043d\\u043e\\u043a , \\u043a\\u0430\\u043a \\u0433\\u043e\\u0432\\u043e\\u0440\\u0438\\u0442\\u0441\\u044f , \\\" \\u043d\\u0430\\u0445 \\\" . \\u0420\\u0435\\u0441\\u043f\\u0435\\u043a\\u0442 \\u0430\\u0432\\u0442\\u043e\\u0440\\u0443 , \\u0447\\u0442\\u043e \\u043d\\u0435 \\u043f\\u043e\\u0441\\u0442\\u0435\\u0441\\u043d\\u044f\\u043b\\u0441\\u044f \\u044d\\u0442\\u043e \\u043e\\u0437\\u0432\\u0443\\u0447\\u0438\\u0442\\u044c ... 18 \\u044f\\u043d\\u0432 2009 , 04:00\",\n          \"\\u041d\\u0430 \\u0432\\u0442\\u043e\\u0440\\u043e\\u0439 \\u0434\\u0435\\u043d\\u044c \\u043e\\u0447\\u0435\\u043d\\u044c \\u043c\\u043d\\u043e\\u0433\\u043e \\u043c\\u0435\\u0441\\u0442 \\u0437\\u0430\\u043b\\u043e\\u0436\\u0438\\u043b\\u0438 \\u043d\\u0430 \\u043c\\u043e\\u0439 \\u0432\\u0437\\u0433\\u043b\\u044f\\u0434 . \\u0412\\u0441\\u0435 \\u043c\\u0435\\u0441\\u0442\\u0430 \\u043d\\u0430\\u0439\\u0442\\u0438 \\u043b\\u0435\\u0433\\u043a\\u043e . \\u041e\\u0442\\u0435\\u043b\\u0438 \\u0438 \\u0433\\u0435\\u0441\\u0442\\u044b \\u0432 \\u043f\\u0440\\u0438\\u043d\\u0446\\u0438\\u043f\\u0435 \\u0442\\u043e\\u0436\\u0435 \\u043f\\u0440\\u043e\\u0431\\u043b\\u0435\\u043c \\u043d\\u0435 \\u0434\\u043e\\u043b\\u0436\\u043d\\u043e \\u0431\\u044b\\u0442\\u044c \\u0442\\u0435\\u043c \\u0431\\u043e\\u043b\\u0435\\u0435 \\u043f\\u0440\\u0430\\u0437\\u0434\\u043d\\u0438\\u043a\\u0438 \\u0443\\u0436\\u0435 \\u043f\\u0440\\u0430\\u043a\\u0442\\u0438\\u0447\\u0435\\u0441\\u043a\\u0438 \\u043f\\u0440\\u043e\\u0448\\u043b\\u0438 , \\u0442\\u0430\\u043a \\u0447\\u0442\\u043e \\u0444\\u0443\\u043b\\u043b \\u0432 \\u043d\\u0438\\u0445 \\u0432\\u0440\\u044f\\u0434 \\u043b\\u0438 \\u0431\\u0443\\u0434\\u0435\\u0442 . 05 \\u044f\\u043d\\u0432 2012 , 18:01\",\n          \"\\u0428\\u0430\\u043b\\u0442\\u0438\\u0431\\u0430\\u0440\\u0449\\u0430\\u0439 \\u041a\\u043b\\u0430\\u0441\\u0441\\u0438\\u0447\\u0435\\u0441\\u043a\\u043e\\u0435 \\u0431\\u043b\\u044e\\u0434\\u043e \\u043b\\u0438\\u0442\\u043e\\u0432\\u0441\\u043a\\u043e\\u0439 \\u043d\\u0430\\u0446\\u0438\\u043e\\u043d\\u0430\\u043b\\u044c\\u043d\\u043e\\u0439 \\u043a\\u0443\\u0445\\u043d\\u0438 , \\u043d\\u0430 \\u0435\\u0433\\u043e \\u0440\\u043e\\u0434\\u0438\\u043d\\u0435 \\u043d\\u0430\\u0437\\u044b\\u0432\\u0430\\u0435\\u043c\\u043e\\u0435 altibariai ( \\u0448\\u0430\\u043b\\u0442\\u0438\\u0431\\u0430\\u0440\\u0449\\u0430\\u0439 , \\u0445\\u043e\\u043b\\u043e\\u0434\\u043d\\u044b\\u0439 \\u0431\\u043e\\u0440\\u0449 ) . \\u0415\\u0433\\u043e , \\u043f\\u043e\\u0436\\u0430\\u043b\\u0443\\u0439 , \\u043c\\u043e\\u0436\\u043d\\u043e \\u0441\\u0447\\u0438\\u0442\\u0430\\u0442\\u044c \\u0440\\u043e\\u0434\\u0441\\u0442\\u0432\\u0435\\u043d\\u043d\\u0438\\u043a\\u043e\\u043c \\u043f\\u0440\\u0438\\u0432\\u044b\\u0447\\u043d\\u044b\\u043c \\u0434\\u043b\\u044f \\u043d\\u0430\\u0441 \\u043e\\u043a\\u0440\\u043e\\u0448\\u043a\\u0438 \\u0438 \\u0431\\u043e\\u0440\\u0449\\u0430 . \\u041f\\u0440\\u043e\\u0434\\u0443\\u043a\\u0442\\u044b : 0,5 \\u043b\\u0438\\u0442\\u0440\\u0430 \\u043a\\u0435\\u0444\\u0438\\u0440\\u0430 ( \\u043d\\u0435 \\u043e\\u0431\\u0435\\u0437\\u0436\\u0438\\u0440\\u0435\\u043d\\u043d\\u044b\\u0439 , \\u043e\\u0442 1 \\u0434\\u043e 7 % \\u0436\\u0438\\u0440\\u043d\\u043e\\u0441\\u0442\\u0438 ) ; 1 \\u043a\\u0440\\u0443\\u043f\\u043d\\u0430\\u044f \\u0438\\u043b\\u0438 2 \\u043d\\u0435\\u0431\\u043e\\u043b\\u044c\\u0448\\u0438\\u0445 \\u0442\\u0435\\u043c\\u043d\\u043e-\\u043a\\u0440\\u0430\\u0441\\u043d\\u044b\\u0445 \\u0441\\u0432\\u0435\\u043a\\u043b\\u044b ; 100 \\u0433\\u0440\\u0430\\u043c\\u043c \\u0445\\u043e\\u043b\\u043e\\u0434\\u043d\\u043e\\u0439 \\u0432\\u043e\\u0434\\u044b ; 1-2 \\u044f\\u0439\\u0446\\u043e ; 2 \\u043a\\u0430\\u0440\\u0442\\u043e\\u0444\\u0435\\u043b\\u0438\\u043d\\u044b ; \\u0437\\u0435\\u043b\\u0435\\u043d\\u044c ( \\u043b\\u0443\\u043a , \\u0443\\u043a\\u0440\\u043e\\u043f , \\u043f\\u0435\\u0442\\u0440\\u0443\\u0448\\u043a\\u0430 \\u043f\\u043e \\u0432\\u043a\\u0443\\u0441\\u0443 ) ; \\u0441\\u043e\\u043b\\u044c . \\u041f\\u0440\\u0438\\u0433\\u043e\\u0442\\u043e\\u0432\\u043b\\u0435\\u043d\\u0438\\u0435 : \\u0422\\u0449\\u0430\\u0442\\u0435\\u043b\\u044c\\u043d\\u043e \\u043c\\u043e\\u0435\\u043c \\u044f\\u0439\\u0446\\u043e , \\u043a\\u0430\\u0440\\u0442\\u043e\\u0444\\u0435\\u043b\\u044c \\u0438 \\u0441\\u0432\\u0435\\u043a\\u043b\\u0443 , \\u043d\\u0430\\u043c \\u043d\\u0443\\u0436\\u043d\\u043e \\u0431\\u0443\\u0434\\u0435\\u0442 \\u043e\\u0442\\u0432\\u0430\\u0440\\u0438\\u0442\\u044c \\u0438\\u0445 \\u0434\\u043e \\u0433\\u043e\\u0442\\u043e\\u0432\\u043d\\u043e\\u0441\\u0442\\u0438 . \\u041a\\u0430\\u0437\\u0430\\u043b\\u043e\\u0441\\u044c \\u0431\\u044b , \\u0447\\u0442\\u043e \\u043c\\u043e\\u0436\\u0435\\u0442 \\u0431\\u044b\\u0442\\u044c \\u043f\\u0440\\u043e\\u0449\\u0435 ? \\u041d\\u043e \\u0432\\u0430\\u0440\\u043a\\u0430 \\u043a\\u0430\\u0436\\u0434\\u043e\\u0433\\u043e \\u0438\\u0437 \\u044d\\u0442\\u0438\\u0445 \\u043f\\u0440\\u043e\\u0434\\u0443\\u043a\\u0442\\u043e\\u0432 \\u0438\\u043c\\u0435\\u0435\\u0442 \\u0441\\u0432\\u043e\\u0438 \\u043e\\u0441\\u043e\\u0431\\u0435\\u043d\\u043d\\u043e\\u0441\\u0442\\u0438 . \\u041c\\u0438\\u0440\\u0421\\u043e\\u0432\\u0435\\u0442\\u043e\\u0432 \\u0440\\u0430\\u0441\\u0441\\u043a\\u0430\\u0436\\u0435\\u0442 \\u043e \\u043d\\u0438\\u0445 \\u043f\\u043e\\u0434\\u0440\\u043e\\u0431\\u043d\\u0435\\u0435 . \\u041d\\u0430\\u0447\\u043d\\u0435\\u043c \\u0441\\u043e \\u0441\\u0432\\u0435\\u043a\\u043b\\u044b , \\u0442 . \\u043a . \\u043e\\u043d\\u0430 \\u0432\\u0430\\u0440\\u0438\\u0442\\u0441\\u044f \\u0434\\u043e\\u043b\\u044c\\u0448\\u0435 \\u0432\\u0441\\u0435\\u0445 . \\u041a\\u043e\\u0433\\u0434\\u0430 \\u0441\\u0432\\u0435\\u043a\\u043b\\u0430 \\u0431\\u0443\\u0434\\u0435\\u0442 \\u0433\\u043e\\u0442\\u043e\\u0432\\u0430 ( \\u0438\\u043b\\u0438 \\u043f\\u043e\\u0447\\u0442\\u0438 \\u0433\\u043e\\u0442\\u043e\\u0432\\u0430 ) , \\u043e\\u0442\\u0432\\u0430\\u0440\\u0438\\u0432\\u0430\\u0435\\u043c \\u043a\\u0430\\u0440\\u0442\\u043e\\u0444\\u0435\\u043b\\u044c . \\u041f\\u0440\\u0438\\u0447\\u0435\\u043c \\u0434\\u043b\\u044f \\u0448\\u0430\\u043b\\u0442\\u0438\\u0431\\u0430\\u0440\\u0449\\u0430\\u0439 \\u0435\\u0433\\u043e \\u043b\\u0443\\u0447\\u0448\\u0435 \\u0432\\u0430\\u0440\\u0438\\u0442\\u044c \\u0432 \\u043e\\u0447\\u0438\\u0449\\u0435\\u043d\\u043d\\u043e\\u043c \\u0432\\u0438\\u0434\\u0435 , \\u0430 \\u043d\\u0435 \\u0432 \\u043c\\u0443\\u043d\\u0434\\u0438\\u0440\\u0435 . \\u042f\\u0439\\u0446\\u0430 \\u043e\\u0442\\u0432\\u0430\\u0440\\u0438\\u0432\\u0430\\u0435\\u043c \\u0432\\u043a\\u0440\\u0443\\u0442\\u0443\\u044e . \\u0421\\u0432\\u0430\\u0440\\u0435\\u043d\\u043d\\u044b\\u0435 \\u0434\\u043e \\u0433\\u043e\\u0442\\u043e\\u0432\\u043d\\u043e\\u0441\\u0442\\u0438 \\u044f\\u0439\\u0446\\u0430 \\u043e\\u0445\\u043b\\u0430\\u0436\\u0434\\u0430\\u0435\\u043c \\u043f\\u043e\\u0434 \\u0441\\u0442\\u0440\\u0443\\u0435\\u0439 \\u0445\\u043e\\u043b\\u043e\\u0434\\u043d\\u043e\\u0439 \\u0432\\u043e\\u0434\\u044b . \\u0411\\u043b\\u0430\\u0433\\u043e\\u0434\\u0430\\u0440\\u044f \\u044d\\u0442\\u043e\\u043c\\u0443 \\u043d\\u0435\\u0445\\u0438\\u0442\\u0440\\u043e\\u043c\\u0443 \\u043f\\u0440\\u0438\\u0435\\u043c\\u0443 \\u043e\\u043d\\u0438 \\u0431\\u0443\\u0434\\u0443\\u0442 \\u043d\\u0430\\u043c\\u043d\\u043e\\u0433\\u043e \\u043b\\u0443\\u0447\\u0448\\u0435 \\u0447\\u0438\\u0441\\u0442\\u0438\\u0442\\u044c\\u0441\\u044f . \\u041e\\u0447\\u0438\\u0449\\u0435\\u043d\\u043d\\u044b\\u0435 \\u0438 \\u043e\\u0441\\u0442\\u044b\\u0432\\u0448\\u0438\\u0435 \\u044f\\u0439\\u0446\\u0430 \\u043d\\u0430\\u0440\\u0435\\u0437\\u0430\\u0435\\u043c \\u0442\\u043e\\u043d\\u043a\\u0438\\u043c\\u0438 \\u0434\\u043e\\u043b\\u044c\\u043a\\u0430\\u043c\\u0438 . \\u041c\\u043e\\u0435\\u043c \\u0438 \\u043c\\u0435\\u043b\\u043a\\u043e \\u043d\\u0430\\u0440\\u0435\\u0437\\u0430\\u0435\\u043c \\u0437\\u0435\\u043b\\u0435\\u043d\\u044c . \\u0418\\u0437 \\u0437\\u0435\\u043b\\u0435\\u043d\\u0438 \\u043f\\u043e\\u0442\\u0440\\u0435\\u0431\\u0443\\u0435\\u0442\\u0441\\u044f \\u0442\\u043e\\u043b\\u044c\\u043a\\u043e \\u043b\\u0443\\u043a , \\u0443\\u043a\\u0440\\u043e\\u043f \\u0438 ( \\u0438\\u043b\\u0438 ) \\u043f\\u0435\\u0442\\u0440\\u0443\\u0448\\u043a\\u0430 \\u0412 \\u043a\\u0435\\u0444\\u0438\\u0440 \\u0434\\u043e\\u0431\\u0430\\u0432\\u043b\\u044f\\u0435\\u043c \\u0441\\u043e\\u043b\\u044c ( \\u043f\\u043e \\u0432\\u043a\\u0443\\u0441\\u0443 ) , \\u0441\\u043b\\u0435\\u0433\\u043a\\u0430 \\u0432\\u0437\\u0431\\u0438\\u0432\\u0430\\u0435\\u043c \\u0435\\u0433\\u043e . \\u041f\\u0443\\u0441\\u0442\\u044c \\u0431\\u0443\\u0434\\u0435\\u0442 \\u0441\\u043b\\u0435\\u0433\\u043a\\u0430 \\u043f\\u0435\\u0440\\u0435\\u0441\\u043e\\u043b\\u0435\\u043d , \\u043d\\u0430 \\u0433\\u0440\\u0430\\u043d\\u0438 , \\u043f\\u043e\\u0442\\u043e\\u043c\\u0443 \\u0447\\u0442\\u043e \\u0437\\u0430\\u0442\\u0435\\u043c \\u043c\\u044b \\u0434\\u043e\\u0431\\u0430\\u0432\\u043b\\u044f\\u0435\\u043c \\u043a \\u043d\\u0435\\u043c\\u0443 \\u0445\\u043e\\u043b\\u043e\\u0434\\u043d\\u0443\\u044e \\u0432\\u043e\\u0434\\u0443 . \\u0421\\u043e\\u043b\\u044c \\u0432 \\u043a\\u0435\\u0444\\u0438\\u0440\\u0435 \\u043f\\u0440\\u043e\\u0449\\u0435 \\u0440\\u0430\\u0441\\u0442\\u0432\\u043e\\u0440\\u0438\\u0442\\u044c , \\u043f\\u043e\\u044d\\u0442\\u043e\\u043c\\u0443 \\u0434\\u043e\\u0431\\u0430\\u0432\\u043b\\u044f\\u0435\\u043c \\u0435\\u0435 \\u0438\\u043c\\u0435\\u043d\\u043d\\u043e \\u043d\\u0430 \\u044d\\u0442\\u043e\\u043c \\u044d\\u0442\\u0430\\u043f\\u0435 . \\u0422\\u0435\\u043f\\u0435\\u0440\\u044c \\u0442\\u0449\\u0430\\u0442\\u0435\\u043b\\u044c\\u043d\\u043e \\u043f\\u0435\\u0440\\u0435\\u043c\\u0435\\u0448\\u0438\\u0432\\u0430\\u0435\\u043c , \\u0441\\u043d\\u043e\\u0432\\u0430 \\u043d\\u0435\\u043c\\u043d\\u043e\\u0433\\u043e \\u0432\\u0437\\u0431\\u0438\\u0432 \\u0441\\u043c\\u0435\\u0441\\u044c \\u0434\\u043e \\u043f\\u043e\\u044f\\u0432\\u043b\\u0435\\u043d\\u0438\\u044f \\u043f\\u0443\\u0437\\u044b\\u0440\\u044c\\u043a\\u043e\\u0432 . \\u0412 \\u043a\\u0430\\u0441\\u0442\\u0440\\u044e\\u043b\\u0435 \\u0437\\u0430\\u043b\\u0438\\u0432\\u0430\\u0435\\u043c \\u043d\\u0430\\u0440\\u0435\\u0437\\u0430\\u043d\\u043d\\u0443\\u044e \\u0441\\u0432\\u0435\\u043a\\u043b\\u0443 \\u0441\\u043c\\u0435\\u0441\\u044c\\u044e \\u043a\\u0435\\u0444\\u0438\\u0440\\u0430 \\u0438 \\u0432\\u043e\\u0434\\u044b , \\u0434\\u043e\\u0431\\u0430\\u0432\\u043b\\u044f\\u0435\\u043c \\u043f\\u043e\\u043b\\u043e\\u0432\\u0438\\u043d\\u0443 \\u043d\\u0430\\u0440\\u0435\\u0437\\u0430\\u043d\\u043d\\u043e\\u0439 \\u0437\\u0435\\u043b\\u0435\\u043d\\u0438 . \\u0422\\u0449\\u0430\\u0442\\u0435\\u043b\\u044c\\u043d\\u043e \\u0432\\u044b\\u043c\\u0435\\u0448\\u0438\\u0432\\u0430\\u0435\\u043c . \\u0412\\u043e\\u0442 \\u0438 \\u0432\\u0441\\u0435 , \\u0448\\u0430\\u043b\\u0442\\u0438\\u0431\\u0430\\u0440\\u0449\\u0430\\u0439 \\u0433\\u043e\\u0442\\u043e\\u0432 . \\u041d\\u043e \\u043d\\u0435\\u0443\\u0436\\u0435\\u043b\\u0438 \\u043c\\u044b \\u043d\\u0430\\u043f\\u0440\\u0430\\u0441\\u043d\\u043e \\u0432\\u0430\\u0440\\u0438\\u043b\\u0438 \\u043a\\u0430\\u0440\\u0442\\u043e\\u0444\\u0435\\u043b\\u044c \\u0438 \\u044f\\u0439\\u0446\\u0430 ? \\u041d\\u0435\\u0442 , \\u043d\\u0438 \\u0432 \\u043a\\u043e\\u0435\\u043c \\u0441\\u043b\\u0443\\u0447\\u0430\\u0435 . \\u042f\\u0439\\u0446\\u0430 \\u0432\\u044b\\u043a\\u043b\\u0430\\u0434\\u044b\\u0432\\u0430\\u0435\\u043c \\u0432 \\u0442\\u0430\\u0440\\u0435\\u043b\\u043a\\u0443 \\u0441 \\u043b\\u0438\\u0442\\u043e\\u0432\\u0441\\u043a\\u0438\\u043c \\u0445\\u043e\\u043b\\u043e\\u0434\\u043d\\u044b\\u043c \\u0431\\u043e\\u0440\\u0449\\u043e\\u043c \\u0438 \\u043f\\u043e\\u0441\\u044b\\u043f\\u0430\\u0435\\u043c \\u0431\\u043b\\u044e\\u0434\\u043e \\u0437\\u0435\\u043b\\u0435\\u043d\\u044c\\u044e . \\u0410 \\u043a\\u0430\\u0440\\u0442\\u043e\\u0444\\u0435\\u043b\\u044c \\u043f\\u043e\\u0434\\u0430\\u0435\\u0442\\u0441\\u044f \\u043d\\u0430 \\u0441\\u0442\\u043e\\u043b \\u0433\\u043e\\u0440\\u044f\\u0447\\u0438\\u043c , \\u0432\\u043c\\u0435\\u0441\\u0442\\u0435 \\u0441 \\u0448\\u0430\\u043b\\u0442\\u0438\\u0431\\u0430\\u0440\\u0449\\u0430\\u0435\\u043c , \\u043d\\u043e \\u043d\\u0430 \\u043e\\u0442\\u0434\\u0435\\u043b\\u044c\\u043d\\u043e\\u0439 \\u0442\\u0430\\u0440\\u0435\\u043b\\u043a\\u0435 . \\u0415\\u0433\\u043e \\u0442\\u043e\\u0436\\u0435 \\u043c\\u043e\\u0436\\u043d\\u043e \\u043f\\u043e\\u0441\\u044b\\u043f\\u0430\\u0442\\u044c \\u0440\\u0443\\u0431\\u043b\\u0435\\u043d\\u043e\\u0439 \\u0437\\u0435\\u043b\\u0435\\u043d\\u044c\\u044e . \\u0415\\u0433\\u043e \\u043c\\u043e\\u0436\\u043d\\u043e \\u043e\\u0442\\u043b\\u0430\\u043c\\u044b\\u0432\\u0430\\u0442\\u044c \\u043b\\u043e\\u0436\\u043a\\u043e\\u0439 \\u0438 \\u0435\\u0441\\u0442\\u044c \\u0432\\u043f\\u0440\\u0438\\u043a\\u0443\\u0441\\u043a\\u0443 \\u0441 \\u0431\\u043e\\u0440\\u0449\\u043e\\u043c , \\u0430 \\u043c\\u043e\\u0436\\u043d\\u043e \\u0442\\u043e\\u043b\\u043e\\u0447\\u044c \\u0432 \\u0442\\u0430\\u0440\\u0435\\u043b\\u043e\\u0447\\u043a\\u0435 \\u0438 \\u0434\\u043e\\u0431\\u0430\\u0432\\u043b\\u044f\\u0442\\u044c \\u0432 \\u0448\\u0430\\u043b\\u0442\\u0438\\u0431\\u0430\\u0440\\u0449\\u0430\\u0439 . \\u0421\\u043e\\u0447\\u0435\\u0442\\u0430\\u043d\\u0438\\u0435 \\u0445\\u043e\\u043b\\u043e\\u0434\\u043d\\u043e\\u0433\\u043e \\u0438 \\u0433\\u043e\\u0440\\u044f\\u0447\\u0435\\u0433\\u043e \\u0441\\u043d\\u0430\\u0447\\u0430\\u043b\\u0430 \\u043c\\u043e\\u0436\\u0435\\u0442 \\u043f\\u043e\\u043a\\u0430\\u0437\\u0430\\u0442\\u044c\\u0441\\u044f \\u0447\\u0438\\u0442\\u0430\\u0442\\u0435\\u043b\\u044f\\u043c \\u041c\\u0438\\u0440\\u0421\\u043e\\u0432\\u0435\\u0442\\u043e\\u0432 \\u043d\\u0435\\u0441\\u043a\\u043e\\u043b\\u044c\\u043a\\u043e \\u043d\\u0435\\u043f\\u0440\\u0438\\u0432\\u044b\\u0447\\u043d\\u044b\\u043c \\u0438 \\u0441\\u0442\\u0440\\u0430\\u043d\\u043d\\u044b\\u043c , \\u043d\\u043e , \\u0440\\u0430\\u0441\\u043f\\u0440\\u043e\\u0431\\u043e\\u0432\\u0430\\u0432 \\u0431\\u043b\\u044e\\u0434\\u043e , \\u043d\\u0435\\u0432\\u043e\\u0437\\u043c\\u043e\\u0436\\u043d\\u043e \\u043d\\u0435 \\u043e\\u0446\\u0435\\u043d\\u0438\\u0442\\u044c \\u043c\\u0443\\u0434\\u0440\\u043e\\u0441\\u0442\\u044c \\u0438 \\u0438\\u0437\\u044f\\u0449\\u0435\\u0441\\u0442\\u0432\\u043e \\u0442\\u0430\\u043a\\u043e\\u0433\\u043e \\u043a\\u0443\\u043b\\u0438\\u043d\\u0430\\u0440\\u043d\\u043e\\u0433\\u043e \\u0440\\u0435\\u0448\\u0435\\u043d\\u0438\\u044f , \\u043f\\u043e\\u0437\\u0432\\u043e\\u043b\\u044f\\u044e\\u0449\\u0435\\u0433\\u043e \\u0441\\u0440\\u0430\\u0432\\u043d\\u0438\\u0442\\u0435\\u043b\\u044c\\u043d\\u043e \\u043c\\u0430\\u043b\\u044b\\u043c\\u0438 \\u0441\\u0440\\u0435\\u0434\\u0441\\u0442\\u0432\\u0430\\u043c\\u0438 \\u0434\\u043e\\u0441\\u0442\\u0438\\u0447\\u044c \\u043d\\u0435\\u043e\\u0431\\u044b\\u0447\\u043d\\u043e\\u0433\\u043e \\u0432\\u043a\\u0443\\u0441\\u0430 . \\u0441\\u0441\\u044b\\u043b\\u043a\\u0430 \\u043d\\u0430 \\u0438\\u0441\\u0442\\u043e\\u0447\\u043d\\u0438\\u043a\"\n        ],\n        \"semantic_type\": \"\",\n        \"description\": \"\"\n      }\n    },\n    {\n      \"column\": \"topic\",\n      \"properties\": {\n        \"dtype\": \"number\",\n        \"std\": 25.157723527098668,\n        \"min\": 3.0,\n        \"max\": 99.0,\n        \"num_unique_values\": 75,\n        \"samples\": [\n          43.0,\n          75.0,\n          90.0\n        ],\n        \"semantic_type\": \"\",\n        \"description\": \"\"\n      }\n    },\n    {\n      \"column\": \"genre\",\n      \"properties\": {\n        \"dtype\": \"category\",\n        \"num_unique_values\": 2,\n        \"samples\": [\n          \"M\",\n          \"W\"\n        ],\n        \"semantic_type\": \"\",\n        \"description\": \"\"\n      }\n    },\n    {\n      \"column\": \"confounder\",\n      \"properties\": {\n        \"dtype\": \"number\",\n        \"std\": 0,\n        \"min\": 0,\n        \"max\": 1,\n        \"num_unique_values\": 2,\n        \"samples\": [\n          0,\n          1\n        ],\n        \"semantic_type\": \"\",\n        \"description\": \"\"\n      }\n    }\n  ]\n}"
            }
          },
          "metadata": {},
          "execution_count": 7
        }
      ]
    },
    {
      "cell_type": "code",
      "execution_count": 8,
      "metadata": {
        "id": "JuCsdGNh47_S",
        "colab": {
          "base_uri": "https://localhost:8080/",
          "height": 503
        },
        "outputId": "8c6e6476-8105-4aba-876d-203695c70d91"
      },
      "outputs": [
        {
          "output_type": "execute_result",
          "data": {
            "text/plain": [
              "(array([5896.,    0.,    0.,    0.,    0.,    0.,    0.,    0.,    0.,\n",
              "        6028.]),\n",
              " array([0. , 0.1, 0.2, 0.3, 0.4, 0.5, 0.6, 0.7, 0.8, 0.9, 1. ]),\n",
              " <BarContainer object of 10 artists>)"
            ]
          },
          "metadata": {},
          "execution_count": 8
        },
        {
          "output_type": "display_data",
          "data": {
            "text/plain": [
              "<Figure size 640x480 with 1 Axes>"
            ],
            "image/png": "[encoded data removed]"
          },
          "metadata": {}
        }
      ],
      "source": [
        "import pandas as pd\n",
        "from matplotlib import pyplot as plt\n",
        "\n",
        "\n",
        "train_df = pd.read_csv('shift_train_75_mail_25_awd.csv')\n",
        "train_df['genre'] = train_df.genre.values == 'M'\n",
        "train_df['text'] = train_df.sentence.values\n",
        "train_df = train_df.sample(frac=1.0, random_state=42)\n",
        "\n",
        "dev_df = pd.read_csv('awd_test_topics.csv')\n",
        "dev_df['genre'] = dev_df.genre.values == 'M'\n",
        "dev_df['text'] = dev_df.sentence.values\n",
        "dev_df['confounder'] = 1\n",
        "dev_df = dev_df.sample(frac=1.0, random_state=42)\n",
        "\n",
        "\n",
        "test_df = pd.read_csv('mail_test_topics.csv')\n",
        "test_df['genre'] = test_df.genre.values == 'M'\n",
        "test_df['text'] = test_df.sentence.values\n",
        "test_df['confounder'] = 0\n",
        "test_df = test_df.sample(frac=1.0, random_state=42)\n",
        "\n",
        "train_df['split'] = 'train'\n",
        "dev_df['split'] = 'dev'\n",
        "test_df['split'] = 'test'\n",
        "df = pd.concat([train_df, dev_df, test_df])\n",
        "df = df.reset_index()\n",
        "df['index'] = df.index\n",
        "\n",
        "\n",
        "train_indexes = df.index[df['split'] == 'train'].tolist()\n",
        "dev_indexes = df.index[df['split'] == 'dev'].tolist()\n",
        "test_indexes = df.index[df['split'] == 'test'].tolist()\n",
        "\n",
        "\n",
        "\n",
        "\n",
        "# Get the lists of sentences and their labels.\n",
        "sentences = df.sentence.values\n",
        "vad = np.array([[int(v), int(c)] for v, c in zip(df['genre'].values, df['confounder'].values)])\n",
        "plt.hist(vad[:, 0])"
      ]
    },
    {
      "cell_type": "code",
      "execution_count": 8,
      "metadata": {
        "id": "NuscTI53sB3X"
      },
      "outputs": [],
      "source": []
    },
    {
      "cell_type": "code",
      "source": [],
      "metadata": {
        "id": "Gw8W9OuZBXlN"
      },
      "execution_count": 8,
      "outputs": []
    },
    {
      "cell_type": "code",
      "source": [
        "from matplotlib import pyplot as plt\n",
        "\n",
        "lengths = [len(str(text).split()) for text in df.sentence.values]\n",
        "print(np.median(lengths))\n",
        "print(np.percentile([len(str(text).split()) for text in df.text.values], 75))\n",
        "print(np.percentile([len(str(text).split()) for text in df.text.values], 90))\n",
        "\n",
        "plt.hist(lengths)"
      ],
      "metadata": {
        "colab": {
          "base_uri": "https://localhost:8080/",
          "height": 594
        },
        "id": "1OoYag3PA_qt",
        "outputId": "1110f8d5-804c-4cd8-d586-1b63bd4bd560"
      },
      "execution_count": 9,
      "outputs": [
        {
          "output_type": "stream",
          "name": "stdout",
          "text": [
            "68.0\n",
            "117.0\n",
            "221.0\n"
          ]
        },
        {
          "output_type": "execute_result",
          "data": {
            "text/plain": [
              "(array([1.1776e+04, 9.8000e+01, 2.6000e+01, 1.0000e+01, 6.0000e+00,\n",
              "        3.0000e+00, 0.0000e+00, 2.0000e+00, 2.0000e+00, 1.0000e+00]),\n",
              " array([5.0000e+00, 1.1057e+03, 2.2064e+03, 3.3071e+03, 4.4078e+03,\n",
              "        5.5085e+03, 6.6092e+03, 7.7099e+03, 8.8106e+03, 9.9113e+03,\n",
              "        1.1012e+04]),\n",
              " <BarContainer object of 10 artists>)"
            ]
          },
          "metadata": {},
          "execution_count": 9
        },
        {
          "output_type": "display_data",
          "data": {
            "text/plain": [
              "<Figure size 640x480 with 1 Axes>"
            ],
            "image/png": "[encoded data removed]"
          },
          "metadata": {}
        }
      ]
    },
    {
      "cell_type": "markdown",
      "metadata": {
        "id": "lZSNd4sWG3jx"
      },
      "source": [
        "# 3. Tokenization & Input Formatting"
      ]
    },
    {
      "cell_type": "markdown",
      "metadata": {
        "id": "1m9jpFqPHCsS"
      },
      "source": [
        "## 3.1. BERT Tokenizer"
      ]
    },
    {
      "cell_type": "code",
      "execution_count": 10,
      "metadata": {
        "colab": {
          "base_uri": "https://localhost:8080/",
          "height": 372
        },
        "id": "T9GQcNm9RUI6",
        "outputId": "198087a7-ff21-4045-f05f-8a4486cac4c7"
      },
      "outputs": [
        {
          "output_type": "error",
          "ename": "KeyboardInterrupt",
          "evalue": "",
          "traceback": [
            "\u001b[0;31m---------------------------------------------------------------------------\u001b[0m",
            "\u001b[0;31mKeyboardInterrupt\u001b[0m                         Traceback (most recent call last)",
            "\u001b[0;32m<ipython-input-10-2e90646107ad>\u001b[0m in \u001b[0;36m<cell line: 1>\u001b[0;34m()\u001b[0m\n\u001b[0;32m----> 1\u001b[0;31m \u001b[0;32mfrom\u001b[0m \u001b[0mtransformers\u001b[0m \u001b[0;32mimport\u001b[0m \u001b[0mBertTokenizer\u001b[0m\u001b[0;34m,\u001b[0m \u001b[0mBertModel\u001b[0m\u001b[0;34m,\u001b[0m \u001b[0mAdamW\u001b[0m\u001b[0;34m\u001b[0m\u001b[0;34m\u001b[0m\u001b[0m\n\u001b[0m\u001b[1;32m      2\u001b[0m \u001b[0;34m\u001b[0m\u001b[0m\n\u001b[1;32m      3\u001b[0m \u001b[0;31m# Load the BERT tokenizer.\u001b[0m\u001b[0;34m\u001b[0m\u001b[0;34m\u001b[0m\u001b[0m\n\u001b[1;32m      4\u001b[0m \u001b[0mprint\u001b[0m\u001b[0;34m(\u001b[0m\u001b[0;34m'Loading BERT tokenizer...'\u001b[0m\u001b[0;34m)\u001b[0m\u001b[0;34m\u001b[0m\u001b[0;34m\u001b[0m\u001b[0m\n\u001b[1;32m      5\u001b[0m \u001b[0;34m\u001b[0m\u001b[0m\n",
            "\u001b[0;32m/usr/lib/python3.10/importlib/_bootstrap.py\u001b[0m in \u001b[0;36m_handle_fromlist\u001b[0;34m(module, fromlist, import_, recursive)\u001b[0m\n",
            "\u001b[0;32m/usr/local/lib/python3.10/dist-packages/transformers/utils/import_utils.py\u001b[0m in \u001b[0;36m__getattr__\u001b[0;34m(self, name)\u001b[0m\n\u001b[1;32m   1780\u001b[0m         \u001b[0;32melif\u001b[0m \u001b[0mname\u001b[0m \u001b[0;32min\u001b[0m \u001b[0mself\u001b[0m\u001b[0;34m.\u001b[0m\u001b[0m_class_to_module\u001b[0m\u001b[0;34m.\u001b[0m\u001b[0mkeys\u001b[0m\u001b[0;34m(\u001b[0m\u001b[0;34m)\u001b[0m\u001b[0;34m:\u001b[0m\u001b[0;34m\u001b[0m\u001b[0;34m\u001b[0m\u001b[0m\n\u001b[1;32m   1781\u001b[0m             \u001b[0mmodule\u001b[0m \u001b[0;34m=\u001b[0m \u001b[0mself\u001b[0m\u001b[0;34m.\u001b[0m\u001b[0m_get_module\u001b[0m\u001b[0;34m(\u001b[0m\u001b[0mself\u001b[0m\u001b[0;34m.\u001b[0m\u001b[0m_class_to_module\u001b[0m\u001b[0;34m[\u001b[0m\u001b[0mname\u001b[0m\u001b[0;34m]\u001b[0m\u001b[0;34m)\u001b[0m\u001b[0;34m\u001b[0m\u001b[0;34m\u001b[0m\u001b[0m\n\u001b[0;32m-> 1782\u001b[0;31m             \u001b[0mvalue\u001b[0m \u001b[0;34m=\u001b[0m \u001b[0mgetattr\u001b[0m\u001b[0;34m(\u001b[0m\u001b[0mmodule\u001b[0m\u001b[0;34m,\u001b[0m \u001b[0mname\u001b[0m\u001b[0;34m)\u001b[0m\u001b[0;34m\u001b[0m\u001b[0;34m\u001b[0m\u001b[0m\n\u001b[0m\u001b[1;32m   1783\u001b[0m         \u001b[0;32melif\u001b[0m \u001b[0mname\u001b[0m \u001b[0;32min\u001b[0m \u001b[0mself\u001b[0m\u001b[0;34m.\u001b[0m\u001b[0m_modules\u001b[0m\u001b[0;34m:\u001b[0m\u001b[0;34m\u001b[0m\u001b[0;34m\u001b[0m\u001b[0m\n\u001b[1;32m   1784\u001b[0m             \u001b[0mvalue\u001b[0m \u001b[0;34m=\u001b[0m \u001b[0mself\u001b[0m\u001b[0;34m.\u001b[0m\u001b[0m_get_module\u001b[0m\u001b[0;34m(\u001b[0m\u001b[0mname\u001b[0m\u001b[0;34m)\u001b[0m\u001b[0;34m\u001b[0m\u001b[0;34m\u001b[0m\u001b[0m\n",
            "\u001b[0;32m/usr/local/lib/python3.10/dist-packages/transformers/utils/import_utils.py\u001b[0m in \u001b[0;36m__getattr__\u001b[0;34m(self, name)\u001b[0m\n\u001b[1;32m   1779\u001b[0m             \u001b[0mvalue\u001b[0m \u001b[0;34m=\u001b[0m \u001b[0mPlaceholder\u001b[0m\u001b[0;34m\u001b[0m\u001b[0;34m\u001b[0m\u001b[0m\n\u001b[1;32m   1780\u001b[0m         \u001b[0;32melif\u001b[0m \u001b[0mname\u001b[0m \u001b[0;32min\u001b[0m \u001b[0mself\u001b[0m\u001b[0;34m.\u001b[0m\u001b[0m_class_to_module\u001b[0m\u001b[0;34m.\u001b[0m\u001b[0mkeys\u001b[0m\u001b[0;34m(\u001b[0m\u001b[0;34m)\u001b[0m\u001b[0;34m:\u001b[0m\u001b[0;34m\u001b[0m\u001b[0;34m\u001b[0m\u001b[0m\n\u001b[0;32m-> 1781\u001b[0;31m             \u001b[0mmodule\u001b[0m \u001b[0;34m=\u001b[0m \u001b[0mself\u001b[0m\u001b[0;34m.\u001b[0m\u001b[0m_get_module\u001b[0m\u001b[0;34m(\u001b[0m\u001b[0mself\u001b[0m\u001b[0;34m.\u001b[0m\u001b[0m_class_to_module\u001b[0m\u001b[0;34m[\u001b[0m\u001b[0mname\u001b[0m\u001b[0;34m]\u001b[0m\u001b[0;34m)\u001b[0m\u001b[0;34m\u001b[0m\u001b[0;34m\u001b[0m\u001b[0m\n\u001b[0m\u001b[1;32m   1782\u001b[0m             \u001b[0mvalue\u001b[0m \u001b[0;34m=\u001b[0m \u001b[0mgetattr\u001b[0m\u001b[0;34m(\u001b[0m\u001b[0mmodule\u001b[0m\u001b[0;34m,\u001b[0m \u001b[0mname\u001b[0m\u001b[0;34m)\u001b[0m\u001b[0;34m\u001b[0m\u001b[0;34m\u001b[0m\u001b[0m\n\u001b[1;32m   1783\u001b[0m         \u001b[0;32melif\u001b[0m \u001b[0mname\u001b[0m \u001b[0;32min\u001b[0m \u001b[0mself\u001b[0m\u001b[0;34m.\u001b[0m\u001b[0m_modules\u001b[0m\u001b[0;34m:\u001b[0m\u001b[0;34m\u001b[0m\u001b[0;34m\u001b[0m\u001b[0m\n",
            "\u001b[0;32m/usr/local/lib/python3.10/dist-packages/transformers/utils/import_utils.py\u001b[0m in \u001b[0;36m_get_module\u001b[0;34m(self, module_name)\u001b[0m\n\u001b[1;32m   1791\u001b[0m     \u001b[0;32mdef\u001b[0m \u001b[0m_get_module\u001b[0m\u001b[0;34m(\u001b[0m\u001b[0mself\u001b[0m\u001b[0;34m,\u001b[0m \u001b[0mmodule_name\u001b[0m\u001b[0;34m:\u001b[0m \u001b[0mstr\u001b[0m\u001b[0;34m)\u001b[0m\u001b[0;34m:\u001b[0m\u001b[0;34m\u001b[0m\u001b[0;34m\u001b[0m\u001b[0m\n\u001b[1;32m   1792\u001b[0m         \u001b[0;32mtry\u001b[0m\u001b[0;34m:\u001b[0m\u001b[0;34m\u001b[0m\u001b[0;34m\u001b[0m\u001b[0m\n\u001b[0;32m-> 1793\u001b[0;31m             \u001b[0;32mreturn\u001b[0m \u001b[0mimportlib\u001b[0m\u001b[0;34m.\u001b[0m\u001b[0mimport_module\u001b[0m\u001b[0;34m(\u001b[0m\u001b[0;34m\".\"\u001b[0m \u001b[0;34m+\u001b[0m \u001b[0mmodule_name\u001b[0m\u001b[0;34m,\u001b[0m \u001b[0mself\u001b[0m\u001b[0;34m.\u001b[0m\u001b[0m__name__\u001b[0m\u001b[0;34m)\u001b[0m\u001b[0;34m\u001b[0m\u001b[0;34m\u001b[0m\u001b[0m\n\u001b[0m\u001b[1;32m   1794\u001b[0m         \u001b[0;32mexcept\u001b[0m \u001b[0mException\u001b[0m \u001b[0;32mas\u001b[0m \u001b[0me\u001b[0m\u001b[0;34m:\u001b[0m\u001b[0;34m\u001b[0m\u001b[0;34m\u001b[0m\u001b[0m\n\u001b[1;32m   1795\u001b[0m             raise RuntimeError(\n",
            "\u001b[0;32m/usr/lib/python3.10/importlib/__init__.py\u001b[0m in \u001b[0;36mimport_module\u001b[0;34m(name, package)\u001b[0m\n\u001b[1;32m    124\u001b[0m                 \u001b[0;32mbreak\u001b[0m\u001b[0;34m\u001b[0m\u001b[0;34m\u001b[0m\u001b[0m\n\u001b[1;32m    125\u001b[0m             \u001b[0mlevel\u001b[0m \u001b[0;34m+=\u001b[0m \u001b[0;36m1\u001b[0m\u001b[0;34m\u001b[0m\u001b[0;34m\u001b[0m\u001b[0m\n\u001b[0;32m--> 126\u001b[0;31m     \u001b[0;32mreturn\u001b[0m \u001b[0m_bootstrap\u001b[0m\u001b[0;34m.\u001b[0m\u001b[0m_gcd_import\u001b[0m\u001b[0;34m(\u001b[0m\u001b[0mname\u001b[0m\u001b[0;34m[\u001b[0m\u001b[0mlevel\u001b[0m\u001b[0;34m:\u001b[0m\u001b[0;34m]\u001b[0m\u001b[0;34m,\u001b[0m \u001b[0mpackage\u001b[0m\u001b[0;34m,\u001b[0m \u001b[0mlevel\u001b[0m\u001b[0;34m)\u001b[0m\u001b[0;34m\u001b[0m\u001b[0;34m\u001b[0m\u001b[0m\n\u001b[0m\u001b[1;32m    127\u001b[0m \u001b[0;34m\u001b[0m\u001b[0m\n\u001b[1;32m    128\u001b[0m \u001b[0;34m\u001b[0m\u001b[0m\n",
            "\u001b[0;32m/usr/local/lib/python3.10/dist-packages/transformers/models/bert/modeling_bert.py\u001b[0m in \u001b[0;36m<module>\u001b[0;34m\u001b[0m\n\u001b[1;32m     23\u001b[0m \u001b[0;34m\u001b[0m\u001b[0m\n\u001b[1;32m     24\u001b[0m \u001b[0;32mimport\u001b[0m \u001b[0mtorch\u001b[0m\u001b[0;34m\u001b[0m\u001b[0;34m\u001b[0m\u001b[0m\n\u001b[0;32m---> 25\u001b[0;31m \u001b[0;32mimport\u001b[0m \u001b[0mtorch\u001b[0m\u001b[0;34m.\u001b[0m\u001b[0mutils\u001b[0m\u001b[0;34m.\u001b[0m\u001b[0mcheckpoint\u001b[0m\u001b[0;34m\u001b[0m\u001b[0;34m\u001b[0m\u001b[0m\n\u001b[0m\u001b[1;32m     26\u001b[0m \u001b[0;32mfrom\u001b[0m \u001b[0mpackaging\u001b[0m \u001b[0;32mimport\u001b[0m \u001b[0mversion\u001b[0m\u001b[0;34m\u001b[0m\u001b[0;34m\u001b[0m\u001b[0m\n\u001b[1;32m     27\u001b[0m \u001b[0;32mfrom\u001b[0m \u001b[0mtorch\u001b[0m \u001b[0;32mimport\u001b[0m \u001b[0mnn\u001b[0m\u001b[0;34m\u001b[0m\u001b[0;34m\u001b[0m\u001b[0m\n",
            "\u001b[0;32m/usr/local/lib/python3.10/dist-packages/torch/utils/checkpoint.py\u001b[0m in \u001b[0;36m<module>\u001b[0;34m\u001b[0m\n\u001b[1;32m     13\u001b[0m \u001b[0;32mimport\u001b[0m \u001b[0mtorch\u001b[0m\u001b[0;34m\u001b[0m\u001b[0;34m\u001b[0m\u001b[0m\n\u001b[1;32m     14\u001b[0m \u001b[0;32mimport\u001b[0m \u001b[0mtorch\u001b[0m\u001b[0;34m.\u001b[0m\u001b[0mfx\u001b[0m\u001b[0;34m.\u001b[0m\u001b[0mtraceback\u001b[0m \u001b[0;32mas\u001b[0m \u001b[0mfx_traceback\u001b[0m\u001b[0;34m\u001b[0m\u001b[0;34m\u001b[0m\u001b[0m\n\u001b[0;32m---> 15\u001b[0;31m \u001b[0;32mfrom\u001b[0m \u001b[0mtorch\u001b[0m\u001b[0;34m.\u001b[0m\u001b[0m_functorch\u001b[0m\u001b[0;34m.\u001b[0m\u001b[0m_aot_autograd\u001b[0m\u001b[0;34m.\u001b[0m\u001b[0mfunctional_utils\u001b[0m \u001b[0;32mimport\u001b[0m \u001b[0mis_fun\u001b[0m\u001b[0;34m\u001b[0m\u001b[0;34m\u001b[0m\u001b[0m\n\u001b[0m\u001b[1;32m     16\u001b[0m \u001b[0;32mfrom\u001b[0m \u001b[0mtorch\u001b[0m\u001b[0;34m.\u001b[0m\u001b[0mutils\u001b[0m\u001b[0;34m.\u001b[0m\u001b[0m_pytree\u001b[0m \u001b[0;32mimport\u001b[0m \u001b[0mtree_map\u001b[0m\u001b[0;34m\u001b[0m\u001b[0;34m\u001b[0m\u001b[0m\n\u001b[1;32m     17\u001b[0m \u001b[0;32mfrom\u001b[0m \u001b[0mtorch\u001b[0m\u001b[0;34m.\u001b[0m\u001b[0mtesting\u001b[0m\u001b[0;34m.\u001b[0m\u001b[0m_internal\u001b[0m\u001b[0;34m.\u001b[0m\u001b[0mlogging_tensor\u001b[0m \u001b[0;32mimport\u001b[0m \u001b[0mcapture_logs\u001b[0m\u001b[0;34m,\u001b[0m \u001b[0mLoggingTensorMode\u001b[0m\u001b[0;34m\u001b[0m\u001b[0;34m\u001b[0m\u001b[0m\n",
            "\u001b[0;32m/usr/local/lib/python3.10/dist-packages/torch/_functorch/_aot_autograd/functional_utils.py\u001b[0m in \u001b[0;36m<module>\u001b[0;34m\u001b[0m\n\u001b[1;32m     17\u001b[0m \u001b[0;32mfrom\u001b[0m \u001b[0mtorch\u001b[0m\u001b[0;34m.\u001b[0m\u001b[0m_subclasses\u001b[0m\u001b[0;34m.\u001b[0m\u001b[0mfunctional_tensor\u001b[0m \u001b[0;32mimport\u001b[0m \u001b[0mFunctionalTensor\u001b[0m\u001b[0;34m\u001b[0m\u001b[0;34m\u001b[0m\u001b[0m\n\u001b[1;32m     18\u001b[0m \u001b[0;32mfrom\u001b[0m \u001b[0mtorch\u001b[0m\u001b[0;34m.\u001b[0m\u001b[0m_subclasses\u001b[0m\u001b[0;34m.\u001b[0m\u001b[0mmeta_utils\u001b[0m \u001b[0;32mimport\u001b[0m \u001b[0mis_sparse_any\u001b[0m\u001b[0;34m\u001b[0m\u001b[0;34m\u001b[0m\u001b[0m\n\u001b[0;32m---> 19\u001b[0;31m \u001b[0;32mfrom\u001b[0m \u001b[0mtorch\u001b[0m\u001b[0;34m.\u001b[0m\u001b[0mfx\u001b[0m\u001b[0;34m.\u001b[0m\u001b[0mexperimental\u001b[0m\u001b[0;34m.\u001b[0m\u001b[0msymbolic_shapes\u001b[0m \u001b[0;32mimport\u001b[0m \u001b[0mdefinitely_true\u001b[0m\u001b[0;34m,\u001b[0m \u001b[0msym_eq\u001b[0m\u001b[0;34m\u001b[0m\u001b[0;34m\u001b[0m\u001b[0m\n\u001b[0m\u001b[1;32m     20\u001b[0m \u001b[0;32mfrom\u001b[0m \u001b[0mtorch\u001b[0m\u001b[0;34m.\u001b[0m\u001b[0mmultiprocessing\u001b[0m\u001b[0;34m.\u001b[0m\u001b[0mreductions\u001b[0m \u001b[0;32mimport\u001b[0m \u001b[0mStorageWeakRef\u001b[0m\u001b[0;34m\u001b[0m\u001b[0;34m\u001b[0m\u001b[0m\n\u001b[1;32m     21\u001b[0m from torch.utils._python_dispatch import (\n",
            "\u001b[0;32m/usr/local/lib/python3.10/dist-packages/torch/fx/experimental/symbolic_shapes.py\u001b[0m in \u001b[0;36m<module>\u001b[0;34m\u001b[0m\n\u001b[1;32m     63\u001b[0m \u001b[0;32mfrom\u001b[0m \u001b[0mtorch\u001b[0m\u001b[0;34m.\u001b[0m\u001b[0m_guards\u001b[0m \u001b[0;32mimport\u001b[0m \u001b[0mShapeGuard\u001b[0m\u001b[0;34m,\u001b[0m \u001b[0mSource\u001b[0m\u001b[0;34m,\u001b[0m \u001b[0mTracingContext\u001b[0m\u001b[0;34m\u001b[0m\u001b[0;34m\u001b[0m\u001b[0m\n\u001b[1;32m     64\u001b[0m \u001b[0;32mfrom\u001b[0m \u001b[0mtorch\u001b[0m\u001b[0;34m.\u001b[0m\u001b[0mutils\u001b[0m\u001b[0;34m.\u001b[0m\u001b[0m_python_dispatch\u001b[0m \u001b[0;32mimport\u001b[0m \u001b[0mis_traceable_wrapper_subclass\u001b[0m\u001b[0;34m\u001b[0m\u001b[0;34m\u001b[0m\u001b[0m\n\u001b[0;32m---> 65\u001b[0;31m from torch.utils._sympy.functions import (\n\u001b[0m\u001b[1;32m     66\u001b[0m     \u001b[0mApplication\u001b[0m\u001b[0;34m,\u001b[0m \u001b[0mFloorDiv\u001b[0m\u001b[0;34m,\u001b[0m \u001b[0mMod\u001b[0m\u001b[0;34m,\u001b[0m \u001b[0mPythonMod\u001b[0m\u001b[0;34m,\u001b[0m \u001b[0mIsNonOverlappingAndDenseIndicator\u001b[0m\u001b[0;34m,\u001b[0m \u001b[0mCleanDiv\u001b[0m\u001b[0;34m,\u001b[0m \u001b[0mFloorToInt\u001b[0m\u001b[0;34m,\u001b[0m \u001b[0mCeilToInt\u001b[0m\u001b[0;34m\u001b[0m\u001b[0;34m\u001b[0m\u001b[0m\n\u001b[1;32m     67\u001b[0m )\n",
            "\u001b[0;32m/usr/local/lib/python3.10/dist-packages/torch/utils/_sympy/functions.py\u001b[0m in \u001b[0;36m<module>\u001b[0;34m\u001b[0m\n\u001b[1;32m      5\u001b[0m \u001b[0;32mimport\u001b[0m \u001b[0msys\u001b[0m\u001b[0;34m\u001b[0m\u001b[0;34m\u001b[0m\u001b[0m\n\u001b[1;32m      6\u001b[0m \u001b[0;34m\u001b[0m\u001b[0m\n\u001b[0;32m----> 7\u001b[0;31m \u001b[0;32mimport\u001b[0m \u001b[0msympy\u001b[0m\u001b[0;34m\u001b[0m\u001b[0;34m\u001b[0m\u001b[0m\n\u001b[0m\u001b[1;32m      8\u001b[0m \u001b[0;32mfrom\u001b[0m \u001b[0msympy\u001b[0m \u001b[0;32mimport\u001b[0m \u001b[0mS\u001b[0m\u001b[0;34m\u001b[0m\u001b[0;34m\u001b[0m\u001b[0m\n\u001b[1;32m      9\u001b[0m \u001b[0;32mfrom\u001b[0m \u001b[0msympy\u001b[0m\u001b[0;34m.\u001b[0m\u001b[0mcore\u001b[0m \u001b[0;32mimport\u001b[0m \u001b[0msympify\u001b[0m\u001b[0;34m\u001b[0m\u001b[0;34m\u001b[0m\u001b[0m\n",
            "\u001b[0;32m/usr/local/lib/python3.10/dist-packages/sympy/__init__.py\u001b[0m in \u001b[0;36m<module>\u001b[0;34m\u001b[0m\n\u001b[1;32m     28\u001b[0m \u001b[0;34m\u001b[0m\u001b[0m\n\u001b[1;32m     29\u001b[0m \u001b[0;32mfrom\u001b[0m \u001b[0msympy\u001b[0m\u001b[0;34m.\u001b[0m\u001b[0mrelease\u001b[0m \u001b[0;32mimport\u001b[0m \u001b[0m__version__\u001b[0m\u001b[0;34m\u001b[0m\u001b[0;34m\u001b[0m\u001b[0m\n\u001b[0;32m---> 30\u001b[0;31m \u001b[0;32mfrom\u001b[0m \u001b[0msympy\u001b[0m\u001b[0;34m.\u001b[0m\u001b[0mcore\u001b[0m\u001b[0;34m.\u001b[0m\u001b[0mcache\u001b[0m \u001b[0;32mimport\u001b[0m \u001b[0mlazy_function\u001b[0m\u001b[0;34m\u001b[0m\u001b[0;34m\u001b[0m\u001b[0m\n\u001b[0m\u001b[1;32m     31\u001b[0m \u001b[0;34m\u001b[0m\u001b[0m\n\u001b[1;32m     32\u001b[0m \u001b[0;32mif\u001b[0m \u001b[0;34m'dev'\u001b[0m \u001b[0;32min\u001b[0m \u001b[0m__version__\u001b[0m\u001b[0;34m:\u001b[0m\u001b[0;34m\u001b[0m\u001b[0;34m\u001b[0m\u001b[0m\n",
            "\u001b[0;32m/usr/local/lib/python3.10/dist-packages/sympy/core/__init__.py\u001b[0m in \u001b[0;36m<module>\u001b[0;34m\u001b[0m\n\u001b[1;32m      7\u001b[0m \u001b[0;32mfrom\u001b[0m \u001b[0;34m.\u001b[0m\u001b[0mbasic\u001b[0m \u001b[0;32mimport\u001b[0m \u001b[0mBasic\u001b[0m\u001b[0;34m,\u001b[0m \u001b[0mAtom\u001b[0m\u001b[0;34m\u001b[0m\u001b[0;34m\u001b[0m\u001b[0m\n\u001b[1;32m      8\u001b[0m \u001b[0;32mfrom\u001b[0m \u001b[0;34m.\u001b[0m\u001b[0msingleton\u001b[0m \u001b[0;32mimport\u001b[0m \u001b[0mS\u001b[0m\u001b[0;34m\u001b[0m\u001b[0;34m\u001b[0m\u001b[0m\n\u001b[0;32m----> 9\u001b[0;31m \u001b[0;32mfrom\u001b[0m \u001b[0;34m.\u001b[0m\u001b[0mexpr\u001b[0m \u001b[0;32mimport\u001b[0m \u001b[0mExpr\u001b[0m\u001b[0;34m,\u001b[0m \u001b[0mAtomicExpr\u001b[0m\u001b[0;34m,\u001b[0m \u001b[0mUnevaluatedExpr\u001b[0m\u001b[0;34m\u001b[0m\u001b[0;34m\u001b[0m\u001b[0m\n\u001b[0m\u001b[1;32m     10\u001b[0m \u001b[0;32mfrom\u001b[0m \u001b[0;34m.\u001b[0m\u001b[0msymbol\u001b[0m \u001b[0;32mimport\u001b[0m \u001b[0mSymbol\u001b[0m\u001b[0;34m,\u001b[0m \u001b[0mWild\u001b[0m\u001b[0;34m,\u001b[0m \u001b[0mDummy\u001b[0m\u001b[0;34m,\u001b[0m \u001b[0msymbols\u001b[0m\u001b[0;34m,\u001b[0m \u001b[0mvar\u001b[0m\u001b[0;34m\u001b[0m\u001b[0;34m\u001b[0m\u001b[0m\n\u001b[1;32m     11\u001b[0m \u001b[0;32mfrom\u001b[0m \u001b[0;34m.\u001b[0m\u001b[0mnumbers\u001b[0m \u001b[0;32mimport\u001b[0m \u001b[0mNumber\u001b[0m\u001b[0;34m,\u001b[0m \u001b[0mFloat\u001b[0m\u001b[0;34m,\u001b[0m \u001b[0mRational\u001b[0m\u001b[0;34m,\u001b[0m \u001b[0mInteger\u001b[0m\u001b[0;34m,\u001b[0m \u001b[0mNumberSymbol\u001b[0m\u001b[0;34m,\u001b[0m\u001b[0;31m \u001b[0m\u001b[0;31m\\\u001b[0m\u001b[0;34m\u001b[0m\u001b[0;34m\u001b[0m\u001b[0m\n",
            "\u001b[0;32m/usr/local/lib/python3.10/dist-packages/sympy/core/expr.py\u001b[0m in \u001b[0;36m<module>\u001b[0;34m\u001b[0m\n\u001b[1;32m      9\u001b[0m \u001b[0;32mfrom\u001b[0m \u001b[0;34m.\u001b[0m\u001b[0mbasic\u001b[0m \u001b[0;32mimport\u001b[0m \u001b[0mBasic\u001b[0m\u001b[0;34m,\u001b[0m \u001b[0mAtom\u001b[0m\u001b[0;34m\u001b[0m\u001b[0;34m\u001b[0m\u001b[0m\n\u001b[1;32m     10\u001b[0m \u001b[0;32mfrom\u001b[0m \u001b[0;34m.\u001b[0m\u001b[0msingleton\u001b[0m \u001b[0;32mimport\u001b[0m \u001b[0mS\u001b[0m\u001b[0;34m\u001b[0m\u001b[0;34m\u001b[0m\u001b[0m\n\u001b[0;32m---> 11\u001b[0;31m \u001b[0;32mfrom\u001b[0m \u001b[0;34m.\u001b[0m\u001b[0mevalf\u001b[0m \u001b[0;32mimport\u001b[0m \u001b[0mEvalfMixin\u001b[0m\u001b[0;34m,\u001b[0m \u001b[0mpure_complex\u001b[0m\u001b[0;34m,\u001b[0m \u001b[0mDEFAULT_MAXPREC\u001b[0m\u001b[0;34m\u001b[0m\u001b[0;34m\u001b[0m\u001b[0m\n\u001b[0m\u001b[1;32m     12\u001b[0m \u001b[0;32mfrom\u001b[0m \u001b[0;34m.\u001b[0m\u001b[0mdecorators\u001b[0m \u001b[0;32mimport\u001b[0m \u001b[0mcall_highest_priority\u001b[0m\u001b[0;34m,\u001b[0m \u001b[0msympify_method_args\u001b[0m\u001b[0;34m,\u001b[0m \u001b[0msympify_return\u001b[0m\u001b[0;34m\u001b[0m\u001b[0;34m\u001b[0m\u001b[0m\n\u001b[1;32m     13\u001b[0m \u001b[0;32mfrom\u001b[0m \u001b[0;34m.\u001b[0m\u001b[0mcache\u001b[0m \u001b[0;32mimport\u001b[0m \u001b[0mcacheit\u001b[0m\u001b[0;34m\u001b[0m\u001b[0;34m\u001b[0m\u001b[0m\n",
            "\u001b[0;32m/usr/local/lib/python3.10/dist-packages/sympy/core/evalf.py\u001b[0m in \u001b[0;36m<module>\u001b[0;34m\u001b[0m\n\u001b[1;32m     25\u001b[0m \u001b[0;32mfrom\u001b[0m \u001b[0;34m.\u001b[0m\u001b[0msympify\u001b[0m \u001b[0;32mimport\u001b[0m \u001b[0msympify\u001b[0m\u001b[0;34m\u001b[0m\u001b[0;34m\u001b[0m\u001b[0m\n\u001b[1;32m     26\u001b[0m \u001b[0;32mfrom\u001b[0m \u001b[0;34m.\u001b[0m\u001b[0msingleton\u001b[0m \u001b[0;32mimport\u001b[0m \u001b[0mS\u001b[0m\u001b[0;34m\u001b[0m\u001b[0;34m\u001b[0m\u001b[0m\n\u001b[0;32m---> 27\u001b[0;31m \u001b[0;32mfrom\u001b[0m \u001b[0msympy\u001b[0m\u001b[0;34m.\u001b[0m\u001b[0mexternal\u001b[0m\u001b[0;34m.\u001b[0m\u001b[0mgmpy\u001b[0m \u001b[0;32mimport\u001b[0m \u001b[0mSYMPY_INTS\u001b[0m\u001b[0;34m\u001b[0m\u001b[0;34m\u001b[0m\u001b[0m\n\u001b[0m\u001b[1;32m     28\u001b[0m \u001b[0;32mfrom\u001b[0m \u001b[0msympy\u001b[0m\u001b[0;34m.\u001b[0m\u001b[0mutilities\u001b[0m\u001b[0;34m.\u001b[0m\u001b[0miterables\u001b[0m \u001b[0;32mimport\u001b[0m \u001b[0mis_sequence\u001b[0m\u001b[0;34m\u001b[0m\u001b[0;34m\u001b[0m\u001b[0m\n\u001b[1;32m     29\u001b[0m \u001b[0;32mfrom\u001b[0m \u001b[0msympy\u001b[0m\u001b[0;34m.\u001b[0m\u001b[0mutilities\u001b[0m\u001b[0;34m.\u001b[0m\u001b[0mlambdify\u001b[0m \u001b[0;32mimport\u001b[0m \u001b[0mlambdify\u001b[0m\u001b[0;34m\u001b[0m\u001b[0;34m\u001b[0m\u001b[0m\n",
            "\u001b[0;32m/usr/local/lib/python3.10/dist-packages/sympy/external/gmpy.py\u001b[0m in \u001b[0;36m<module>\u001b[0;34m\u001b[0m\n\u001b[1;32m      9\u001b[0m \u001b[0;32mfrom\u001b[0m \u001b[0;34m.\u001b[0m\u001b[0mpythonmpq\u001b[0m \u001b[0;32mimport\u001b[0m \u001b[0mPythonMPQ\u001b[0m\u001b[0;34m\u001b[0m\u001b[0;34m\u001b[0m\u001b[0m\n\u001b[1;32m     10\u001b[0m \u001b[0;34m\u001b[0m\u001b[0m\n\u001b[0;32m---> 11\u001b[0;31m from .ntheory import (\n\u001b[0m\u001b[1;32m     12\u001b[0m     \u001b[0mbit_scan1\u001b[0m \u001b[0;32mas\u001b[0m \u001b[0mpython_bit_scan1\u001b[0m\u001b[0;34m,\u001b[0m\u001b[0;34m\u001b[0m\u001b[0;34m\u001b[0m\u001b[0m\n\u001b[1;32m     13\u001b[0m     \u001b[0mbit_scan0\u001b[0m \u001b[0;32mas\u001b[0m \u001b[0mpython_bit_scan0\u001b[0m\u001b[0;34m,\u001b[0m\u001b[0;34m\u001b[0m\u001b[0;34m\u001b[0m\u001b[0m\n",
            "\u001b[0;31mKeyboardInterrupt\u001b[0m: "
          ]
        }
      ],
      "source": [
        "from transformers import BertTokenizer, BertModel, AdamW\n",
        "\n",
        "# Load the BERT tokenizer.\n",
        "print('Loading BERT tokenizer...')\n",
        "\n",
        "# Uncased means that the text has been lower cased before Word Piece\n",
        "# tokenization, e.g., John Smith becomes john smith. The Uncased model also\n",
        "# strips out any accent markers\n",
        "bert_pretrained_model_name = 'google-bert/bert-base-multilingual-cased'\n",
        "tokenizer = BertTokenizer.from_pretrained(bert_pretrained_model_name)#, do_lower_case=True)"
      ]
    },
    {
      "cell_type": "markdown",
      "metadata": {
        "id": "MBaX4Rg6HSWu"
      },
      "source": [
        "## 3.2. Tokenize Dataset"
      ]
    },
    {
      "cell_type": "markdown",
      "metadata": {
        "id": "Gi-pNicXahW_"
      },
      "source": [
        "Perform one tokenization pass of the dataset in order to measure the maximum sentence length"
      ]
    },
    {
      "cell_type": "code",
      "execution_count": null,
      "metadata": {
        "id": "VXH-KvBoaZOs"
      },
      "outputs": [],
      "source": [
        "def get_max_sentence_length(sentences):\n",
        "  max_len = 0\n",
        "\n",
        "  # For every sentence...\n",
        "  for sent in sentences:\n",
        "\n",
        "      # Tokenize the text and add `[CLS]` and `[SEP]` tokens.\n",
        "      input_ids = tokenizer.encode(sent, add_special_tokens=True)\n",
        "      input_ids = input_ids[:300]\n",
        "\n",
        "      # Update the maximum sentence length.\n",
        "      max_len = max(max_len, len(input_ids))\n",
        "\n",
        "  return max_len"
      ]
    },
    {
      "cell_type": "code",
      "execution_count": null,
      "metadata": {
        "id": "lu39B4IZaZ51"
      },
      "outputs": [],
      "source": [
        "# Tokenize all of the sentences and map the tokens to thier word IDs.\n",
        "input_ids = []\n",
        "attention_masks = []\n",
        "\n",
        "max_sentence_length = get_max_sentence_length(sentences)\n",
        "\n",
        "# For every sentence...\n",
        "for sentence in sentences:\n",
        "  # `encode_plus` will:\n",
        "  #   (1) Tokenize the sentence.\n",
        "  #   (2) Prepend the `[CLS]` token to the start.\n",
        "  #   (3) Append the `[SEP]` token to the end.\n",
        "  #   (4) Map tokens to their IDs.\n",
        "  #   (5) Pad or truncate the sentence to `max_length`\n",
        "  #   (6) Create attention masks for [PAD] tokens.\n",
        "  encoded_dict = tokenizer.encode_plus(\n",
        "      sentence,                         # Sentence to encode.\n",
        "      add_special_tokens = True,    # Add '[CLS]' and '[SEP]'\n",
        "      max_length = max_sentence_length,             # Pad & truncate all sentences.\n",
        "      truncation = True,            # Explicitely truncate sentences to max length.\n",
        "      pad_to_max_length = True,\n",
        "      return_attention_mask = True, # Construct attn. masks.\n",
        "      return_tensors = 'pt',        # Return pytorch tensors.\n",
        "      )\n",
        "\n",
        "  # Add the encoded sentence to the list.\n",
        "  input_ids.append(encoded_dict['input_ids'])\n",
        "\n",
        "  # And its attention mask (simply differentiates padding from non-padding).\n",
        "  attention_masks.append(encoded_dict['attention_mask'])\n",
        "\n",
        "# Convert the lists into tensors.\n",
        "input_ids = torch.cat(input_ids, dim=0)\n",
        "attention_masks = torch.cat(attention_masks, dim=0)\n",
        "outputs = torch.tensor(vad, dtype=torch.float32) # TODO: check if it's necessary\n"
      ]
    },
    {
      "cell_type": "markdown",
      "metadata": {
        "id": "0r846BmV2G6N"
      },
      "source": [
        "We’ll also create an iterator for our dataset using the torch DataLoader class. This helps save on memory during training because, unlike a for loop, with an iterator the entire dataset does not need to be loaded into memory."
      ]
    },
    {
      "cell_type": "code",
      "execution_count": null,
      "metadata": {
        "id": "9GyB0G7Paa4p"
      },
      "outputs": [],
      "source": [
        "from torch.utils.data import TensorDataset, Subset, DataLoader\n",
        "\n",
        "dataset = TensorDataset(input_ids, attention_masks, outputs)\n",
        "\n",
        "train_dataset = Subset(dataset, train_indexes)\n",
        "dev_dataset = Subset(dataset, dev_indexes)\n",
        "test_dataset = Subset(dataset, test_indexes)\n",
        "\n",
        "# The DataLoader needs to know our batch size for training, so we specify it\n",
        "# here. For fine-tuning BERT on a specific task, the authors recommend a batch\n",
        "# size of 16 or 32.\n",
        "batch_size = 32\n",
        "\n",
        "# Create the DataLoaders for our training and validation sets.\n",
        "# We'll take training samples in random order.\n",
        "train_dataloader = DataLoader(\n",
        "            train_dataset,  # The training samples.\n",
        "            shuffle = True, # Select batches randomly\n",
        "            batch_size = batch_size # Trains with this batch size.\n",
        "        )\n",
        "\n",
        "# For validation the order doesn't matter, so we'll just read them sequentially.\n",
        "dev_dataloader = DataLoader(\n",
        "            dev_dataset, # The validation samples.\n",
        "            shuffle = False, # Default: Pull out batches sequentially.\n",
        "            batch_size = batch_size # Evaluate with this batch size.\n",
        "        )\n",
        "\n",
        "test_dataloader = DataLoader(\n",
        "            test_dataset, # The test samples.\n",
        "            shuffle = False, # Default: Pull out batches sequentially.\n",
        "            batch_size = batch_size # Evaluate with this batch size.\n",
        "        )"
      ]
    },
    {
      "cell_type": "markdown",
      "metadata": {
        "id": "OCpQIk8XHsvv"
      },
      "source": [
        "# 4. Train Our Model"
      ]
    },
    {
      "cell_type": "markdown",
      "metadata": {
        "id": "VG0BP-gkIE_q"
      },
      "source": [
        "## 4.1. Create a Bert model with a regression layer on top"
      ]
    },
    {
      "cell_type": "code",
      "execution_count": null,
      "metadata": {
        "id": "rAvgJG2MnCj_"
      },
      "outputs": [],
      "source": [
        "import torch.nn as nn\n",
        "from transformers import BertForSequenceClassification\n",
        "\n",
        "# Bert Model transformer with a sequence regression head on top (a linear\n",
        "# layer on top of the pooled output).\n",
        "class BertForSequenceRegression(nn.Module):\n",
        "  def __init__(self, bert_pretrained_model_name, output_size):\n",
        "    super(BertForSequenceRegression, self).__init__()\n",
        "    self.bert = BertModel.from_pretrained(bert_pretrained_model_name,\n",
        "                                          output_attentions = False,\n",
        "                                          output_hidden_states = False)\n",
        "    self.out = nn.Linear(self.bert.config.hidden_size, output_size)\n",
        "    self.ae = nn.Linear(self.bert.config.hidden_size, output_size)\n",
        "\n",
        "  def forward(self, input_sentence, input_mask):\n",
        "    last_hidden_states = self.bert(input_sentence, attention_mask=input_mask)[1]\n",
        "    output = nn.functional.sigmoid(self.out(last_hidden_states))\n",
        "    ae = nn.functional.sigmoid(self.ae(last_hidden_states))\n",
        "    return (output, ae)\n",
        "\n",
        "model = BertForSequenceRegression(bert_pretrained_model_name, output_size=1)\n",
        "\n",
        "# freeze some layers (top | middle | bottom):\n",
        "bottom = range(2, 12)\n",
        "middle = list(range(0,5))+list(range(7,12))\n",
        "top = range(0, 6)\n",
        "\n",
        "layersToFreeze = []\n",
        "for i in layersToFreeze:\n",
        "  print(i)\n",
        "  for param in model.bert.encoder.layer[i].parameters():\n",
        "    param.requires_grad = False\n",
        "\n",
        "# Tell pytorch to run this model on the GPU\n",
        "model.to(device)"
      ]
    },
    {
      "cell_type": "markdown",
      "metadata": {
        "id": "mVTz-k9PH-5d"
      },
      "source": [
        "## 4.2. Training Loop"
      ]
    },
    {
      "cell_type": "markdown",
      "metadata": {
        "id": "Eo1LuJn7NdPH"
      },
      "source": [
        "Helper function for formatting elapsed times as hh:mm:ss"
      ]
    },
    {
      "cell_type": "code",
      "execution_count": null,
      "metadata": {
        "id": "LGqWolARNcX7"
      },
      "outputs": [],
      "source": [
        "import time\n",
        "import datetime\n",
        "\n",
        "def format_time(elapsed):\n",
        "    '''\n",
        "    Takes a time in seconds and returns a string hh:mm:ss\n",
        "    '''\n",
        "    # Round to the nearest second.\n",
        "    elapsed_rounded = int(round((elapsed)))\n",
        "\n",
        "    # Format as hh:mm:ss\n",
        "    return str(datetime.timedelta(seconds=elapsed_rounded))"
      ]
    },
    {
      "cell_type": "code",
      "execution_count": null,
      "metadata": {
        "id": "PCVePSh0GNJ5"
      },
      "outputs": [],
      "source": []
    },
    {
      "cell_type": "code",
      "execution_count": null,
      "metadata": {
        "id": "iKkR-6VIUCMv"
      },
      "outputs": [],
      "source": [
        "import torch.optim as optim\n",
        "\n",
        "# Optimizer (ADAM is a fancy version of SGD) lr options: 2e-5, 3e-5, 5e-5\n",
        "optimizer = optim.Adam(model.parameters(), lr=1e-5, eps=1e-8)\n",
        "\n",
        "epochs = 7\n",
        "\n",
        "# Loss function\n",
        "ce_criterion = torch.nn.BCELoss()\n",
        "ae_criterion = torch.nn.BCELoss()\n",
        "lambd = 0.0\n",
        "m = 4\n",
        "\n",
        "# We'll store a number of quantities such as training loss and timings.\n",
        "training_stats = []\n",
        "\n",
        "# Measure the total training time for the whole run.\n",
        "total_t0 = time.time()\n",
        "\n",
        "# For each epoch...\n",
        "for epoch_i in range(0, epochs):\n",
        "  if epoch_i % 2 == 0:\n",
        "    for param in model.ae.parameters():\n",
        "        param.require_grad = False\n",
        "    for param in model.out.parameters():\n",
        "        param.require_grad = True\n",
        "    for param in model.bert.parameters():\n",
        "        param.requires_grad = True\n",
        "\n",
        "  else:\n",
        "    for param in model.ae.parameters():\n",
        "        param.require_grad = True\n",
        "    for param in model.out.parameters():\n",
        "        param.require_grad = False\n",
        "    for param in model.bert.parameters():\n",
        "        param.requires_grad = False\n",
        "  # ========================================\n",
        "  #               Training\n",
        "  # ========================================\n",
        "\n",
        "  # Perform one full pass over the training set.\n",
        "\n",
        "  print(\"\")\n",
        "  print('======== Epoch {:} / {:} ========'.format(epoch_i + 1, epochs))\n",
        "  print('Training...')\n",
        "\n",
        "  # Measure how long the training epoch takes.\n",
        "  t0 = time.time()\n",
        "\n",
        "  # Reset the total loss for this epoch.\n",
        "  total_train_loss = 0\n",
        "\n",
        "  # Put the model into training mode.\n",
        "  # Dropout layers behave differently during training vs. eval mode.\n",
        "  model.train()\n",
        "\n",
        "  # For each batch of training data...\n",
        "  for step, batch in enumerate(train_dataloader):\n",
        "\n",
        "    # Progress update every 40 batches.\n",
        "    if step % 40 == 0 and not step == 0:\n",
        "      # Calculate elapsed time in minutes.\n",
        "      elapsed = format_time(time.time() - t0)\n",
        "\n",
        "      # Report progress.\n",
        "      print('  Batch {:>5,}  of  {:>5,}.    Elapsed: {:}.'.format(step, len(train_dataloader), elapsed))\n",
        "\n",
        "    b_input_ids = batch[0].to(device)\n",
        "    b_input_mask = batch[1].to(device)\n",
        "    b_labels = batch[2].to(device)\n",
        "\n",
        "    # zero gradients\n",
        "    optimizer.zero_grad()\n",
        "    model.zero_grad()\n",
        "\n",
        "    # Perform a forward pass (evaluate the model on this training batch).\n",
        "    output, ae = model(b_input_ids, b_input_mask)\n",
        "    source_ids = b_labels[:, 1].view(-1) == 1.0\n",
        "    target_ids = b_labels[:, 1].view(-1) == 0.0\n",
        "\n",
        "    # loss\n",
        "    if epoch_i % 2 == 0:\n",
        "      loss = ce_criterion(output.view(-1), b_labels[:, 0].view(-1)) - lambd * ae_criterion(ae.view(-1), b_labels[:, 1].view(-1))\n",
        "    else:\n",
        "      loss = ae_criterion(ae.view(-1), b_labels[:, 1].view(-1))\n",
        "    total_train_loss += loss.item()\n",
        "\n",
        "    # Perform a backward pass to calculate the gradients.\n",
        "    loss.backward()\n",
        "\n",
        "    # Update parameters and take a step using the computed gradient.\n",
        "    # The optimizer dictates the \"update rule\"--how the parameters are\n",
        "    # modified based on their gradients, the learning rate, etc.\n",
        "    optimizer.step()\n",
        "\n",
        "  # Calculate the average loss over all of the batches.\n",
        "  avg_train_loss = total_train_loss / len(train_dataloader)\n",
        "\n",
        "  # Measure how long this epoch took.\n",
        "  training_time = format_time(time.time() - t0)\n",
        "\n",
        "  print(\"\")\n",
        "  print(\"  Average training loss: {0:.2f}\".format(avg_train_loss))\n",
        "  print(\"  Training epcoh took: {:}\".format(training_time))\n",
        "\n",
        "  # ========================================\n",
        "  #               Validation\n",
        "  # ========================================\n",
        "  # After the completion of each training epoch, measure our performance on\n",
        "  # our validation set.\n",
        "\n",
        "  print(\"\")\n",
        "  print(\"Running Validation...\")\n",
        "\n",
        "  t0 = time.time()\n",
        "\n",
        "  model.eval()\n",
        "\n",
        "  # Tracking variables\n",
        "  total_eval_accuracy = 0\n",
        "  total_size = 0\n",
        "  total_eval_loss = 0\n",
        "  nb_eval_steps = 0\n",
        "\n",
        "  # Evaluate data for one epoch\n",
        "  for batch in dev_dataloader:\n",
        "\n",
        "    # Unpack this training batch from our dataloader.\n",
        "    #\n",
        "    # As we unpack the batch, we'll also copy each tensor to the GPU using\n",
        "    # the `to` method.\n",
        "    #\n",
        "    # `batch` contains three pytorch tensors:\n",
        "    #   [0]: input ids\n",
        "    #   [1]: attention masks\n",
        "    #   [2]: labels\n",
        "    b_input_ids = batch[0].to(device)\n",
        "    b_input_mask = batch[1].to(device)\n",
        "    b_labels = batch[2].to(device)\n",
        "\n",
        "    # Tell pytorch not to bother with constructing the compute graph during\n",
        "    # the forward pass, since this is only needed for backprop (training).\n",
        "    with torch.no_grad():\n",
        "\n",
        "      # Perform a forward pass\n",
        "      output = model(b_input_ids, b_input_mask)[0]\n",
        "\n",
        "    # loss\n",
        "    loss = ce_criterion(output.view(-1), b_labels[:, 0].view(-1))\n",
        "    total_eval_accuracy += torch.sum((output.view(-1) >= 0.5) == b_labels[:, 0].view(-1))\n",
        "    total_size += output.size()[0]\n",
        "\n",
        "    # Accumulate the development loss.\n",
        "    total_eval_loss += loss.item()\n",
        "\n",
        "  # Calculate the average loss over all of the batches.\n",
        "  avg_val_loss = total_eval_loss / len(dev_dataloader)\n",
        "\n",
        "  # Measure how long the development run took.\n",
        "  validation_time = format_time(time.time() - t0)\n",
        "\n",
        "  print(\"  Validation Loss: {0:.2f}\".format(avg_val_loss))\n",
        "  print(\"  Validation Acc: {0:.3f}\".format(total_eval_accuracy / total_size))\n",
        "  print(\"  Validation took: {:}\".format(validation_time))\n",
        "\n",
        "  # Record all statistics from this epoch.\n",
        "  training_stats.append(\n",
        "      {\n",
        "          'epoch': epoch_i + 1,\n",
        "          'Training Loss': avg_train_loss,\n",
        "          'Training Time': training_time,\n",
        "          'Valid. Loss': avg_val_loss,\n",
        "          'Validation Time': validation_time\n",
        "      })\n",
        "\n",
        "print(\"\")\n",
        "print(\"Training complete!\")\n",
        "\n",
        "print(\"Total training took {:} (h:mm:ss)\".format(format_time(time.time()-total_t0)))"
      ]
    },
    {
      "cell_type": "code",
      "source": [],
      "metadata": {
        "id": "CoMMFk-TkYs2"
      },
      "execution_count": null,
      "outputs": []
    },
    {
      "cell_type": "code",
      "execution_count": null,
      "metadata": {
        "id": "46JdqZssf1Pu"
      },
      "outputs": [],
      "source": [
        "import pandas as pd\n",
        "\n",
        "# Display floats with three decimal places.\n",
        "#pd.set_option('precision', 4)\n",
        "\n",
        "# Create a DataFrame from our training statistics.\n",
        "df_stats = pd.DataFrame(data=training_stats)\n",
        "\n",
        "# Use the 'epoch' as the row index.\n",
        "df_stats = df_stats.set_index('epoch')\n",
        "\n",
        "# Display the table.\n",
        "df_stats"
      ]
    },
    {
      "cell_type": "code",
      "execution_count": null,
      "metadata": {
        "id": "Ya44ZLK9UClM"
      },
      "outputs": [],
      "source": []
    },
    {
      "cell_type": "markdown",
      "metadata": {
        "id": "glJ7rGlQJWQQ"
      },
      "source": [
        "# 5. Performance On Test Set"
      ]
    },
    {
      "cell_type": "code",
      "execution_count": null,
      "metadata": {
        "id": "vjjC6kByUCsl"
      },
      "outputs": [],
      "source": [
        "# Prediction on test set\n",
        "\n",
        "print('Predicting values for {:,} test sentences...'.format(len(test_dataloader.dataset)))\n",
        "\n",
        "# Put model in evaluation mode\n",
        "model.eval()\n",
        "\n",
        "# Tracking variables\n",
        "total_test_loss = 0\n",
        "\n",
        "# Predict\n",
        "all_predictions = []\n",
        "all_labels = []\n",
        "for batch in test_dataloader:\n",
        "\n",
        "  # Add batch to GPU\n",
        "  b_input_ids = batch[0].to(device)\n",
        "  b_input_mask = batch[1].to(device)\n",
        "  b_labels = batch[2].to(device)\n",
        "\n",
        "  # Telling the model not to compute or store gradients, saving memory and\n",
        "  # speeding up prediction\n",
        "  with torch.no_grad():\n",
        "\n",
        "    # Perform a forward pass\n",
        "    output, ae = model(b_input_ids, b_input_mask)\n",
        "\n",
        "  # loss\n",
        "  loss = ce_criterion(output.view(-1), b_labels[:, 0].view(-1))\n",
        "  all_predictions.append(output.view(-1).detach().cpu().numpy())\n",
        "  all_labels.append(b_labels[:, 0].view(-1).detach().cpu().numpy())\n",
        "  # Accumulate the development loss.\n",
        "  total_test_loss += loss.item()\n",
        "\n",
        "# Calculate the average loss over all of the batches.\n",
        "avg_test_loss = total_test_loss / len(test_dataloader)\n",
        "\n",
        "print(avg_test_loss)\n",
        "print('    DONE.')"
      ]
    },
    {
      "cell_type": "code",
      "source": [
        "all_predictions = np.concatenate(all_predictions)\n",
        "all_labels = np.concatenate(all_labels)"
      ],
      "metadata": {
        "id": "uvTNy9NSX8o1"
      },
      "execution_count": null,
      "outputs": []
    },
    {
      "cell_type": "code",
      "source": [
        "print(np.mean([label == (pred >= 0.5) for label, pred in zip(all_labels, all_predictions)]))"
      ],
      "metadata": {
        "id": "KjoDyaGxOUL0"
      },
      "execution_count": null,
      "outputs": []
    },
    {
      "cell_type": "code",
      "execution_count": null,
      "metadata": {
        "id": "WSagmcRhsQQO"
      },
      "outputs": [],
      "source": [
        "all_predictions >= 0.5"
      ]
    },
    {
      "cell_type": "code",
      "source": [
        "plt.hist(all_predictions)"
      ],
      "metadata": {
        "id": "y49lJQIuOfJo"
      },
      "execution_count": null,
      "outputs": []
    },
    {
      "cell_type": "markdown",
      "source": [],
      "metadata": {
        "id": "ruVGYNsNOaGX"
      }
    },
    {
      "cell_type": "code",
      "execution_count": null,
      "metadata": {
        "id": "0kejKxBo8Ari"
      },
      "outputs": [],
      "source": []
    },
    {
      "cell_type": "code",
      "execution_count": null,
      "metadata": {
        "id": "4rfrQ8Vb8Ari"
      },
      "outputs": [],
      "source": []
    },
    {
      "cell_type": "code",
      "execution_count": null,
      "metadata": {
        "id": "lyCADiYE8Ari"
      },
      "outputs": [],
      "source": [
        "#print('mean abs', np.mean(np.abs(all_predictions - df[df.split == \"test\"].education.values)))\n",
        "df"
      ]
    },
    {
      "cell_type": "code",
      "execution_count": null,
      "metadata": {
        "id": "qE7OyEI_8Arj"
      },
      "outputs": [],
      "source": [
        "from matplotlib import pyplot as plt\n",
        "\n",
        "plt.scatter(df[df.split == \"test\"].age.values, all_predictions)\n",
        "plt.xlabel('ground_true')\n",
        "plt.ylabel('prediction')"
      ]
    },
    {
      "cell_type": "code",
      "execution_count": null,
      "metadata": {
        "id": "D6NE9yWF8Arj"
      },
      "outputs": [],
      "source": [
        "np.corrcoef(df[df.split == \"test\"].genre.values, all_predictions)"
      ]
    },
    {
      "cell_type": "code",
      "source": [
        "all"
      ],
      "metadata": {
        "id": "93-K2RE4xo4P"
      },
      "execution_count": null,
      "outputs": []
    },
    {
      "cell_type": "code",
      "source": [
        "train_df"
      ],
      "metadata": {
        "id": "gNxmkY2_0iZB"
      },
      "execution_count": null,
      "outputs": []
    },
    {
      "cell_type": "code",
      "source": [
        "print(all_predictions)"
      ],
      "metadata": {
        "id": "Z8cpBT3TNwvO"
      },
      "execution_count": null,
      "outputs": []
    },
    {
      "cell_type": "code",
      "source": [],
      "metadata": {
        "id": "mp4kxZ4LN6zz"
      },
      "execution_count": null,
      "outputs": []
    }
  ],
  "metadata": {
    "accelerator": "GPU",
    "colab": {
      "provenance": []
    },
    "kernelspec": {
      "display_name": "Python 3 (ipykernel)",
      "language": "python",
      "name": "python3"
    },
    "language_info": {
      "codemirror_mode": {
        "name": "ipython",
        "version": 3
      },
      "file_extension": ".py",
      "mimetype": "text/x-python",
      "name": "python",
      "nbconvert_exporter": "python",
      "pygments_lexer": "ipython3",
      "version": "3.7.16"
    }
  },
  "nbformat": 4,
  "nbformat_minor": 0
}